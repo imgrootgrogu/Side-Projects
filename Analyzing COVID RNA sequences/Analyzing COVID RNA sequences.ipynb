{
 "cells": [
  {
   "cell_type": "markdown",
   "metadata": {},
   "source": [
    "NCBI Datasets SARS-CoV-2 Data Package\n",
    "Sequences and metadata for a set of SARS-CoV-2 GenBank genomes or proteins\n",
    "\n",
    "The NCBI Datasets SARS-CoV-2 Data Package contains sequences and metadata for a set of requested SARS-CoV-2 GenBank genomes or proteins. The data package may include genome, coding sequence (CDS) and protein sequences in FASTA format, and a data report containing metadata in JSON Lines format.\n",
    "\n",
    "Documentations: https://www.ncbi.nlm.nih.gov/datasets/docs/v1/reference-docs/data-packages/sars-cov-2-genome/\n",
    "\n",
    "Biopython: https://biopython.org/docs/1.76/api/Bio.Entrez.html\n",
    "       http://biopython.org/DIST/docs/tutorial/Tutorial.html"
   ]
  },
  {
   "cell_type": "code",
   "execution_count": 2,
   "metadata": {},
   "outputs": [
    {
     "name": "stderr",
     "output_type": "stream",
     "text": [
      "C:\\Users\\bayonetta\\Anaconda3\\lib\\site-packages\\IPython\\core\\interactiveshell.py:2785: DtypeWarning: Columns (5) have mixed types. Specify dtype option on import or set low_memory=False.\n",
      "  interactivity=interactivity, compiler=compiler, result=result)\n"
     ]
    }
   ],
   "source": [
    "import pandas as pd\n",
    "metadata = pd.read_csv('ncbi_datasets.csv')"
   ]
  },
  {
   "cell_type": "code",
   "execution_count": 3,
   "metadata": {},
   "outputs": [
    {
     "data": {
      "text/html": [
       "<div>\n",
       "<style scoped>\n",
       "    .dataframe tbody tr th:only-of-type {\n",
       "        vertical-align: middle;\n",
       "    }\n",
       "\n",
       "    .dataframe tbody tr th {\n",
       "        vertical-align: top;\n",
       "    }\n",
       "\n",
       "    .dataframe thead th {\n",
       "        text-align: right;\n",
       "    }\n",
       "</style>\n",
       "<table border=\"1\" class=\"dataframe\">\n",
       "  <thead>\n",
       "    <tr style=\"text-align: right;\">\n",
       "      <th></th>\n",
       "      <th>Nucleotide Accession</th>\n",
       "      <th>Species Taxonomy Id</th>\n",
       "      <th>Species Name</th>\n",
       "      <th>Virus Genus</th>\n",
       "      <th>Virus Family</th>\n",
       "      <th>Isolate Name</th>\n",
       "      <th>Nucleotide Length</th>\n",
       "      <th>Sequence Type</th>\n",
       "      <th>Nuc Completeness</th>\n",
       "      <th>Geo Location</th>\n",
       "      <th>US State</th>\n",
       "      <th>Host Name</th>\n",
       "      <th>Host Taxonomy ID</th>\n",
       "      <th>Collection Date</th>\n",
       "      <th>BioProject</th>\n",
       "      <th>BioSample</th>\n",
       "    </tr>\n",
       "  </thead>\n",
       "  <tbody>\n",
       "    <tr>\n",
       "      <th>0</th>\n",
       "      <td>NC_045512.2</td>\n",
       "      <td>2697049</td>\n",
       "      <td>Severe acute respiratory syndrome coronavirus 2</td>\n",
       "      <td>Betacoronavirus</td>\n",
       "      <td>Coronaviridae</td>\n",
       "      <td>Wuhan-Hu-1</td>\n",
       "      <td>29903</td>\n",
       "      <td>RefSeq</td>\n",
       "      <td>complete</td>\n",
       "      <td>Asia; China</td>\n",
       "      <td>NaN</td>\n",
       "      <td>NaN</td>\n",
       "      <td>9606</td>\n",
       "      <td>2019-12</td>\n",
       "      <td>PRJNA485481</td>\n",
       "      <td>NaN</td>\n",
       "    </tr>\n",
       "    <tr>\n",
       "      <th>1</th>\n",
       "      <td>OM487257.1</td>\n",
       "      <td>2697049</td>\n",
       "      <td>Severe acute respiratory syndrome coronavirus 2</td>\n",
       "      <td>Betacoronavirus</td>\n",
       "      <td>Coronaviridae</td>\n",
       "      <td>SARS-CoV-2/human/USA/UT-UPHL-220129247957/2021</td>\n",
       "      <td>29815</td>\n",
       "      <td>GenBank</td>\n",
       "      <td>complete</td>\n",
       "      <td>North America; USA</td>\n",
       "      <td>NaN</td>\n",
       "      <td>NaN</td>\n",
       "      <td>9606</td>\n",
       "      <td>2021-12-23</td>\n",
       "      <td>PRJNA614995</td>\n",
       "      <td>SAMN25559487</td>\n",
       "    </tr>\n",
       "    <tr>\n",
       "      <th>2</th>\n",
       "      <td>OM403304.1</td>\n",
       "      <td>2697049</td>\n",
       "      <td>Severe acute respiratory syndrome coronavirus 2</td>\n",
       "      <td>Betacoronavirus</td>\n",
       "      <td>Coronaviridae</td>\n",
       "      <td>SARS-CoV-2/human/HKG/VM20001061-2/2020</td>\n",
       "      <td>29870</td>\n",
       "      <td>GenBank</td>\n",
       "      <td>complete</td>\n",
       "      <td>Asia; Hong Kong</td>\n",
       "      <td>NaN</td>\n",
       "      <td>NaN</td>\n",
       "      <td>9606</td>\n",
       "      <td>2020-01-23</td>\n",
       "      <td>NaN</td>\n",
       "      <td>NaN</td>\n",
       "    </tr>\n",
       "    <tr>\n",
       "      <th>3</th>\n",
       "      <td>OM403303.1</td>\n",
       "      <td>2697049</td>\n",
       "      <td>Severe acute respiratory syndrome coronavirus 2</td>\n",
       "      <td>Betacoronavirus</td>\n",
       "      <td>Coronaviridae</td>\n",
       "      <td>SARS-CoV-2/human/HKG/Original/2020</td>\n",
       "      <td>29851</td>\n",
       "      <td>GenBank</td>\n",
       "      <td>complete</td>\n",
       "      <td>Asia; Hong Kong</td>\n",
       "      <td>NaN</td>\n",
       "      <td>NaN</td>\n",
       "      <td>9606</td>\n",
       "      <td>2020-01-23</td>\n",
       "      <td>NaN</td>\n",
       "      <td>NaN</td>\n",
       "    </tr>\n",
       "    <tr>\n",
       "      <th>4</th>\n",
       "      <td>OM401120.1</td>\n",
       "      <td>2697049</td>\n",
       "      <td>Severe acute respiratory syndrome coronavirus 2</td>\n",
       "      <td>Betacoronavirus</td>\n",
       "      <td>Coronaviridae</td>\n",
       "      <td>SARS-CoV-2/human/USA/UT-UPHL-211112790633/2021</td>\n",
       "      <td>29712</td>\n",
       "      <td>GenBank</td>\n",
       "      <td>complete</td>\n",
       "      <td>North America; USA</td>\n",
       "      <td>NaN</td>\n",
       "      <td>NaN</td>\n",
       "      <td>9606</td>\n",
       "      <td>2021-09-25</td>\n",
       "      <td>PRJNA614995</td>\n",
       "      <td>SAMN23427251</td>\n",
       "    </tr>\n",
       "  </tbody>\n",
       "</table>\n",
       "</div>"
      ],
      "text/plain": [
       "  Nucleotide Accession  Species Taxonomy Id  \\\n",
       "0          NC_045512.2              2697049   \n",
       "1           OM487257.1              2697049   \n",
       "2           OM403304.1              2697049   \n",
       "3           OM403303.1              2697049   \n",
       "4           OM401120.1              2697049   \n",
       "\n",
       "                                      Species Name      Virus Genus  \\\n",
       "0  Severe acute respiratory syndrome coronavirus 2  Betacoronavirus   \n",
       "1  Severe acute respiratory syndrome coronavirus 2  Betacoronavirus   \n",
       "2  Severe acute respiratory syndrome coronavirus 2  Betacoronavirus   \n",
       "3  Severe acute respiratory syndrome coronavirus 2  Betacoronavirus   \n",
       "4  Severe acute respiratory syndrome coronavirus 2  Betacoronavirus   \n",
       "\n",
       "    Virus Family                                    Isolate Name  \\\n",
       "0  Coronaviridae                                      Wuhan-Hu-1   \n",
       "1  Coronaviridae  SARS-CoV-2/human/USA/UT-UPHL-220129247957/2021   \n",
       "2  Coronaviridae          SARS-CoV-2/human/HKG/VM20001061-2/2020   \n",
       "3  Coronaviridae              SARS-CoV-2/human/HKG/Original/2020   \n",
       "4  Coronaviridae  SARS-CoV-2/human/USA/UT-UPHL-211112790633/2021   \n",
       "\n",
       "   Nucleotide Length Sequence Type Nuc Completeness        Geo Location  \\\n",
       "0              29903        RefSeq         complete         Asia; China   \n",
       "1              29815       GenBank         complete  North America; USA   \n",
       "2              29870       GenBank         complete     Asia; Hong Kong   \n",
       "3              29851       GenBank         complete     Asia; Hong Kong   \n",
       "4              29712       GenBank         complete  North America; USA   \n",
       "\n",
       "   US State  Host Name  Host Taxonomy ID Collection Date   BioProject  \\\n",
       "0       NaN        NaN              9606         2019-12  PRJNA485481   \n",
       "1       NaN        NaN              9606      2021-12-23  PRJNA614995   \n",
       "2       NaN        NaN              9606      2020-01-23          NaN   \n",
       "3       NaN        NaN              9606      2020-01-23          NaN   \n",
       "4       NaN        NaN              9606      2021-09-25  PRJNA614995   \n",
       "\n",
       "      BioSample  \n",
       "0           NaN  \n",
       "1  SAMN25559487  \n",
       "2           NaN  \n",
       "3           NaN  \n",
       "4  SAMN23427251  "
      ]
     },
     "execution_count": 3,
     "metadata": {},
     "output_type": "execute_result"
    }
   ],
   "source": [
    "metadata.head()"
   ]
  },
  {
   "cell_type": "code",
   "execution_count": 4,
   "metadata": {},
   "outputs": [
    {
     "data": {
      "text/plain": [
       "(847791, 16)"
      ]
     },
     "execution_count": 4,
     "metadata": {},
     "output_type": "execute_result"
    }
   ],
   "source": [
    "metadata.shape"
   ]
  },
  {
   "cell_type": "code",
   "execution_count": 6,
   "metadata": {},
   "outputs": [],
   "source": [
    "metadata['Collection Date'] = pd.to_datetime(metadata['Collection Date'])"
   ]
  },
  {
   "cell_type": "code",
   "execution_count": 9,
   "metadata": {},
   "outputs": [
    {
     "name": "stdout",
     "output_type": "stream",
     "text": [
      "<class 'pandas.core.frame.DataFrame'>\n",
      "RangeIndex: 847791 entries, 0 to 847790\n",
      "Data columns (total 16 columns):\n",
      "Nucleotide Accession    847791 non-null object\n",
      "Species Taxonomy Id     847791 non-null int64\n",
      "Species Name            847791 non-null object\n",
      "Virus Genus             847791 non-null object\n",
      "Virus Family            847791 non-null object\n",
      "Isolate Name            609653 non-null object\n",
      "Nucleotide Length       847791 non-null int64\n",
      "Sequence Type           847791 non-null object\n",
      "Nuc Completeness        847791 non-null object\n",
      "Geo Location            847720 non-null object\n",
      "US State                0 non-null float64\n",
      "Host Name               0 non-null float64\n",
      "Host Taxonomy ID        847791 non-null int64\n",
      "Collection Date         847595 non-null datetime64[ns]\n",
      "BioProject              611783 non-null object\n",
      "BioSample               590586 non-null object\n",
      "dtypes: datetime64[ns](1), float64(2), int64(3), object(10)\n",
      "memory usage: 103.5+ MB\n"
     ]
    }
   ],
   "source": [
    "metadata.info()"
   ]
  },
  {
   "cell_type": "code",
   "execution_count": 12,
   "metadata": {},
   "outputs": [],
   "source": [
    "# iterate each columun name and change the columns title into lowercase and reformat each one with '_' instead of space.\n",
    "metadata.columns = [c.lower().replace(\" \",\"_\") for c in metadata.columns ]"
   ]
  },
  {
   "cell_type": "code",
   "execution_count": 11,
   "metadata": {},
   "outputs": [
    {
     "data": {
      "text/plain": [
       "Index(['nucleotide_accession', 'species_taxonomy_id', 'species_name',\n",
       "       'virus_genus', 'virus_family', 'isolate_name', 'nucleotide_length',\n",
       "       'sequence_type', 'nuc_completeness', 'geo_location', 'us_state',\n",
       "       'host_name', 'host_taxonomy_id', 'collection_date', 'bioproject',\n",
       "       'biosample'],\n",
       "      dtype='object')"
      ]
     },
     "execution_count": 11,
     "metadata": {},
     "output_type": "execute_result"
    }
   ],
   "source": [
    "metadata.columns"
   ]
  },
  {
   "cell_type": "code",
   "execution_count": 14,
   "metadata": {},
   "outputs": [],
   "source": [
    "# slice the continents from goe_location, ';.+'is a regex which means take anything before ';'.\n",
    "metadata['continent'] = metadata['geo_location'].str.replace(\";.+\",\"\",regex=True)"
   ]
  },
  {
   "cell_type": "code",
   "execution_count": 16,
   "metadata": {},
   "outputs": [
    {
     "data": {
      "text/html": [
       "<div>\n",
       "<style scoped>\n",
       "    .dataframe tbody tr th:only-of-type {\n",
       "        vertical-align: middle;\n",
       "    }\n",
       "\n",
       "    .dataframe tbody tr th {\n",
       "        vertical-align: top;\n",
       "    }\n",
       "\n",
       "    .dataframe thead th {\n",
       "        text-align: right;\n",
       "    }\n",
       "</style>\n",
       "<table border=\"1\" class=\"dataframe\">\n",
       "  <thead>\n",
       "    <tr style=\"text-align: right;\">\n",
       "      <th></th>\n",
       "      <th>nucleotide_accession</th>\n",
       "      <th>species_taxonomy_id</th>\n",
       "      <th>species_name</th>\n",
       "      <th>virus_genus</th>\n",
       "      <th>virus_family</th>\n",
       "      <th>isolate_name</th>\n",
       "      <th>nucleotide_length</th>\n",
       "      <th>sequence_type</th>\n",
       "      <th>nuc_completeness</th>\n",
       "      <th>geo_location</th>\n",
       "      <th>us_state</th>\n",
       "      <th>host_name</th>\n",
       "      <th>host_taxonomy_id</th>\n",
       "      <th>collection_date</th>\n",
       "      <th>bioproject</th>\n",
       "      <th>biosample</th>\n",
       "      <th>continent</th>\n",
       "    </tr>\n",
       "    <tr>\n",
       "      <th>continent</th>\n",
       "      <th></th>\n",
       "      <th></th>\n",
       "      <th></th>\n",
       "      <th></th>\n",
       "      <th></th>\n",
       "      <th></th>\n",
       "      <th></th>\n",
       "      <th></th>\n",
       "      <th></th>\n",
       "      <th></th>\n",
       "      <th></th>\n",
       "      <th></th>\n",
       "      <th></th>\n",
       "      <th></th>\n",
       "      <th></th>\n",
       "      <th></th>\n",
       "      <th></th>\n",
       "    </tr>\n",
       "  </thead>\n",
       "  <tbody>\n",
       "    <tr>\n",
       "      <th>Africa</th>\n",
       "      <td>OL336607.1</td>\n",
       "      <td>2697049</td>\n",
       "      <td>Severe acute respiratory syndrome coronavirus 2</td>\n",
       "      <td>Betacoronavirus</td>\n",
       "      <td>Coronaviridae</td>\n",
       "      <td>SARS-CoV-2/human/MLI/M00960/2020</td>\n",
       "      <td>29890</td>\n",
       "      <td>GenBank</td>\n",
       "      <td>complete</td>\n",
       "      <td>Africa; Mali</td>\n",
       "      <td>NaN</td>\n",
       "      <td>NaN</td>\n",
       "      <td>9606</td>\n",
       "      <td>2020-02-06</td>\n",
       "      <td>NaN</td>\n",
       "      <td>NaN</td>\n",
       "      <td>Africa</td>\n",
       "    </tr>\n",
       "    <tr>\n",
       "      <th>Asia</th>\n",
       "      <td>NC_045512.2</td>\n",
       "      <td>2697049</td>\n",
       "      <td>Severe acute respiratory syndrome coronavirus 2</td>\n",
       "      <td>Betacoronavirus</td>\n",
       "      <td>Coronaviridae</td>\n",
       "      <td>Wuhan-Hu-1</td>\n",
       "      <td>29903</td>\n",
       "      <td>RefSeq</td>\n",
       "      <td>complete</td>\n",
       "      <td>Asia; China</td>\n",
       "      <td>NaN</td>\n",
       "      <td>NaN</td>\n",
       "      <td>9606</td>\n",
       "      <td>2019-12-01</td>\n",
       "      <td>PRJNA485481</td>\n",
       "      <td>NaN</td>\n",
       "      <td>Asia</td>\n",
       "    </tr>\n",
       "    <tr>\n",
       "      <th>Europe</th>\n",
       "      <td>OU393175.1</td>\n",
       "      <td>2697049</td>\n",
       "      <td>Severe acute respiratory syndrome coronavirus 2</td>\n",
       "      <td>Betacoronavirus</td>\n",
       "      <td>Coronaviridae</td>\n",
       "      <td>NaN</td>\n",
       "      <td>29890</td>\n",
       "      <td>GenBank</td>\n",
       "      <td>complete</td>\n",
       "      <td>Europe; United Kingdom:England</td>\n",
       "      <td>NaN</td>\n",
       "      <td>NaN</td>\n",
       "      <td>9606</td>\n",
       "      <td>2020-01-01</td>\n",
       "      <td>PRJEB37886</td>\n",
       "      <td>SAMEA9354774</td>\n",
       "      <td>Europe</td>\n",
       "    </tr>\n",
       "    <tr>\n",
       "      <th>North America</th>\n",
       "      <td>OL467832.1</td>\n",
       "      <td>2697049</td>\n",
       "      <td>Severe acute respiratory syndrome coronavirus 2</td>\n",
       "      <td>Betacoronavirus</td>\n",
       "      <td>Coronaviridae</td>\n",
       "      <td>SARS-CoV-2/human/USA/hCoV_19_USA_ID_IVREF_6520...</td>\n",
       "      <td>29831</td>\n",
       "      <td>GenBank</td>\n",
       "      <td>complete</td>\n",
       "      <td>North America; USA: Bingham, ID</td>\n",
       "      <td>NaN</td>\n",
       "      <td>NaN</td>\n",
       "      <td>9606</td>\n",
       "      <td>2020-01-01</td>\n",
       "      <td>NaN</td>\n",
       "      <td>NaN</td>\n",
       "      <td>North America</td>\n",
       "    </tr>\n",
       "    <tr>\n",
       "      <th>Oceania</th>\n",
       "      <td>MW320919.1</td>\n",
       "      <td>2697049</td>\n",
       "      <td>Severe acute respiratory syndrome coronavirus 2</td>\n",
       "      <td>Betacoronavirus</td>\n",
       "      <td>Coronaviridae</td>\n",
       "      <td>SARS-CoV-2/human/AUS/VIC16874/2020</td>\n",
       "      <td>29790</td>\n",
       "      <td>GenBank</td>\n",
       "      <td>complete</td>\n",
       "      <td>Oceania; Australia: Victoria</td>\n",
       "      <td>NaN</td>\n",
       "      <td>NaN</td>\n",
       "      <td>9606</td>\n",
       "      <td>2020-01-01</td>\n",
       "      <td>NaN</td>\n",
       "      <td>SAMN16975285</td>\n",
       "      <td>Oceania</td>\n",
       "    </tr>\n",
       "    <tr>\n",
       "      <th>South America</th>\n",
       "      <td>MZ477858.1</td>\n",
       "      <td>2697049</td>\n",
       "      <td>Severe acute respiratory syndrome coronavirus 2</td>\n",
       "      <td>Betacoronavirus</td>\n",
       "      <td>Coronaviridae</td>\n",
       "      <td>SARS-CoV-2/human/BRA/PR-HF441/2020</td>\n",
       "      <td>29779</td>\n",
       "      <td>GenBank</td>\n",
       "      <td>complete</td>\n",
       "      <td>South America; Brazil: Parana</td>\n",
       "      <td>NaN</td>\n",
       "      <td>NaN</td>\n",
       "      <td>9606</td>\n",
       "      <td>2020-01-01</td>\n",
       "      <td>NaN</td>\n",
       "      <td>NaN</td>\n",
       "      <td>South America</td>\n",
       "    </tr>\n",
       "  </tbody>\n",
       "</table>\n",
       "</div>"
      ],
      "text/plain": [
       "              nucleotide_accession  species_taxonomy_id  \\\n",
       "continent                                                 \n",
       "Africa                  OL336607.1              2697049   \n",
       "Asia                   NC_045512.2              2697049   \n",
       "Europe                  OU393175.1              2697049   \n",
       "North America           OL467832.1              2697049   \n",
       "Oceania                 MW320919.1              2697049   \n",
       "South America           MZ477858.1              2697049   \n",
       "\n",
       "                                                  species_name  \\\n",
       "continent                                                        \n",
       "Africa         Severe acute respiratory syndrome coronavirus 2   \n",
       "Asia           Severe acute respiratory syndrome coronavirus 2   \n",
       "Europe         Severe acute respiratory syndrome coronavirus 2   \n",
       "North America  Severe acute respiratory syndrome coronavirus 2   \n",
       "Oceania        Severe acute respiratory syndrome coronavirus 2   \n",
       "South America  Severe acute respiratory syndrome coronavirus 2   \n",
       "\n",
       "                   virus_genus   virus_family  \\\n",
       "continent                                       \n",
       "Africa         Betacoronavirus  Coronaviridae   \n",
       "Asia           Betacoronavirus  Coronaviridae   \n",
       "Europe         Betacoronavirus  Coronaviridae   \n",
       "North America  Betacoronavirus  Coronaviridae   \n",
       "Oceania        Betacoronavirus  Coronaviridae   \n",
       "South America  Betacoronavirus  Coronaviridae   \n",
       "\n",
       "                                                    isolate_name  \\\n",
       "continent                                                          \n",
       "Africa                          SARS-CoV-2/human/MLI/M00960/2020   \n",
       "Asia                                                  Wuhan-Hu-1   \n",
       "Europe                                                       NaN   \n",
       "North America  SARS-CoV-2/human/USA/hCoV_19_USA_ID_IVREF_6520...   \n",
       "Oceania                       SARS-CoV-2/human/AUS/VIC16874/2020   \n",
       "South America                 SARS-CoV-2/human/BRA/PR-HF441/2020   \n",
       "\n",
       "               nucleotide_length sequence_type nuc_completeness  \\\n",
       "continent                                                         \n",
       "Africa                     29890       GenBank         complete   \n",
       "Asia                       29903        RefSeq         complete   \n",
       "Europe                     29890       GenBank         complete   \n",
       "North America              29831       GenBank         complete   \n",
       "Oceania                    29790       GenBank         complete   \n",
       "South America              29779       GenBank         complete   \n",
       "\n",
       "                                  geo_location  us_state  host_name  \\\n",
       "continent                                                             \n",
       "Africa                            Africa; Mali       NaN        NaN   \n",
       "Asia                               Asia; China       NaN        NaN   \n",
       "Europe          Europe; United Kingdom:England       NaN        NaN   \n",
       "North America  North America; USA: Bingham, ID       NaN        NaN   \n",
       "Oceania           Oceania; Australia: Victoria       NaN        NaN   \n",
       "South America    South America; Brazil: Parana       NaN        NaN   \n",
       "\n",
       "               host_taxonomy_id collection_date   bioproject     biosample  \\\n",
       "continent                                                                    \n",
       "Africa                     9606      2020-02-06          NaN           NaN   \n",
       "Asia                       9606      2019-12-01  PRJNA485481           NaN   \n",
       "Europe                     9606      2020-01-01   PRJEB37886  SAMEA9354774   \n",
       "North America              9606      2020-01-01          NaN           NaN   \n",
       "Oceania                    9606      2020-01-01          NaN  SAMN16975285   \n",
       "South America              9606      2020-01-01          NaN           NaN   \n",
       "\n",
       "                   continent  \n",
       "continent                     \n",
       "Africa                Africa  \n",
       "Asia                    Asia  \n",
       "Europe                Europe  \n",
       "North America  North America  \n",
       "Oceania              Oceania  \n",
       "South America  South America  "
      ]
     },
     "execution_count": 16,
     "metadata": {},
     "output_type": "execute_result"
    }
   ],
   "source": [
    "# take the first variant recorded in each contient.\n",
    "metadata.groupby(\"continent\").apply(lambda x: x.sort_values(\"collection_date\").iloc[0])"
   ]
  },
  {
   "cell_type": "code",
   "execution_count": 17,
   "metadata": {},
   "outputs": [
    {
     "data": {
      "text/plain": [
       "North America    571069\n",
       "Europe           254520\n",
       "Oceania           10603\n",
       "Asia               8581\n",
       "Africa             2192\n",
       "South America       755\n",
       "Name: continent, dtype: int64"
      ]
     },
     "execution_count": 17,
     "metadata": {},
     "output_type": "execute_result"
    }
   ],
   "source": [
    "metadata['continent'].value_counts()"
   ]
  },
  {
   "cell_type": "code",
   "execution_count": 18,
   "metadata": {},
   "outputs": [
    {
     "data": {
      "text/plain": [
       "count    847791.000000\n",
       "mean      29825.747932\n",
       "std          69.937482\n",
       "min        2859.000000\n",
       "25%       29786.000000\n",
       "50%       29819.000000\n",
       "75%       29884.000000\n",
       "max       30018.000000\n",
       "Name: nucleotide_length, dtype: float64"
      ]
     },
     "execution_count": 18,
     "metadata": {},
     "output_type": "execute_result"
    }
   ],
   "source": [
    "metadata['nucleotide_length'].describe()"
   ]
  },
  {
   "cell_type": "code",
   "execution_count": 19,
   "metadata": {
    "scrolled": true
   },
   "outputs": [
    {
     "data": {
      "text/html": [
       "<div>\n",
       "<style scoped>\n",
       "    .dataframe tbody tr th:only-of-type {\n",
       "        vertical-align: middle;\n",
       "    }\n",
       "\n",
       "    .dataframe tbody tr th {\n",
       "        vertical-align: top;\n",
       "    }\n",
       "\n",
       "    .dataframe thead th {\n",
       "        text-align: right;\n",
       "    }\n",
       "</style>\n",
       "<table border=\"1\" class=\"dataframe\">\n",
       "  <thead>\n",
       "    <tr style=\"text-align: right;\">\n",
       "      <th></th>\n",
       "      <th>nucleotide_accession</th>\n",
       "      <th>species_taxonomy_id</th>\n",
       "      <th>species_name</th>\n",
       "      <th>virus_genus</th>\n",
       "      <th>virus_family</th>\n",
       "      <th>isolate_name</th>\n",
       "      <th>nucleotide_length</th>\n",
       "      <th>sequence_type</th>\n",
       "      <th>nuc_completeness</th>\n",
       "      <th>geo_location</th>\n",
       "      <th>us_state</th>\n",
       "      <th>host_name</th>\n",
       "      <th>host_taxonomy_id</th>\n",
       "      <th>collection_date</th>\n",
       "      <th>bioproject</th>\n",
       "      <th>biosample</th>\n",
       "      <th>continent</th>\n",
       "    </tr>\n",
       "  </thead>\n",
       "  <tbody>\n",
       "    <tr>\n",
       "      <th>847723</th>\n",
       "      <td>LR877184.1</td>\n",
       "      <td>2697049</td>\n",
       "      <td>Severe acute respiratory syndrome coronavirus 2</td>\n",
       "      <td>Betacoronavirus</td>\n",
       "      <td>Coronaviridae</td>\n",
       "      <td>NaN</td>\n",
       "      <td>2859</td>\n",
       "      <td>GenBank</td>\n",
       "      <td>complete</td>\n",
       "      <td>Europe; Sweden:Stockholm, Sweden</td>\n",
       "      <td>NaN</td>\n",
       "      <td>NaN</td>\n",
       "      <td>9606</td>\n",
       "      <td>2020-04-26</td>\n",
       "      <td>PRJEB39632</td>\n",
       "      <td>SAMEA7098098</td>\n",
       "      <td>Europe</td>\n",
       "    </tr>\n",
       "  </tbody>\n",
       "</table>\n",
       "</div>"
      ],
      "text/plain": [
       "       nucleotide_accession  species_taxonomy_id  \\\n",
       "847723           LR877184.1              2697049   \n",
       "\n",
       "                                           species_name      virus_genus  \\\n",
       "847723  Severe acute respiratory syndrome coronavirus 2  Betacoronavirus   \n",
       "\n",
       "         virus_family isolate_name  nucleotide_length sequence_type  \\\n",
       "847723  Coronaviridae          NaN               2859       GenBank   \n",
       "\n",
       "       nuc_completeness                      geo_location  us_state  \\\n",
       "847723         complete  Europe; Sweden:Stockholm, Sweden       NaN   \n",
       "\n",
       "        host_name  host_taxonomy_id collection_date  bioproject     biosample  \\\n",
       "847723        NaN              9606      2020-04-26  PRJEB39632  SAMEA7098098   \n",
       "\n",
       "       continent  \n",
       "847723    Europe  "
      ]
     },
     "execution_count": 19,
     "metadata": {},
     "output_type": "execute_result"
    }
   ],
   "source": [
    "metadata[metadata['nucleotide_length'] == metadata['nucleotide_length'].min()]"
   ]
  },
  {
   "cell_type": "markdown",
   "metadata": {},
   "source": [
    "Seems like there is a typo here in 'nucleotide_length', because the 'nuc_completeness' is in the state 'complete'."
   ]
  },
  {
   "cell_type": "code",
   "execution_count": 23,
   "metadata": {},
   "outputs": [],
   "source": [
    "# truncate the dataset based on month\n",
    "sample_month = pd.Series(metadata['collection_date'].values.astype(\"<M8[M]\"))"
   ]
  },
  {
   "cell_type": "code",
   "execution_count": 26,
   "metadata": {},
   "outputs": [
    {
     "data": {
      "text/plain": [
       "<matplotlib.axes._subplots.AxesSubplot at 0x1b28474d2b0>"
      ]
     },
     "execution_count": 26,
     "metadata": {},
     "output_type": "execute_result"
    },
    {
     "data": {
      "image/png": "[encoded data removed]",
      "text/plain": [
       "<Figure size 432x288 with 1 Axes>"
      ]
     },
     "metadata": {},
     "output_type": "display_data"
    }
   ],
   "source": [
    "sample_month.value_counts().sort_index().plot()"
   ]
  },
  {
   "cell_type": "code",
   "execution_count": 29,
   "metadata": {},
   "outputs": [
    {
     "data": {
      "text/plain": [
       "GenBank    847790\n",
       "RefSeq          1\n",
       "Name: sequence_type, dtype: int64"
      ]
     },
     "execution_count": 29,
     "metadata": {},
     "output_type": "execute_result"
    }
   ],
   "source": [
    "metadata['sequence_type'].value_counts()"
   ]
  },
  {
   "cell_type": "code",
   "execution_count": 30,
   "metadata": {},
   "outputs": [
    {
     "data": {
      "text/html": [
       "<div>\n",
       "<style scoped>\n",
       "    .dataframe tbody tr th:only-of-type {\n",
       "        vertical-align: middle;\n",
       "    }\n",
       "\n",
       "    .dataframe tbody tr th {\n",
       "        vertical-align: top;\n",
       "    }\n",
       "\n",
       "    .dataframe thead th {\n",
       "        text-align: right;\n",
       "    }\n",
       "</style>\n",
       "<table border=\"1\" class=\"dataframe\">\n",
       "  <thead>\n",
       "    <tr style=\"text-align: right;\">\n",
       "      <th></th>\n",
       "      <th>nucleotide_accession</th>\n",
       "      <th>species_taxonomy_id</th>\n",
       "      <th>species_name</th>\n",
       "      <th>virus_genus</th>\n",
       "      <th>virus_family</th>\n",
       "      <th>isolate_name</th>\n",
       "      <th>nucleotide_length</th>\n",
       "      <th>sequence_type</th>\n",
       "      <th>nuc_completeness</th>\n",
       "      <th>geo_location</th>\n",
       "      <th>us_state</th>\n",
       "      <th>host_name</th>\n",
       "      <th>host_taxonomy_id</th>\n",
       "      <th>collection_date</th>\n",
       "      <th>bioproject</th>\n",
       "      <th>biosample</th>\n",
       "      <th>continent</th>\n",
       "    </tr>\n",
       "  </thead>\n",
       "  <tbody>\n",
       "    <tr>\n",
       "      <th>0</th>\n",
       "      <td>NC_045512.2</td>\n",
       "      <td>2697049</td>\n",
       "      <td>Severe acute respiratory syndrome coronavirus 2</td>\n",
       "      <td>Betacoronavirus</td>\n",
       "      <td>Coronaviridae</td>\n",
       "      <td>Wuhan-Hu-1</td>\n",
       "      <td>29903</td>\n",
       "      <td>RefSeq</td>\n",
       "      <td>complete</td>\n",
       "      <td>Asia; China</td>\n",
       "      <td>NaN</td>\n",
       "      <td>NaN</td>\n",
       "      <td>9606</td>\n",
       "      <td>2019-12-01</td>\n",
       "      <td>PRJNA485481</td>\n",
       "      <td>NaN</td>\n",
       "      <td>Asia</td>\n",
       "    </tr>\n",
       "  </tbody>\n",
       "</table>\n",
       "</div>"
      ],
      "text/plain": [
       "  nucleotide_accession  species_taxonomy_id  \\\n",
       "0          NC_045512.2              2697049   \n",
       "\n",
       "                                      species_name      virus_genus  \\\n",
       "0  Severe acute respiratory syndrome coronavirus 2  Betacoronavirus   \n",
       "\n",
       "    virus_family isolate_name  nucleotide_length sequence_type  \\\n",
       "0  Coronaviridae   Wuhan-Hu-1              29903        RefSeq   \n",
       "\n",
       "  nuc_completeness geo_location  us_state  host_name  host_taxonomy_id  \\\n",
       "0         complete  Asia; China       NaN        NaN              9606   \n",
       "\n",
       "  collection_date   bioproject biosample continent  \n",
       "0      2019-12-01  PRJNA485481       NaN      Asia  "
      ]
     },
     "execution_count": 30,
     "metadata": {},
     "output_type": "execute_result"
    }
   ],
   "source": [
    "metadata[metadata['sequence_type']=='RefSeq']"
   ]
  },
  {
   "cell_type": "code",
   "execution_count": 32,
   "metadata": {},
   "outputs": [
    {
     "data": {
      "text/html": [
       "<div>\n",
       "<style scoped>\n",
       "    .dataframe tbody tr th:only-of-type {\n",
       "        vertical-align: middle;\n",
       "    }\n",
       "\n",
       "    .dataframe tbody tr th {\n",
       "        vertical-align: top;\n",
       "    }\n",
       "\n",
       "    .dataframe thead th {\n",
       "        text-align: right;\n",
       "    }\n",
       "</style>\n",
       "<table border=\"1\" class=\"dataframe\">\n",
       "  <thead>\n",
       "    <tr style=\"text-align: right;\">\n",
       "      <th></th>\n",
       "      <th>nucleotide_accession</th>\n",
       "      <th>species_taxonomy_id</th>\n",
       "      <th>species_name</th>\n",
       "      <th>virus_genus</th>\n",
       "      <th>virus_family</th>\n",
       "      <th>isolate_name</th>\n",
       "      <th>nucleotide_length</th>\n",
       "      <th>sequence_type</th>\n",
       "      <th>nuc_completeness</th>\n",
       "      <th>geo_location</th>\n",
       "      <th>us_state</th>\n",
       "      <th>host_name</th>\n",
       "      <th>host_taxonomy_id</th>\n",
       "      <th>collection_date</th>\n",
       "      <th>bioproject</th>\n",
       "      <th>biosample</th>\n",
       "      <th>continent</th>\n",
       "    </tr>\n",
       "  </thead>\n",
       "  <tbody>\n",
       "    <tr>\n",
       "      <th>85804</th>\n",
       "      <td>OM108163.1</td>\n",
       "      <td>2697049</td>\n",
       "      <td>Severe acute respiratory syndrome coronavirus 2</td>\n",
       "      <td>Betacoronavirus</td>\n",
       "      <td>Coronaviridae</td>\n",
       "      <td>SARS-CoV-2/human/CHN/Delta-3/2021</td>\n",
       "      <td>29860</td>\n",
       "      <td>GenBank</td>\n",
       "      <td>complete</td>\n",
       "      <td>Asia; China: Beijing</td>\n",
       "      <td>NaN</td>\n",
       "      <td>NaN</td>\n",
       "      <td>9606</td>\n",
       "      <td>2021-08-14</td>\n",
       "      <td>NaN</td>\n",
       "      <td>NaN</td>\n",
       "      <td>Asia</td>\n",
       "    </tr>\n",
       "    <tr>\n",
       "      <th>85948</th>\n",
       "      <td>OM061695.1</td>\n",
       "      <td>2697049</td>\n",
       "      <td>Severe acute respiratory syndrome coronavirus 2</td>\n",
       "      <td>Betacoronavirus</td>\n",
       "      <td>Coronaviridae</td>\n",
       "      <td>SARS-CoV-2/human/CHN/Delta-1/2021</td>\n",
       "      <td>29858</td>\n",
       "      <td>GenBank</td>\n",
       "      <td>complete</td>\n",
       "      <td>Asia; China: Beijing</td>\n",
       "      <td>NaN</td>\n",
       "      <td>NaN</td>\n",
       "      <td>9606</td>\n",
       "      <td>2021-08-10</td>\n",
       "      <td>NaN</td>\n",
       "      <td>NaN</td>\n",
       "      <td>Asia</td>\n",
       "    </tr>\n",
       "    <tr>\n",
       "      <th>251375</th>\n",
       "      <td>OK091006.1</td>\n",
       "      <td>2697049</td>\n",
       "      <td>Severe acute respiratory syndrome coronavirus 2</td>\n",
       "      <td>Betacoronavirus</td>\n",
       "      <td>Coronaviridae</td>\n",
       "      <td>SARS-CoV-2/human/JPN/SARS-CoV-2, B.1.617.2 lin...</td>\n",
       "      <td>29836</td>\n",
       "      <td>GenBank</td>\n",
       "      <td>complete</td>\n",
       "      <td>Asia; Japan</td>\n",
       "      <td>NaN</td>\n",
       "      <td>NaN</td>\n",
       "      <td>9606</td>\n",
       "      <td>2021-08-24</td>\n",
       "      <td>NaN</td>\n",
       "      <td>NaN</td>\n",
       "      <td>Asia</td>\n",
       "    </tr>\n",
       "    <tr>\n",
       "      <th>665095</th>\n",
       "      <td>OM108132.1</td>\n",
       "      <td>2697049</td>\n",
       "      <td>Severe acute respiratory syndrome coronavirus 2</td>\n",
       "      <td>Betacoronavirus</td>\n",
       "      <td>Coronaviridae</td>\n",
       "      <td>SARS-CoV-2/human/CHN/Delta-2/2021</td>\n",
       "      <td>29858</td>\n",
       "      <td>GenBank</td>\n",
       "      <td>complete</td>\n",
       "      <td>Asia; China: Beijing</td>\n",
       "      <td>NaN</td>\n",
       "      <td>NaN</td>\n",
       "      <td>9606</td>\n",
       "      <td>2021-08-11</td>\n",
       "      <td>NaN</td>\n",
       "      <td>NaN</td>\n",
       "      <td>Asia</td>\n",
       "    </tr>\n",
       "  </tbody>\n",
       "</table>\n",
       "</div>"
      ],
      "text/plain": [
       "       nucleotide_accession  species_taxonomy_id  \\\n",
       "85804            OM108163.1              2697049   \n",
       "85948            OM061695.1              2697049   \n",
       "251375           OK091006.1              2697049   \n",
       "665095           OM108132.1              2697049   \n",
       "\n",
       "                                           species_name      virus_genus  \\\n",
       "85804   Severe acute respiratory syndrome coronavirus 2  Betacoronavirus   \n",
       "85948   Severe acute respiratory syndrome coronavirus 2  Betacoronavirus   \n",
       "251375  Severe acute respiratory syndrome coronavirus 2  Betacoronavirus   \n",
       "665095  Severe acute respiratory syndrome coronavirus 2  Betacoronavirus   \n",
       "\n",
       "         virus_family                                       isolate_name  \\\n",
       "85804   Coronaviridae                  SARS-CoV-2/human/CHN/Delta-3/2021   \n",
       "85948   Coronaviridae                  SARS-CoV-2/human/CHN/Delta-1/2021   \n",
       "251375  Coronaviridae  SARS-CoV-2/human/JPN/SARS-CoV-2, B.1.617.2 lin...   \n",
       "665095  Coronaviridae                  SARS-CoV-2/human/CHN/Delta-2/2021   \n",
       "\n",
       "        nucleotide_length sequence_type nuc_completeness  \\\n",
       "85804               29860       GenBank         complete   \n",
       "85948               29858       GenBank         complete   \n",
       "251375              29836       GenBank         complete   \n",
       "665095              29858       GenBank         complete   \n",
       "\n",
       "                geo_location  us_state  host_name  host_taxonomy_id  \\\n",
       "85804   Asia; China: Beijing       NaN        NaN              9606   \n",
       "85948   Asia; China: Beijing       NaN        NaN              9606   \n",
       "251375           Asia; Japan       NaN        NaN              9606   \n",
       "665095  Asia; China: Beijing       NaN        NaN              9606   \n",
       "\n",
       "       collection_date bioproject biosample continent  \n",
       "85804       2021-08-14        NaN       NaN      Asia  \n",
       "85948       2021-08-10        NaN       NaN      Asia  \n",
       "251375      2021-08-24        NaN       NaN      Asia  \n",
       "665095      2021-08-11        NaN       NaN      Asia  "
      ]
     },
     "execution_count": 32,
     "metadata": {},
     "output_type": "execute_result"
    }
   ],
   "source": [
    "metadata[metadata['isolate_name'].str.contains('Delta').fillna(False)]"
   ]
  },
  {
   "cell_type": "code",
   "execution_count": 33,
   "metadata": {},
   "outputs": [
    {
     "data": {
      "text/html": [
       "<div>\n",
       "<style scoped>\n",
       "    .dataframe tbody tr th:only-of-type {\n",
       "        vertical-align: middle;\n",
       "    }\n",
       "\n",
       "    .dataframe tbody tr th {\n",
       "        vertical-align: top;\n",
       "    }\n",
       "\n",
       "    .dataframe thead th {\n",
       "        text-align: right;\n",
       "    }\n",
       "</style>\n",
       "<table border=\"1\" class=\"dataframe\">\n",
       "  <thead>\n",
       "    <tr style=\"text-align: right;\">\n",
       "      <th></th>\n",
       "      <th>nucleotide_accession</th>\n",
       "      <th>species_taxonomy_id</th>\n",
       "      <th>species_name</th>\n",
       "      <th>virus_genus</th>\n",
       "      <th>virus_family</th>\n",
       "      <th>isolate_name</th>\n",
       "      <th>nucleotide_length</th>\n",
       "      <th>sequence_type</th>\n",
       "      <th>nuc_completeness</th>\n",
       "      <th>geo_location</th>\n",
       "      <th>us_state</th>\n",
       "      <th>host_name</th>\n",
       "      <th>host_taxonomy_id</th>\n",
       "      <th>collection_date</th>\n",
       "      <th>bioproject</th>\n",
       "      <th>biosample</th>\n",
       "      <th>continent</th>\n",
       "    </tr>\n",
       "  </thead>\n",
       "  <tbody>\n",
       "    <tr>\n",
       "      <th>806923</th>\n",
       "      <td>OM095411.1</td>\n",
       "      <td>2697049</td>\n",
       "      <td>Severe acute respiratory syndrome coronavirus 2</td>\n",
       "      <td>Betacoronavirus</td>\n",
       "      <td>Coronaviridae</td>\n",
       "      <td>SARS-CoV-2/human/CHN/Omicron-1/2021</td>\n",
       "      <td>29788</td>\n",
       "      <td>GenBank</td>\n",
       "      <td>complete</td>\n",
       "      <td>Asia; China: Beijing</td>\n",
       "      <td>NaN</td>\n",
       "      <td>NaN</td>\n",
       "      <td>9606</td>\n",
       "      <td>2021-12-08</td>\n",
       "      <td>NaN</td>\n",
       "      <td>NaN</td>\n",
       "      <td>Asia</td>\n",
       "    </tr>\n",
       "  </tbody>\n",
       "</table>\n",
       "</div>"
      ],
      "text/plain": [
       "       nucleotide_accession  species_taxonomy_id  \\\n",
       "806923           OM095411.1              2697049   \n",
       "\n",
       "                                           species_name      virus_genus  \\\n",
       "806923  Severe acute respiratory syndrome coronavirus 2  Betacoronavirus   \n",
       "\n",
       "         virus_family                         isolate_name  nucleotide_length  \\\n",
       "806923  Coronaviridae  SARS-CoV-2/human/CHN/Omicron-1/2021              29788   \n",
       "\n",
       "       sequence_type nuc_completeness          geo_location  us_state  \\\n",
       "806923       GenBank         complete  Asia; China: Beijing       NaN   \n",
       "\n",
       "        host_name  host_taxonomy_id collection_date bioproject biosample  \\\n",
       "806923        NaN              9606      2021-12-08        NaN       NaN   \n",
       "\n",
       "       continent  \n",
       "806923      Asia  "
      ]
     },
     "execution_count": 33,
     "metadata": {},
     "output_type": "execute_result"
    }
   ],
   "source": [
    "metadata[metadata['isolate_name'].str.contains('Omicron').fillna(False)]"
   ]
  },
  {
   "cell_type": "code",
   "execution_count": 34,
   "metadata": {},
   "outputs": [],
   "source": [
    "import os\n",
    "\n",
    "sequences=['NC_045512.2','OL467832.1','OM061695.1','OM095411.1']\n",
    "human_names=['reference','base','delta','omicron']"
   ]
  },
  {
   "cell_type": "code",
   "execution_count": 37,
   "metadata": {},
   "outputs": [],
   "source": [
    "selected_sequences=metadata[metadata['nucleotide_accession'].isin(sequences)]"
   ]
  },
  {
   "cell_type": "code",
   "execution_count": 38,
   "metadata": {},
   "outputs": [
    {
     "data": {
      "text/html": [
       "<div>\n",
       "<style scoped>\n",
       "    .dataframe tbody tr th:only-of-type {\n",
       "        vertical-align: middle;\n",
       "    }\n",
       "\n",
       "    .dataframe tbody tr th {\n",
       "        vertical-align: top;\n",
       "    }\n",
       "\n",
       "    .dataframe thead th {\n",
       "        text-align: right;\n",
       "    }\n",
       "</style>\n",
       "<table border=\"1\" class=\"dataframe\">\n",
       "  <thead>\n",
       "    <tr style=\"text-align: right;\">\n",
       "      <th></th>\n",
       "      <th>nucleotide_accession</th>\n",
       "      <th>species_taxonomy_id</th>\n",
       "      <th>species_name</th>\n",
       "      <th>virus_genus</th>\n",
       "      <th>virus_family</th>\n",
       "      <th>isolate_name</th>\n",
       "      <th>nucleotide_length</th>\n",
       "      <th>sequence_type</th>\n",
       "      <th>nuc_completeness</th>\n",
       "      <th>geo_location</th>\n",
       "      <th>us_state</th>\n",
       "      <th>host_name</th>\n",
       "      <th>host_taxonomy_id</th>\n",
       "      <th>collection_date</th>\n",
       "      <th>bioproject</th>\n",
       "      <th>biosample</th>\n",
       "      <th>continent</th>\n",
       "    </tr>\n",
       "  </thead>\n",
       "  <tbody>\n",
       "    <tr>\n",
       "      <th>0</th>\n",
       "      <td>NC_045512.2</td>\n",
       "      <td>2697049</td>\n",
       "      <td>Severe acute respiratory syndrome coronavirus 2</td>\n",
       "      <td>Betacoronavirus</td>\n",
       "      <td>Coronaviridae</td>\n",
       "      <td>Wuhan-Hu-1</td>\n",
       "      <td>29903</td>\n",
       "      <td>RefSeq</td>\n",
       "      <td>complete</td>\n",
       "      <td>Asia; China</td>\n",
       "      <td>NaN</td>\n",
       "      <td>NaN</td>\n",
       "      <td>9606</td>\n",
       "      <td>2019-12-01</td>\n",
       "      <td>PRJNA485481</td>\n",
       "      <td>NaN</td>\n",
       "      <td>Asia</td>\n",
       "    </tr>\n",
       "    <tr>\n",
       "      <th>85948</th>\n",
       "      <td>OM061695.1</td>\n",
       "      <td>2697049</td>\n",
       "      <td>Severe acute respiratory syndrome coronavirus 2</td>\n",
       "      <td>Betacoronavirus</td>\n",
       "      <td>Coronaviridae</td>\n",
       "      <td>SARS-CoV-2/human/CHN/Delta-1/2021</td>\n",
       "      <td>29858</td>\n",
       "      <td>GenBank</td>\n",
       "      <td>complete</td>\n",
       "      <td>Asia; China: Beijing</td>\n",
       "      <td>NaN</td>\n",
       "      <td>NaN</td>\n",
       "      <td>9606</td>\n",
       "      <td>2021-08-10</td>\n",
       "      <td>NaN</td>\n",
       "      <td>NaN</td>\n",
       "      <td>Asia</td>\n",
       "    </tr>\n",
       "    <tr>\n",
       "      <th>254609</th>\n",
       "      <td>OL467832.1</td>\n",
       "      <td>2697049</td>\n",
       "      <td>Severe acute respiratory syndrome coronavirus 2</td>\n",
       "      <td>Betacoronavirus</td>\n",
       "      <td>Coronaviridae</td>\n",
       "      <td>SARS-CoV-2/human/USA/hCoV_19_USA_ID_IVREF_6520...</td>\n",
       "      <td>29831</td>\n",
       "      <td>GenBank</td>\n",
       "      <td>complete</td>\n",
       "      <td>North America; USA: Bingham, ID</td>\n",
       "      <td>NaN</td>\n",
       "      <td>NaN</td>\n",
       "      <td>9606</td>\n",
       "      <td>2020-01-01</td>\n",
       "      <td>NaN</td>\n",
       "      <td>NaN</td>\n",
       "      <td>North America</td>\n",
       "    </tr>\n",
       "    <tr>\n",
       "      <th>806923</th>\n",
       "      <td>OM095411.1</td>\n",
       "      <td>2697049</td>\n",
       "      <td>Severe acute respiratory syndrome coronavirus 2</td>\n",
       "      <td>Betacoronavirus</td>\n",
       "      <td>Coronaviridae</td>\n",
       "      <td>SARS-CoV-2/human/CHN/Omicron-1/2021</td>\n",
       "      <td>29788</td>\n",
       "      <td>GenBank</td>\n",
       "      <td>complete</td>\n",
       "      <td>Asia; China: Beijing</td>\n",
       "      <td>NaN</td>\n",
       "      <td>NaN</td>\n",
       "      <td>9606</td>\n",
       "      <td>2021-12-08</td>\n",
       "      <td>NaN</td>\n",
       "      <td>NaN</td>\n",
       "      <td>Asia</td>\n",
       "    </tr>\n",
       "  </tbody>\n",
       "</table>\n",
       "</div>"
      ],
      "text/plain": [
       "       nucleotide_accession  species_taxonomy_id  \\\n",
       "0               NC_045512.2              2697049   \n",
       "85948            OM061695.1              2697049   \n",
       "254609           OL467832.1              2697049   \n",
       "806923           OM095411.1              2697049   \n",
       "\n",
       "                                           species_name      virus_genus  \\\n",
       "0       Severe acute respiratory syndrome coronavirus 2  Betacoronavirus   \n",
       "85948   Severe acute respiratory syndrome coronavirus 2  Betacoronavirus   \n",
       "254609  Severe acute respiratory syndrome coronavirus 2  Betacoronavirus   \n",
       "806923  Severe acute respiratory syndrome coronavirus 2  Betacoronavirus   \n",
       "\n",
       "         virus_family                                       isolate_name  \\\n",
       "0       Coronaviridae                                         Wuhan-Hu-1   \n",
       "85948   Coronaviridae                  SARS-CoV-2/human/CHN/Delta-1/2021   \n",
       "254609  Coronaviridae  SARS-CoV-2/human/USA/hCoV_19_USA_ID_IVREF_6520...   \n",
       "806923  Coronaviridae                SARS-CoV-2/human/CHN/Omicron-1/2021   \n",
       "\n",
       "        nucleotide_length sequence_type nuc_completeness  \\\n",
       "0                   29903        RefSeq         complete   \n",
       "85948               29858       GenBank         complete   \n",
       "254609              29831       GenBank         complete   \n",
       "806923              29788       GenBank         complete   \n",
       "\n",
       "                           geo_location  us_state  host_name  \\\n",
       "0                           Asia; China       NaN        NaN   \n",
       "85948              Asia; China: Beijing       NaN        NaN   \n",
       "254609  North America; USA: Bingham, ID       NaN        NaN   \n",
       "806923             Asia; China: Beijing       NaN        NaN   \n",
       "\n",
       "        host_taxonomy_id collection_date   bioproject biosample      continent  \n",
       "0                   9606      2019-12-01  PRJNA485481       NaN           Asia  \n",
       "85948               9606      2021-08-10          NaN       NaN           Asia  \n",
       "254609              9606      2020-01-01          NaN       NaN  North America  \n",
       "806923              9606      2021-12-08          NaN       NaN           Asia  "
      ]
     },
     "execution_count": 38,
     "metadata": {},
     "output_type": "execute_result"
    }
   ],
   "source": [
    "selected_sequences"
   ]
  },
  {
   "cell_type": "code",
   "execution_count": 41,
   "metadata": {},
   "outputs": [
    {
     "name": "stdout",
     "output_type": "stream",
     "text": [
      "Collecting biopython\n",
      "  Downloading biopython-1.79-cp36-cp36m-win_amd64.whl (2.3 MB)\n",
      "Requirement already satisfied: numpy in c:\\users\\bayonetta\\anaconda3\\lib\\site-packages (from biopython) (1.14.3)\n",
      "Installing collected packages: biopython\n",
      "Successfully installed biopython-1.79\n"
     ]
    },
    {
     "name": "stderr",
     "output_type": "stream",
     "text": [
      "WARNING: You are using pip version 20.2.2; however, version 21.3.1 is available.\n",
      "You should consider upgrading via the 'c:\\users\\bayonetta\\anaconda3\\python.exe -m pip install --upgrade pip' command.\n"
     ]
    }
   ],
   "source": [
    "!pip install biopython"
   ]
  },
  {
   "cell_type": "code",
   "execution_count": 42,
   "metadata": {},
   "outputs": [
    {
     "name": "stdout",
     "output_type": "stream",
     "text": [
      "Requirement already satisfied: biopython in c:\\users\\bayonetta\\anaconda3\\lib\\site-packages (1.79)\n",
      "Requirement already satisfied: numpy in c:\\users\\bayonetta\\anaconda3\\lib\\site-packages (from biopython) (1.14.3)\n"
     ]
    }
   ],
   "source": [
    "!pip install biopython"
   ]
  },
  {
   "cell_type": "code",
   "execution_count": 43,
   "metadata": {},
   "outputs": [],
   "source": [
    "from Bio import Entrez\n",
    "Entrez.email=\"lililiq888@gmail.com\""
   ]
  },
  {
   "cell_type": "code",
   "execution_count": 44,
   "metadata": {},
   "outputs": [],
   "source": [
    "def download_sequence(id_code):\n",
    "    handle = Entrez.esearch(db='nucleotide', term=id_code, retmax='1')\n",
    "    record=Entrez.read(handle)\n",
    "    handle=Entrez.efetch(db='nucleotide',id=record['IdList'][0], rettype='fasta',retmode='text')\n",
    "    return handle.read()"
   ]
  },
  {
   "cell_type": "code",
   "execution_count": 45,
   "metadata": {},
   "outputs": [],
   "source": [
    "sequence_data = {}\n",
    "for sequence in sequences:\n",
    "    sequence_data[sequence] = {'fasta': download_sequence(sequence)}\n",
    "    "
   ]
  },
  {
   "cell_type": "code",
   "execution_count": 50,
   "metadata": {},
   "outputs": [],
   "source": [
    "from Bio import  SeqIO\n",
    "import io\n",
    "\n",
    "for k,v in sequence_data.items():\n",
    "    f = io.StringIO(v['fasta'])\n",
    "    sequence_data[k]['parsed'] = list(SeqIO.parse(f, 'fasta'))[0]"
   ]
  },
  {
   "cell_type": "code",
   "execution_count": 51,
   "metadata": {},
   "outputs": [
    {
     "data": {
      "text/plain": [
       "SeqRecord(seq=Seq('ATTAAAGGTTTATACCTTCCCAGGTAACAAACCAACCAACTTTCGATCTCTTGT...AAA'), id='NC_045512.2', name='NC_045512.2', description='NC_045512.2 Severe acute respiratory syndrome coronavirus 2 isolate Wuhan-Hu-1, complete genome', dbxrefs=[])"
      ]
     },
     "execution_count": 51,
     "metadata": {},
     "output_type": "execute_result"
    }
   ],
   "source": [
    "sequence_data['NC_045512.2']['parsed']"
   ]
  },
  {
   "cell_type": "code",
   "execution_count": 52,
   "metadata": {},
   "outputs": [
    {
     "data": {
      "text/plain": [
       "SeqRecord(seq=Seq('CAACTTTCGATCTCTTGTAGATCTGTTCTCTAAACGAACTTTAAAATCTGTGTG...AGC'), id='OM095411.1', name='OM095411.1', description='OM095411.1 Severe acute respiratory syndrome coronavirus 2 isolate SARS-CoV-2/human/CHN/Omicron-1/2021, complete genome', dbxrefs=[])"
      ]
     },
     "execution_count": 52,
     "metadata": {},
     "output_type": "execute_result"
    }
   ],
   "source": [
    "sequence_data['OM095411.1']['parsed']"
   ]
  },
  {
   "cell_type": "code",
   "execution_count": 53,
   "metadata": {},
   "outputs": [],
   "source": [
    "from Bio import Align\n",
    "aligner = Align.PairwiseAligner()"
   ]
  },
  {
   "cell_type": "code",
   "execution_count": 54,
   "metadata": {},
   "outputs": [
    {
     "data": {
      "text/plain": [
       "'Needleman-Wunsch'"
      ]
     },
     "execution_count": 54,
     "metadata": {},
     "output_type": "execute_result"
    }
   ],
   "source": [
    "aligner.algorithm"
   ]
  },
  {
   "cell_type": "code",
   "execution_count": 56,
   "metadata": {},
   "outputs": [
    {
     "data": {
      "text/plain": [
       "29818.0"
      ]
     },
     "execution_count": 56,
     "metadata": {},
     "output_type": "execute_result"
    }
   ],
   "source": [
    "score = aligner.score(sequence_data['NC_045512.2']['parsed'].seq, sequence_data['OM061695.1']['parsed'].seq)\n",
    "score"
   ]
  },
  {
   "cell_type": "code",
   "execution_count": 57,
   "metadata": {},
   "outputs": [
    {
     "data": {
      "text/plain": [
       "array([[0., 0., 0., 0.],\n",
       "       [0., 0., 0., 0.],\n",
       "       [0., 0., 0., 0.],\n",
       "       [0., 0., 0., 0.]])"
      ]
     },
     "execution_count": 57,
     "metadata": {},
     "output_type": "execute_result"
    }
   ],
   "source": [
    "import numpy as np\n",
    "\n",
    "comparisions = np.zeros((4,4))\n",
    "comparisions"
   ]
  },
  {
   "cell_type": "code",
   "execution_count": 59,
   "metadata": {},
   "outputs": [],
   "source": [
    "for i in range(0,4):\n",
    "    for j in range(0, i+1):\n",
    "        score = aligner.score(sequence_data[sequences[i]]['parsed'].seq, sequence_data[sequences[j]]['parsed'].seq)\n",
    "        comparisions[i,j] = score"
   ]
  },
  {
   "cell_type": "code",
   "execution_count": 60,
   "metadata": {},
   "outputs": [
    {
     "data": {
      "text/html": [
       "<div>\n",
       "<style scoped>\n",
       "    .dataframe tbody tr th:only-of-type {\n",
       "        vertical-align: middle;\n",
       "    }\n",
       "\n",
       "    .dataframe tbody tr th {\n",
       "        vertical-align: top;\n",
       "    }\n",
       "\n",
       "    .dataframe thead th {\n",
       "        text-align: right;\n",
       "    }\n",
       "</style>\n",
       "<table border=\"1\" class=\"dataframe\">\n",
       "  <thead>\n",
       "    <tr style=\"text-align: right;\">\n",
       "      <th></th>\n",
       "      <th>reference</th>\n",
       "      <th>base</th>\n",
       "      <th>delta</th>\n",
       "      <th>omicron</th>\n",
       "    </tr>\n",
       "  </thead>\n",
       "  <tbody>\n",
       "    <tr>\n",
       "      <th>reference</th>\n",
       "      <td>29903.0</td>\n",
       "      <td>0.0</td>\n",
       "      <td>0.0</td>\n",
       "      <td>0.0</td>\n",
       "    </tr>\n",
       "    <tr>\n",
       "      <th>base</th>\n",
       "      <td>29820.0</td>\n",
       "      <td>29831.0</td>\n",
       "      <td>0.0</td>\n",
       "      <td>0.0</td>\n",
       "    </tr>\n",
       "    <tr>\n",
       "      <th>delta</th>\n",
       "      <td>29818.0</td>\n",
       "      <td>29775.0</td>\n",
       "      <td>29858.0</td>\n",
       "      <td>0.0</td>\n",
       "    </tr>\n",
       "    <tr>\n",
       "      <th>omicron</th>\n",
       "      <td>29725.0</td>\n",
       "      <td>29722.0</td>\n",
       "      <td>29688.0</td>\n",
       "      <td>29788.0</td>\n",
       "    </tr>\n",
       "  </tbody>\n",
       "</table>\n",
       "</div>"
      ],
      "text/plain": [
       "           reference     base    delta  omicron\n",
       "reference    29903.0      0.0      0.0      0.0\n",
       "base         29820.0  29831.0      0.0      0.0\n",
       "delta        29818.0  29775.0  29858.0      0.0\n",
       "omicron      29725.0  29722.0  29688.0  29788.0"
      ]
     },
     "execution_count": 60,
     "metadata": {},
     "output_type": "execute_result"
    }
   ],
   "source": [
    "comparisions_df = pd.DataFrame(comparisions, columns=human_names, index=human_names)\n",
    "comparisions_df"
   ]
  },
  {
   "cell_type": "code",
   "execution_count": 61,
   "metadata": {},
   "outputs": [
    {
     "data": {
      "text/plain": [
       "reference    1.000000\n",
       "base         0.997224\n",
       "delta        0.997157\n",
       "omicron      0.994047\n",
       "Name: reference, dtype: float64"
      ]
     },
     "execution_count": 61,
     "metadata": {},
     "output_type": "execute_result"
    }
   ],
   "source": [
    "comparisions_df.iloc[:,0] / 29903"
   ]
  },
  {
   "cell_type": "code",
   "execution_count": 62,
   "metadata": {},
   "outputs": [],
   "source": [
    "seq1 = sequence_data['NC_045512.2']['parsed'].seq\n",
    "seq2 = sequence_data['OM061695.1']['parsed'].seq\n",
    "delta_alignments = aligner.align(seq1, seq2)"
   ]
  },
  {
   "cell_type": "code",
   "execution_count": 63,
   "metadata": {},
   "outputs": [
    {
     "data": {
      "text/plain": [
       "<Bio.Align.PairwiseAlignments at 0x1b285405cf8>"
      ]
     },
     "execution_count": 63,
     "metadata": {},
     "output_type": "execute_result"
    }
   ],
   "source": [
    "delta_alignments"
   ]
  },
  {
   "cell_type": "code",
   "execution_count": 64,
   "metadata": {},
   "outputs": [],
   "source": [
    "delta_alignments = delta_alignments[0]"
   ]
  },
  {
   "cell_type": "code",
   "execution_count": 65,
   "metadata": {},
   "outputs": [
    {
     "data": {
      "text/plain": [
       "(2, 29943)"
      ]
     },
     "execution_count": 65,
     "metadata": {},
     "output_type": "execute_result"
    }
   ],
   "source": [
    "delta_alignments.shape"
   ]
  },
  {
   "cell_type": "code",
   "execution_count": 66,
   "metadata": {},
   "outputs": [
    {
     "data": {
      "text/plain": [
       "(((0, 209),\n",
       "  (210, 212),\n",
       "  (212, 240),\n",
       "  (241, 1047),\n",
       "  (1048, 1273),\n",
       "  (1274, 1276),\n",
       "  (1276, 3036),\n",
       "  (3037, 3038),\n",
       "  (3038, 4180),\n",
       "  (4181, 6401),\n",
       "  (6402, 7123),\n",
       "  (7123, 7124),\n",
       "  (7125, 8985),\n",
       "  (8986, 8989),\n",
       "  (8989, 9052),\n",
       "  (9053, 9054),\n",
       "  (9054, 10028),\n",
       "  (10028, 10029),\n",
       "  (10030, 10506),\n",
       "  (10507, 11116),\n",
       "  (11117, 11200),\n",
       "  (11201, 11331),\n",
       "  (11332, 11333),\n",
       "  (11333, 14407),\n",
       "  (14408, 14409),\n",
       "  (14409, 15450),\n",
       "  (15450, 15451),\n",
       "  (15452, 16465),\n",
       "  (16466, 19219),\n",
       "  (19220, 19221),\n",
       "  (19221, 21617),\n",
       "  (21618, 21986),\n",
       "  (21987, 22028),\n",
       "  (22029, 22030),\n",
       "  (22033, 22035),\n",
       "  (22037, 22916),\n",
       "  (22917, 22918),\n",
       "  (22918, 22994),\n",
       "  (22995, 22996),\n",
       "  (22996, 23402),\n",
       "  (23403, 23603),\n",
       "  (23604, 24409),\n",
       "  (24410, 24411),\n",
       "  (24411, 25087),\n",
       "  (25088, 25090),\n",
       "  (25090, 25351),\n",
       "  (25352, 25353),\n",
       "  (25353, 25468),\n",
       "  (25469, 26423),\n",
       "  (26424, 26425),\n",
       "  (26425, 26766),\n",
       "  (26767, 26768),\n",
       "  (26768, 27526),\n",
       "  (27527, 27637),\n",
       "  (27637, 27639),\n",
       "  (27640, 27751),\n",
       "  (27752, 27873),\n",
       "  (27874, 27876),\n",
       "  (27876, 28247),\n",
       "  (28248, 28250),\n",
       "  (28252, 28253),\n",
       "  (28254, 28255),\n",
       "  (28257, 28273),\n",
       "  (28274, 28460),\n",
       "  (28461, 28880),\n",
       "  (28880, 28883),\n",
       "  (28884, 28915),\n",
       "  (28915, 28916),\n",
       "  (28917, 29401),\n",
       "  (29402, 29741),\n",
       "  (29742, 29871)),\n",
       " ((0, 209),\n",
       "  (209, 211),\n",
       "  (212, 240),\n",
       "  (241, 1047),\n",
       "  (1048, 1273),\n",
       "  (1273, 1275),\n",
       "  (1276, 3036),\n",
       "  (3036, 3037),\n",
       "  (3038, 4180),\n",
       "  (4181, 6401),\n",
       "  (6402, 7123),\n",
       "  (7124, 7125),\n",
       "  (7125, 8985),\n",
       "  (8985, 8988),\n",
       "  (8989, 9052),\n",
       "  (9052, 9053),\n",
       "  (9054, 10028),\n",
       "  (10029, 10030),\n",
       "  (10030, 10506),\n",
       "  (10507, 11116),\n",
       "  (11117, 11200),\n",
       "  (11201, 11331),\n",
       "  (11331, 11332),\n",
       "  (11333, 14407),\n",
       "  (14407, 14408),\n",
       "  (14409, 15450),\n",
       "  (15451, 15452),\n",
       "  (15452, 16465),\n",
       "  (16466, 19219),\n",
       "  (19219, 19220),\n",
       "  (19221, 21617),\n",
       "  (21618, 21986),\n",
       "  (21987, 22028),\n",
       "  (22028, 22029),\n",
       "  (22029, 22031),\n",
       "  (22031, 22910),\n",
       "  (22910, 22911),\n",
       "  (22912, 22988),\n",
       "  (22988, 22989),\n",
       "  (22990, 23396),\n",
       "  (23397, 23597),\n",
       "  (23598, 24403),\n",
       "  (24403, 24404),\n",
       "  (24405, 25081),\n",
       "  (25081, 25083),\n",
       "  (25084, 25345),\n",
       "  (25345, 25346),\n",
       "  (25347, 25462),\n",
       "  (25463, 26417),\n",
       "  (26417, 26418),\n",
       "  (26419, 26760),\n",
       "  (26760, 26761),\n",
       "  (26762, 27520),\n",
       "  (27521, 27631),\n",
       "  (27632, 27634),\n",
       "  (27634, 27745),\n",
       "  (27746, 27867),\n",
       "  (27867, 27869),\n",
       "  (27870, 28241),\n",
       "  (28241, 28243),\n",
       "  (28243, 28244),\n",
       "  (28244, 28245),\n",
       "  (28245, 28261),\n",
       "  (28261, 28447),\n",
       "  (28448, 28867),\n",
       "  (28868, 28871),\n",
       "  (28871, 28902),\n",
       "  (28903, 28904),\n",
       "  (28904, 29388),\n",
       "  (29389, 29728),\n",
       "  (29729, 29858)))"
      ]
     },
     "execution_count": 66,
     "metadata": {},
     "output_type": "execute_result"
    }
   ],
   "source": [
    "delta_alignments.aligned"
   ]
  },
  {
   "cell_type": "code",
   "execution_count": 92,
   "metadata": {},
   "outputs": [
    {
     "name": "stdout",
     "output_type": "stream",
     "text": [
      "1: G\n",
      "2: \n",
      "1: \n",
      "2: T\n",
      "1: C\n",
      "2: T\n",
      "1: G\n",
      "2: T\n",
      "1: G\n",
      "2: \n",
      "1: \n",
      "2: T\n",
      "1: C\n",
      "2: \n",
      "1: \n",
      "2: T\n",
      "1: G\n",
      "2: T\n",
      "1: C\n",
      "2: T\n",
      "1: \n",
      "2: T\n",
      "1: C\n",
      "2: \n",
      "1: C\n",
      "2: \n",
      "1: \n",
      "2: T\n",
      "1: G\n",
      "2: \n",
      "1: \n",
      "2: T\n",
      "1: \n",
      "2: T\n",
      "1: C\n",
      "2: \n",
      "1: C\n",
      "2: T\n",
      "1: A\n",
      "2: R\n",
      "1: A\n",
      "2: G\n",
      "1: A\n",
      "2: \n",
      "1: \n",
      "2: G\n",
      "1: C\n",
      "2: \n",
      "1: \n",
      "2: T\n",
      "1: \n",
      "2: A\n",
      "1: G\n",
      "2: \n",
      "1: C\n",
      "2: T\n",
      "1: C\n",
      "2: \n",
      "1: \n",
      "2: T\n",
      "1: C\n",
      "2: G\n",
      "1: G\n",
      "2: A\n",
      "1: A\n",
      "2: \n",
      "1: TTC\n",
      "2: \n",
      "1: AG\n",
      "2: \n",
      "1: T\n",
      "2: \n",
      "1: \n",
      "2: G\n",
      "1: C\n",
      "2: \n",
      "1: \n",
      "2: A\n",
      "1: A\n",
      "2: G\n",
      "1: C\n",
      "2: G\n",
      "1: G\n",
      "2: \n",
      "1: \n",
      "2: A\n",
      "1: G\n",
      "2: \n",
      "1: \n",
      "2: T\n",
      "1: G\n",
      "2: \n",
      "1: \n",
      "2: T\n",
      "1: C\n",
      "2: T\n",
      "1: T\n",
      "2: \n",
      "1: \n",
      "2: C\n",
      "1: T\n",
      "2: \n",
      "1: \n",
      "2: C\n",
      "1: C\n",
      "2: T\n",
      "1: \n",
      "2: C\n",
      "1: T\n",
      "2: \n",
      "1: C\n",
      "2: T\n",
      "1: C\n",
      "2: \n",
      "1: \n",
      "2: T\n",
      "1: G\n",
      "2: \n",
      "1: TT\n",
      "2: \n",
      "1: A\n",
      "2: \n",
      "1: CT\n",
      "2: \n",
      "1: A\n",
      "2: \n",
      "1: A\n",
      "2: G\n",
      "1: \n",
      "2: T\n",
      "1: G\n",
      "2: \n",
      "1: \n",
      "2: T\n",
      "1: G\n",
      "2: \n",
      "1: G\n",
      "2: T\n",
      "1: G\n",
      "2: T\n"
     ]
    }
   ],
   "source": [
    "seq1_end = None\n",
    "seq2_end = None\n",
    "for alignments in zip(delta_alignments.aligned[0], delta_alignments.aligned[1]):\n",
    "    if seq1_end and seq2_end:\n",
    "        seq1_mismatch = seq1[seq1_end: alignments[0][0]]\n",
    "        seq2_mismatch = seq2[seq2_end: alignments[1][0]]\n",
    "        print(\"1: {}\".format(seq1_mismatch))\n",
    "        print(\"2: {}\".format(seq2_mismatch))\n",
    "    seq1_end = alignments[0][1]\n",
    "    seq2_end = alignments[1][1]\n",
    "    \n",
    "    "
   ]
  },
  {
   "cell_type": "code",
   "execution_count": 93,
   "metadata": {},
   "outputs": [],
   "source": [
    "from IPython.display import HTML"
   ]
  },
  {
   "cell_type": "code",
   "execution_count": 101,
   "metadata": {},
   "outputs": [],
   "source": [
    "def color_print(s, color='black'):\n",
    "    return \"<span style='color:{}'>{}</span>\".format(color,  s)"
   ]
  },
  {
   "cell_type": "code",
   "execution_count": 106,
   "metadata": {},
   "outputs": [],
   "source": [
    "seq1_end = None\n",
    "seq1_end = None\n",
    "display_seq = []\n",
    "for alignments in zip(delta_alignments.aligned[0], delta_alignments.aligned[1]):\n",
    "    if seq1_end and seq2_end:\n",
    "        seq1_mismatch = seq1[seq1_end: alignments[0][0]]\n",
    "        seq2_mismatch = seq2[seq2_end: alignments[1][0]]\n",
    "        if len(seq2_mismatch)==0:\n",
    "            display_seq.append(color_print(seq1_mismatch, \"red\"))\n",
    "        elif len(seq1_mismatch) == 0:\n",
    "            display_seq.append(color_print(seq2_mismatch, \"green\"))\n",
    "        else:\n",
    "            display_seq.append(color_print(seq2_mismatch, \"blue\"))\n",
    "    display_seq.append(seq1[alignments[0][0]:alignments[0][1]])\n",
    "    \n",
    "    seq1_end = alignments[0][1]\n",
    "    seq2_end = alignments[1][1]"
   ]
  },
  {
   "cell_type": "code",
   "execution_count": 108,
   "metadata": {},
   "outputs": [],
   "source": [
    "display_seq = [str(i) for i in display_seq]"
   ]
  },
  {
   "cell_type": "code",
   "execution_count": 109,
   "metadata": {},
   "outputs": [
    {
     "data": {
      "text/html": [
       "ATTAAAGGTTTATACCTTCCCAGGTAACAAACCAACCAACTTTCGATCTCTTGTAGATCTGTTCTCTAAACGAACTTTAAAATCTGTGTGGCTGTCACTCGGCTGCATGCTTAGTGCACTCACGCAGTATAATTAATAACTAATTACTGTCGTTGACAGGACACGAGTAACTCGTCTATCTTCTGCAGGCTGCTTACGGTTTCGTCCGT<br><span style='color:red'>G</span><br>TT<br><span style='color:green'>T</span><br>GCAGCCGATCATCAGCACATCTAGGTTT<br><span style='color:blue'>T</span><br>GTCCGGGTGTGACCGAAAGGTAAGATGGAGAGCCTTGTCCCTGGTTTCAACGAGAAAACACACGTCCAACTCAGTTTGCCTGTTTTACAGGTTCGCGACGTGCTCGTACGTGGCTTTGGAGACTCCGTGGAGGAGGTCTTATCAGAGGCACGTCAACATCTTAAAGATGGCACTTGTGGCTTAGTAGAAGTTGAAAAAGGCGTTTTGCCTCAACTTGAACAGCCCTATGTGTTCATCAAACGTTCGGATGCTCGAACTGCACCTCATGGTCATGTTATGGTTGAGCTGGTAGCAGAACTCGAAGGCATTCAGTACGGTCGTAGTGGTGAGACACTTGGTGTCCTTGTCCCTCATGTGGGCGAAATACCAGTGGCTTACCGCAAGGTTCTTCTTCGTAAGAACGGTAATAAAGGAGCTGGTGGCCATAGTTACGGCGCCGATCTAAAGTCATTTGACTTAGGCGACGAGCTTGGCACTGATCCTTATGAAGATTTTCAAGAAAACTGGAACACTAAACATAGCAGTGGTGTTACCCGTGAACTCATGCGTGAGCTTAACGGAGGGGCATACACTCGCTATGTCGATAACAACTTCTGTGGCCCTGATGGCTACCCTCTTGAGTGCATTAAAGACCTTCTAGCACGTGCTGGTAAAGCTTCATGCACTTTGTCCGAACAACTGGACTTTATTGACACTAAGAGGGGTGTATACTGCTGCCGTGAACATGAGCATGAAATTGCTTGGTACACGGAACGTTCTGAAAAGAGCTATGAATTGCAGACACCTTTTGAAATTAAATTGGCAAA<br><span style='color:blue'>T</span><br>AAATTTGACACCTTCAATGGGGAATGTCCAAATTTTGTATTTCCCTTAAATTCCATAATCAAGACTATTCAACCAAGGGTTGAAAAGAAAAAGCTTGATGGCTTTATGGGTAGAATTCGATCTGTCTATCCAGTTGCGTCACCAAATGAATGCAACCAAATGTGCCTTTCAACTCTCATGAAGTGTGATCATTGTGGTGAAACTTCATGGCAGACGGGCGATTTT<br><span style='color:red'>G</span><br>TT<br><span style='color:green'>T</span><br>AAAGCCACTTGCGAATTTTGTGGCACTGAGAATTTGACTAAAGAAGGTGCCACTACTTGTGGTTACTTACCCCAAAATGCTGTTGTTAAAATTTATTGTCCAGCATGTCACAATTCAGAAGTAGGACCTGAGCATAGTCTTGCCGAATACCATAATGAATCTGGCTTGAAAACCATTCTTCGTAAGGGTGGTCGCACTATTGCCTTTGGAGGCTGTGTGTTCTCTTATGTTGGTTGCCATAACAAGTGTGCCTATTGGGTTCCACGTGCTAGCGCTAACATAGGTTGTAACCATACAGGTGTTGTTGGAGAAGGTTCCGAAGGTCTTAATGACAACCTTCTTGAAATACTCCAAAAAGAGAAAGTCAACATCAATATTGTTGGTGACTTTAAACTTAATGAAGAGATCGCCATTATTTTGGCATCTTTTTCTGCTTCCACAAGTGCTTTTGTGGAAACTGTGAAAGGTTTGGATTATAAAGCATTCAAACAAATTGTTGAATCCTGTGGTAATTTTAAAGTTACAAAAGGAAAAGCTAAAAAAGGTGCCTGGAATATTGGTGAACAGAAATCAATACTGAGTCCTCTTTATGCATTTGCATCAGAGGCTGCTCGTGTTGTACGATCAATTTTCTCCCGCACTCTTGAAACTGCTCAAAATTCTGTGCGTGTTTTACAGAAGGCCGCTATAACAATACTAGATGGAATTTCACAGTATTCACTGAGACTCATTGATGCTATGATGTTCACATCTGATTTGGCTACTAACAATCTAGTTGTAATGGCCTACATTACAGGTGGTGTTGTTCAGTTGACTTCGCAGTGGCTAACTAACATCTTTGGCACTGTTTATGAAAAACTCAAACCCGTCCTTGATTGGCTTGAAGAGAAGTTTAAGGAAGGTGTAGAGTTTCTTAGAGACGGTTGGGAAATTGTTAAATTTATCTCAACCTGTGCTTGTGAAATTGTCGGTGGACAAATTGTCACCTGTGCAAAGGAAATTAAGGAGAGTGTTCAGACATTCTTTAAGCTTGTAAATAAATTTTTGGCTTTGTGTGCTGACTCTATCATTATTGGTGGAGCTAAACTTAAAGCCTTGAATTTAGGTGAAACATTTGTCACGCACTCAAAGGGATTGTACAGAAAGTGTGTTAAATCCAGAGAAGAAACTGGCCTACTCATGCCTCTAAAAGCCCCAAAAGAAATTATCTTCTTAGAGGGAGAAACACTTCCCACAGAAGTGTTAACAGAGGAAGTTGTCTTGAAAACTGGTGATTTACAACCATTAGAACAACCTACTAGTGAAGCTGTTGAAGCTCCATTGGTTGGTACACCAGTTTGTATTAACGGGCTTATGTTGCTCGAAATCAAAGACACAGAAAAGTACTGTGCCCTTGCACCTAATATGATGGTAACAAACAATACCTTCACACTCAAAGGCGGTGCACCAACAAAGGTTACTTTTGGTGATGACACTGTGATAGAAGTGCAAGGTTACAAGAGTGTGAATATCACTTTTGAACTTGATGAAAGGATTGATAAAGTACTTAATGAGAAGTGCTCTGCCTATACAGTTGAACTCGGTACAGAAGTAAATGAGTTCGCCTGTGTTGTGGCAGATGCTGTCATAAAAACTTTGCAACCAGTATCTGAATTACTTACACCACTGGGCATTGATTTAGATGAGTGGAGTATGGCTACATACTACTTATTTGATGAGTCTGGTGAGTTTAAATTGGCTTCACATATGTATTGTTCTTT<br><span style='color:red'>C</span><br>T<br><span style='color:green'>T</span><br>ACCCTCCAGATGAGGATGAAGAAGAAGGTGATTGTGAAGAAGAAGAGTTTGAGCCATCAACTCAATATGAGTATGGTACTGAAGATGATTACCAAGGTAAACCTTTGGAATTTGGTGCCACTTCTGCTGCTCTTCAACCTGAAGAAGAGCAAGAAGAAGATTGGTTAGATGATGATAGTCAACAAACTGTTGGTCAACAAGACGGCAGTGAGGACAATCAGACAACTACTATTCAAACAATTGTTGAGGTTCAACCTCAATTAGAGATGGAACTTACACCAGTTGTTCAGACTATTGAAGTGAATAGTTTTAGTGGTTATTTAAAACTTACTGACAATGTATACATTAAAAATGCAGACATTGTGGAAGAAGCTAAAAAGGTAAAACCAACAGTGGTTGTTAATGCAGCCAATGTTTACCTTAAACATGGAGGAGGTGTTGCAGGAGCCTTAAATAAGGCTACTAACAATGCCATGCAAGTTGAATCTGATGATTACATAGCTACTAATGGACCACTTAAAGTGGGTGGTAGTTGTGTTTTAAGCGGACACAATCTTGCTAAACACTGTCTTCATGTTGTCGGCCCAAATGTTAACAAAGGTGAAGACATTCAACTTCTTAAGAGTGCTTATGAAAATTTTAATCAGCACGAAGTTCTACTTGCACCATTATTATCAGCTGGTATTTTTGGTGCTGACCCTATACATTCTTTAAGAGTTTGTGTAGATACTGTTCGCACAAATGTCTACTTAGCTGTCTTTGATAAAAATCTCTATGACAAACTTGTTTCAAGCTTTTTGGAAATGAAGAGTGAAAAGCAAGTTGAACAAAAGATCGCTGAGATTCCTAAAGAGGAAGTTAAGCCATTTATAACTGAAAGTAAACCTTCAGTTGAACAGAGAAAACAAGATGATAAGAAAATCAAAGCTTGTGTTGAAGAAGTTACAACAACTCTGGAAGAAACTAAGTTCCTCACAGAAAACTTGTTACTTTATATTGACATTAATGGCAATCTTCATCCAGATTCTGCCACTCTTGTTAGTGACATTGACATCACTTTCTTAAAGAAAGATGCTCCATATATAGTGGGTGATGTTGTTCAAGAGGGTGTTTTAACTGCTGTGGTTATACCTACTAAAAAG<br><span style='color:blue'>T</span><br>CTGGTGGCACTACTGAAATGCTAGCGAAAGCTTTGAGAAAAGTGCCAACAGACAATTATATAACCACTTACCCGGGTCAGGGTTTAAATGGTTACACTGTAGAGGAGGCAAAGACAGTGCTTAAAAAGTGTAAAAGTGCCTTTTACATTCTACCATCTATTATCTCTAATGAGAAGCAAGAAATTCTTGGAACTGTTTCTTGGAATTTGCGAGAAATGCTTGCACATGCAGAAGAAACACGCAAATTAATGCCTGTCTGTGTGGAAACTAAAGCCATAGTTTCAACTATACAGCGTAAATATAAGGGTATTAAAATACAAGAGGGTGTGGTTGATTATGGTGCTAGATTTTACTTTTACACCAGTAAAACAACTGTAGCGTCACTTATCAACACACTTAACGATCTAAATGAAACTCTTGTTACAATGCCACTTGGCTATGTAACACATGGCTTAAATTTGGAAGAAGCTGCTCGGTATATGAGATCTCTCAAAGTGCCAGCTACAGTTTCTGTTTCTTCACCTGATGCTGTTACAGCGTATAATGGTTATCTTACTTCTTCTTCTAAAACACCTGAAGAACATTTTATTGAAACCATCTCACTTGCTGGTTCCTATAAAGATTGGTCCTATTCTGGACAATCTACACAACTAGGTATAGAATTTCTTAAGAGAGGTGATAAAAGTGTATATTACACTAGTAATCCTACCACATTCCACCTAGATGGTGAAGTTATCACCTTTGACAATCTTAAGACACTTCTTTCTTTGAGAGAAGTGAGGACTATTAAGGTGTTTACAACAGTAGACAACATTAACCTCCACACGCAAGTTGTGGACATGTCAATGACATATGGACAACAGTTTGGTCCAACTTATTTGGATGGAGCTGATGTTACTAAAATAAAACCTCATAATTCACATGAAGGTAAAACATTTTATGTTTTACCTAATGATGACACTCTACGTGTTGAGGCTTTTGAGTACTACCACACAACTGATCCTAGTTTTCTGGGTAGGTACATGTCAGCATTAAATCACACTAAAAAGTGGAAATACCCACAAGTTAATGGTTTAACTTCTATTAAATGGGCAGATAACAACTGTTATCTTGCCACTGCATTGTTAACACTCCAACAAATAGAGTTGAAGTTTAATCCACCTGCTCTACAAGATGCTTATTACAGAGCAAGGGCTGGTGAAGCTGCTAACTTTTGTGCACTTATCTTAGCCTACTGTAATAAGACAGTAGGTGAGTTAGGTGATGTTAGAGAAACAATGAGTTACTTGTTTCAACATGCCAATTTAGATTCTTGCAAAAGAGTCTTGAACGTGGTGTGTAAAACTTGTGGACAACAGCAGACAACCCTTAAGGGTGTAGAAGCTGTTATGTACATGGGCACACTTTCTTATGAACAATTTAAGAAAGGTGTTCAGATACCTTGTACGTGTGGTAAACAAGCTACAAAATATCTAGTACAACAGGAGTCACCTTTTGTTATGATGTCAGCACCACCTGCTCAGTATGAACTTAAGCATGGTACATTTACTTGTGCTAGTGAGTACACTGGTAATTACCAGTGTGGTCACTATAAACATATAACTTCTAAAGAAACTTTGTATTGCATAGACGGTGCTTTACTTACAAAGTCCTCAGAATACAAAGGTCCTATTACGGATGTTTTCTACAAAGAAAACAGTTACACAACAACCATAAAACCAGTTACTTATAAATTGGATGGTGTTGTTTGTACAGAAATTGACCCTAAGTTGGACAATTATTATAAGAAAGACAATTCTTATTTCACAGAGCAACCAATTGATCTTGTACCAAACCAACCATATCCAAACGCAAGCTTCGATAATTTTAAGTTTGTATGTGATAATATCAAATTTGCTGATGATTTAAACCAGTTAACTGGTTATAAGAAACCTGCTTCAAGAGAGCTTAAAGTTACATTTTTCCCTGACTTAAATGGTGATGTGGTGGCTATTGATTATAAACACTACACACCCTCTTTTAAGAAAGGAGCTAAATTGTTACATAAACCTATTGTTTGGCATGTTAACAATGCAACTAATAAAGCCACGTATAAACCAAATACCTGGTGTATACGTTGTCTTTGGAGCACAAAACCAGTTGAAACATCAAATTCGTTTGATGTACTGAAGTCAGAGGACGCGCAGGGAATGGATAATCTTGCCTGCGAAGATCTAAAAC<br><span style='color:blue'>T</span><br>AGTCTCTGAAGAAGTAGTGGAAAATCCTACCATACAGAAAGACGTTCTTGAGTGTAATGTGAAAACTACCGAAGTTGTAGGAGACATTATACTTAAACCAGCAAATAATAGTTTAAAAATTACAGAAGAGGTTGGCCACACAGATCTAATGGCTGCTTATGTAGACAATTCTAGTCTTACTATTAAGAAACCTAATGAATTATCTAGAGTATTAGGTTTGAAAACCCTTGCTACTCATGGTTTAGCTGCTGTTAATAGTGTCCCTTGGGATACTATAGCTAATTATGCTAAGCCTTTTCTTAACAAAGTTGTTAGTACAACTACTAACATAGTTACACGGTGTTTAAACCGTGTTTGTACTAATTATATGCCTTATTTCTTTACTTTATTGCTACAATTGTGTACTTTTACTAGAAGTACAAATTCTAGAATTAAAGCATCTATGCCGACTACTATAGCAAAGAATACTGTTAAGAGTGTCGGTAAATTTTGTCTAGAGGCTTCATTTAATTATTTGAAGTCACCTAATTTTTCTAAACTGATAAATATTATAATTTGGTTTTTACTATTAAGTGTTTGCCTAGGTTCTTTAATCTACTCAACCGCTGCTTTAGGTGTTTTAATGTCTAATTTAGGCATGCCTTCTTACTGTACTGGTTACAGAGAAGGCTATTTGAACTCTACTAATGTCACTATTGCAACCTACTGTACTGGTTCTATA<br><span style='color:green'>T</span><br>C<br><span style='color:red'>C</span><br>TTGTAGTGTTTGTCTTAGTGGTTTAGATTCTTTAGACACCTATCCTTCTTTAGAAACTATACAAATTACCATTTCATCTTTTAAATGGGATTTAACTGCTTTTGGCTTAGTTGCAGAGTGGTTTTTGGCATATATTCTTTTCACTAGGTTTTTCTATGTACTTGGATTGGCTGCAATCATGCAATTGTTTTTCAGCTATTTTGCAGTACATTTTATTAGTAATTCTTGGCTTATGTGGTTAATAATTAATCTTGTACAAATGGCCCCGATTTCAGCTATGGTTAGAATGTACATCTTCTTTGCATCATTTTATTATGTATGGAAAAGTTATGTGCATGTTGTAGACGGTTGTAATTCATCAACTTGTATGATGTGTTACAAACGTAATAGAGCAACAAGAGTCGAATGTACAACTATTGTTAATGGTGTTAGAAGGTCCTTTTATGTCTATGCTAATGGAGGTAAAGGCTTTTGCAAACTACACAATTGGAATTGTGTTAATTGTGATACATTCTGTGCTGGTAGTACATTTATTAGTGATGAAGTTGCGAGAGACTTGTCACTACAGTTTAAAAGACCAATAAATCCTACTGACCAGTCTTCTTACATCGTTGATAGTGTTACAGTGAAGAATGGTTCCATCCATCTTTACTTTGATAAAGCTGGTCAAAAGACTTATGAAAGACATTCTCTCTCTCATTTTGTTAACTTAGACAACCTGAGAGCTAATAACACTAAAGGTTCATTGCCTATTAATGTTATAGTTTTTGATGGTAAATCAAAATGTGAAGAATCATCTGCAAAATCAGCGTCTGTTTACTACAGTCAGCTTATGTGTCAACCTATACTGTTACTAGATCAGGCATTAGTGTCTGATGTTGGTGATAGTGCGGAAGTTGCAGTTAAAATGTTTGATGCTTACGTTAATACGTTTTCATCAACTTTTAACGTACCAATGGAAAAACTCAAAACACTAGTTGCAACTGCAGAAGCTGAACTTGCAAAGAATGTGTCCTTAGACAATGTCTTATCTACTTTTATTTCAGCAGCTCGGCAAGGGTTTGTTGATTCAGATGTAGAAACTAAAGATGTTGTTGAATGTCTTAAATTGTCACATCAATCTGACATAGAAGTTACTGGCGATAGTTGTAATAACTATATGCTCACCTATAACAAAGTTGAAAACATGACACCCCGTGACCTTGGTGCTTGTATTGACTGTAGTGCGCGTCATATTAATGCGCAGGTAGCAAAAAGTCACAACATTGCTTTGATATGGAACGTTAAAGATTTCATGTCATTGTCTGAACAACTACGAAAACAAATACGTAGTGCTGCTAAAAAGAATAACTTACCTTTTAAGTTGACATGTGCAACTACTAGACAAGTTGTTAATGTTGTAACAACAAAGATAGCACTTAAGGGTGGTAAAATTGTTAATAATTGGTTGAAGCAGTTAATTAAAGTTACACTTGTGTTCCTTTTTGTTGCTGCTATTTTCTATTTAATAACACCTGTTCATGTCATGTCTAAACATACTGACTTTTCAAGTGAAATCATAGGATACAAGGCTATTGATGGTGGTGTCACTCGTGACATAGCATCTACAGATACTTGTTTTGCTAACAAACATGCTGATTTTGACACATGGTTTAGCCAGCGTGGTGGTAGTTATACTAATGACAAAGCTTGCCCATTGATTGCTGCAGTCATAACAAGAGAAGTGGGTTTTGTCGTGCCTGGTTTGCCTGGCACGATATTACGCACAACTAATGGTGACTTTTTGCATTTCTTACCTAGAGTTTTTAGTGCAGTTGGTAACATCTGTTACACACCATCAAAACTTATAGAGTACACTGA<br><span style='color:red'>C</span><br>TTT<br><span style='color:green'>T</span><br>GCAACATCAGCTTGTGTTTTGGCTGCTGAATGTACAATTTTTAAAGATGCTTCTGGTAAGCCA<br><span style='color:red'>G</span><br>T<br><span style='color:green'>T</span><br>ACCATATTGTTATGATACCAATGTACTAGAAGGTTCTGTTGCTTATGAAAGTTTACGCCCTGACACACGTTATGTGCTCATGGATGGCTCTATTATTCAATTTCCTAACACCTACCTTGAAGGTTCTGTTAGAGTGGTAACAACTTTTGATTCTGAGTACTGTAGGCACGGCACTTGTGAAAGATCAGAAGCTGGTGTTTGTGTATCTACTAGTGGTAGATGGGTACTTAACAATGATTATTACAGATCTTTACCAGGAGTTTTCTGTGGTGTAGATGCTGTAAATTTACTTACTAATATGTTTACACCACTAATTCAACCTATTGGTGCTTTGGACATATCAGCATCTATAGTAGCTGGTGGTATTGTAGCTATCGTAGTAACATGCCTTGCCTACTATTTTATGAGGTTTAGAAGAGCTTTTGGTGAATACAGTCATGTAGTTGCCTTTAATACTTTACTATTCCTTATGTCATTCACTGTACTCTGTTTAACACCAGTTTACTCATTCTTACCTGGTGTTTATTCTGTTATTTACTTGTACTTGACATTTTATCTTACTAATGATGTTTCTTTTTTAGCACATATTCAGTGGATGGTTATGTTCACACCTTTAGTACCTTTCTGGATAACAATTGCTTATATCATTTGTATTTCCACAAAGCATTTCTATTGGTTCTTTAGTAATTACCTAAAGAGACGTGTAGTCTTTAATGGTGTTTCCTTTAGTACTTTTGAAGAAGCTGCGCTGTGCACCTTTTTGTTAAATAAAGAAATGTATCTAAAGTTGCGTAGTGATGTGCTATTACCTCTTACGCAATATAATAGATACTTAGCTCTTTATAATAAGTACAAGTATTTTAGTGGAGCAATGGATACAACTAGCTACAGAGAAGCTGCTTGTTGTCATCTCGCAAAGGCTCTCAATGACTTCAGTAACTCAGGTTCTGATGTTCTTTACCAACCACCACAAA<br><span style='color:green'>T</span><br>C<br><span style='color:red'>C</span><br>TCTATCACCTCAGCTGTTTTGCAGAGTGGTTTTAGAAAAATGGCATTCCCATCTGGTAAAGTTGAGGGTTGTATGGTACAAGTAACTTGTGGTACAACTACACTTAACGGTCTTTGGCTTGATGACGTAGTTTACTGTCCAAGACATGTGATCTGCACCTCTGAAGACATGCTTAACCCTAATTATGAAGATTTACTCATTCGTAAGTCTAATCATAATTTCTTGGTACAGGCTGGTAATGTTCAACTCAGGGTTATTGGACATTCTATGCAAAATTGTGTACTTAAGCTTAAGGTTGATACAGCCAATCCTAAGACACCTAAGTATAAGTTTGTTCGCATTCAACCAGGACAGACTTTTTCAGTGTTAGCTTGTTACAATGGTTCACCATCTGGTGTTTACCAATGTGCTATGAGGCCCAATTTCACTATTAAGGGTTCATTCCTTAATGGTTCATGTGGTAGTGTTGGTTTTAA<br><span style='color:blue'>T</span><br>ATAGATTATGACTGTGTCTCTTTTTGTTACATGCACCATATGGAATTACCAACTGGAGTTCATGCTGGCACAGACTTAGAAGGTAACTTTTATGGACCTTTTGTTGACAGGCAAACAGCACAAGCAGCTGGTACGGACACAACTATTACAGTTAATGTTTTAGCTTGGTTGTACGCTGCTGTTATAAATGGAGACAGGTGGTTTCTCAATCGATTTACCACAACTCTTAATGACTTTAACCTTGTGGCTATGAAGTACAATTATGAACCTCTAACACAAGACCATGTTGACATACTAGGACCTCTTTCTGCTCAAACTGGAATTGCCGTTTTAGATATGTGTGCTTCATTAAAAGAATTACTGCAAAATGGTATGAATGGACGTACCATATTGGGTAGTGCTTTATTAGAAGATGAATTTACACCTTTTGATGTTGTTAGACAATGCTCAGGTGTTACTTTCCAAAGTGCAGTGAAAAGAACAATCAAGGGTACACACCACTGGTTGTTACTCACAATTTTGACTTCACTTTTAGTTTTAGTCCAGAGTACTCAATGGTCTTTGTTCTTTTTTTTGTATGAAAATGCCTTTTTACCTTTTGCTATGGGT<br><span style='color:blue'>R</span><br>TTATTGCTATGTCTGCTTTTGCAATGATGTTTGTCAAACATAAGCATGCATTTCTCTGTTTGTTTTTGTTACCTTCTCTTGCC<br><span style='color:blue'>G</span><br>CTGTAGCTTATTTTAATATGGTCTATATGCCTGCTAGTTGGGTGATGCGTATTATGACATGGTTGGATATGGTTGATACTAGTTTGTCTGGTTTTAAGCTAAAAGACTGTGTTATGTATGCATCAGCTGT<br><span style='color:red'>A</span><br>G<br><span style='color:green'>G</span><br>TGTTACTAATCCTTATGACAGCAAGAACTGTGTATGATGATGGTGCTAGGAGAGTGTGGACACTTATGAATGTCTTGACACTCGTTTATAAAGTTTATTATGGTAATGCTTTAGATCAAGCCATTTCCATGTGGGCTCTTATAATCTCTGTTACTTCTAACTACTCAGGTGTAGTTACAACTGTCATGTTTTTGGCCAGAGGTATTGTTTTTATGTGTGTTGAGTATTGCCCTATTTTCTTCATAACTGGTAATACACTTCAGTGTATAATGCTAGTTTATTGTTTCTTAGGCTATTTTTGTACTTGTTACTTTGGCCTCTTTTGTTTACTCAACCGCTACTTTAGACTGACTCTTGGTGTTTATGATTACTTAGTTTCTACACAGGAGTTTAGATATATGAATTCACAGGGACTACTCCCACCCAAGAATAGCATAGATGCCTTCAAACTCAACATTAAATTGTTGGGTGTTGGTGGCAAACCTTGTATCAAAGTAGCCACTGTACAGTCTAAAATGTCAGATGTAAAGTGCACATCAGTAGTCTTACTCTCAGTTTTGCAACAACTCAGAGTAGAATCATCATCTAAATTGTGGGCTCAATGTGTCCAGTTACACAATGACATTCTCTTAGCTAAAGATACTACTGAAGCCTTTGAAAAAATGGTTTCACTACTTTCTGTTTTGCTTTCCATGCAGGGTGCTGTAGACATAAACAAGCTTTGTGAAGAAATGCTGGACAACAGGGCAACCTTACAAGCTATAGCCTCAGAGTTTAGTTCCCTTCCATCATATGCAGCTTTTGCTACTGCTCAAGAAGCTTATGAGCAGGCTGTTGCTAATGGTGATTCTGAAGTTGTTCTTAAAAAGTTGAAGAAGTCTTTGAATGTGGCTAAATCTGAATTTGACCGTGATGCAGCCATGCAACGTAAGTTGGAAAAGATGGCTGATCAAGCTATGACCCAAATGTATAAACAGGCTAGATCTGAGGACAAGAGGGCAAAAGTTACTAGTGCTATGCAGACAATGCTTTTCACTATGCTTAGAAAGTTGGATAATGATGCACTCAACAACATTATCAACAATGCAAGAGATGGTTGTGTTCCCTTGAACATAATACCTCTTACAACAGCAGCCAAACTAATGGTTGTCATACCAGACTATAACACATATAAAAATACGTGTGATGGTACAACATTTACTTATGCATCAGCATTGTGGGAAATCCAACAGGTTGTAGATGCAGATAGTAAAATTGTTCAACTTAGTGAAATTAGTATGGACAATTCACCTAATTTAGCATGGCCTCTTATTGTAACAGCTTTAAGGGCCAATTCTGCTGTCAAATTACAGAATAATGAGCTTAGTCCTGTTGCACTACGACAGATGTCTTGTGCTGCCGGTACTACACAAACTGCTTGCACTGATGACAATGCGTTAGCTTACTACAACACAACAAAGGGAGGTAGGTTTGTACTTGCACTGTTATCCGATTTACAGGATTTGAAATGGGCTAGATTCCCTAAGAGTGATGGAACTGGTACTATCTATACAGAACTGGAACCACCTTGTAGGTTTGTTACAGACACACCTAAAGGTCCTAAAGTGAAGTATTTATACTTTATTAAAGGATTAAACAACCTAAATAGAGGTATGGTACTTGGTAGTTTAGCTGCCACAGTACGTCTACAAGCTGGTAATGCAACAGAAGTGCCTGCCAATTCAACTGTATTATCTTTCTGTGCTTTTGCTGTAGATGCTGCTAAAGCTTACAAAGATTATCTAGCTAGTGGGGGACAACCAATCACTAATTGTGTTAAGATGTTGTGTACACACACTGGTACTGGTCAGGCAATAACAGTTACACCGGAAGCCAATATGGATCAAGAATCCTTTGGTGGTGCATCGTGTTGTCTGTACTGCCGTTGCCACATAGATCATCCAAATCCTAAAGGATTTTGTGACTTAAAAGGTAAGTATGTACAAATACCTACAACTTGTGCTAATGACCCTGTGGGTTTTACACTTAAAAACACAGTCTGTACCGTCTGCGGTATGTGGAAAGGTTATGGCTGTAGTTGTGATCAACTCCGCGAACCCATGCTTCAGTCAGCTGATGCACAATCGTTTTTAAACGGGTTTGCGGTGTAAGTGCAGCCCGTCTTACACCGTGCGGCACAGGCACTAGTACTGATGTCGTATACAGGGCTTTTGACATCTACAATGATAAAGTAGCTGGTTTTGCTAAATTCCTAAAAACTAATTGTTGTCGCTTCCAAGAAAAGGACGAAGATGACAATTTAATTGATTCTTACTTTGTAGTTAAGAGACACACTTTCTCTAACTACCAACATGAAGAAACAATTTATAATTTACTTAAGGATTGTCCAGCTGTTGCTAAACATGACTTCTTTAAGTTTAGAATAGACGGTGACATGGTACCACATATATCACGTCAACGTCTTACTAAATACACAATGGCAGACCTCGTCTATGCTTTAAGGCATTTTGATGAAGGTAATTGTGACACATTAAAAGAAATACTTGTCACATACAATTGTTGTGATGATGATTATTTCAATAAAAAGGACTGGTATGATTTTGTAGAAAACCCAGATATATTACGCGTATACGCCAACTTAGGTGAACGTGTACGCCAAGCTTTGTTAAAAACAGTACAATTCTGTGATGCCATGCGAAATGCTGGTATTGTTGGTGTACTGACATTAGATAATCAAGATCTCAATGGTAACTGGTATGATTTCGGTGATTTCATACAAACCACGCCAGGTAGTGGAGTTCCTGTTGTAGATTCTTATTATTCATTGTTAATGCCTATATTAACCTTGACCAGGGCTTTAACTGCAGAGTCACATGTTGACACTGACTTAACAAAGCCTTACATTAAGTGGGATTTGTTAAAATATGACTTCACGGAAGAGAGGTTAAAACTCTTTGACCGTTATTTTAAATATTGGGATCAGACATACCACCCAAATTGTGTTAACTGTTTGGATGACAGATGCATTCTGCATTGTGCAAACTTTAATGTTTTATTCTCTACAGTGTTCCCAC<br><span style='color:red'>C</span><br>T<br><span style='color:green'>T</span><br>ACAAGTTTTGGACCACTAGTGAGAAAAATATTTGTTGATGGTGTTCCATTTGTAGTTTCAACTGGATACCACTTCAGAGAGCTAGGTGTTGTACATAATCAGGATGTAAACTTACATAGCTCTAGACTTAGTTTTAAGGAATTACTTGTGTATGCTGCTGACCCTGCTATGCACGCTGCTTCTGGTAATCTATTACTAGATAAACGCACTACGTGCTTTTCAGTAGCTGCACTTACTAACAATGTTGCTTTTCAAACTGTCAAACCCGGTAATTTTAACAAAGACTTCTATGACTTTGCTGTGTCTAAGGGTTTCTTTAAGGAAGGAAGTTCTGTTGAATTAAAACACTTCTTCTTTGCTCAGGATGGTAATGCTGCTATCAGCGATTATGACTACTATCGTTATAATCTACCAACAATGTGTGATATCAGACAACTACTATTTGTAGTTGAAGTTGTTGATAAGTACTTTGATTGTTACGATGGTGGCTGTATTAATGCTAACCAAGTCATCGTCAACAACCTAGACAAATCAGCTGGTTTTCCATTTAATAAATGGGGTAAGGCTAGACTTTATTATGATTCAATGAGTTATGAGGATCAAGATGCACTTTTCGCATATACAAAACGTAATGTCATCCCTACTATAACTCAAATGAATCTTAAGTATGCCATTAGTGCAAAGAATAGAGCTCGCACCGTAGCTGGTGTCTCTATCTGTAGTACTATGACCAATAGACAGTTTCATCAAAAATTATTGAAATCAATAGCCGCCACTAGAGGAGCTACTGTAGTAATTGGAACAAGCAAATTCTATGGTGGTTGGCACAACATGTTAAAAACTGTTTATAGTGATGTAGAAAACCCTCACCTTATGGGTTGGGATTATCCTAAATGTGATAGAGCCATGCCTAACATGCTTAGAATTATGGCCTCACTTGTTCTTGCTCGCAAACATACAACGTGTTGTAGCTTGTCACACCGTTTCTATAGATTAGCTAATGAGTGTGCTCAAGTATTGAGTGAAATGGTCATGTGTGGC<br><span style='color:green'>A</span><br>G<br><span style='color:red'>G</span><br>TTCACTATATGTTAAACCAGGTGGAACCTCATCAGGAGATGCCACAACTGCTTATGCTAATAGTGTTTTTAACATTTGTCAAGCTGTCACGGCCAATGTTAATGCACTTTTATCTACTGATGGTAACAAAATTGCCGATAAGTATGTCCGCAATTTACAACACAGACTTTATGAGTGTCTCTATAGAAATAGAGATGTTGACACAGACTTTGTGAATGAGTTTTACGCATATTTGCGTAAACATTTCTCAATGATGATACTCTCTGACGATGCTGTTGTGTGTTTCAATAGCACTTATGCATCTCAAGGTCTAGTGGCTAGCATAAAGAACTTTAAGTCAGTTCTTTATTATCAAAACAATGTTTTTATGTCTGAAGCAAAATGTTGGACTGAGACTGACCTTACTAAAGGACCTCATGAATTTTGCTCTCAACATACAATGCTAGTTAAACAGGGTGATGATTATGTGTACCTTCCTTACCCAGATCCATCAAGAATCCTAGGGGCCGGCTGTTTTGTAGATGATATCGTAAAAACAGATGGTACACTTATGATTGAACGGTTCGTGTCTTTAGCTATAGATGCTTACCCACTTACTAAACATCCTAATCAGGAGTATGCTGATGTCTTTCATTTGTACTTACAATACATAAGAAAGCTACATGATGAGTTAACAGGACACATGTTAGACATGTATTCTGTTATGCTTACTAATGATAACACTTCAAGGTATTGGGAACCTGAGTTTTATGAGGCTATGTACACACCGCATACAGTCTTACAGGCTGTTGGGGCTTGTGTTCTTTGCAATTCACAGACTTCATTAAGATGTGGTGCTTGCATACGTAGACCATTCTTATGTTGTAAATGCTGTTACGACCATGTCATATCAACATCACATAAATTAGTCTTGTCTGTTAATCCGTATGTTTGCAATGCTCCAGGTTGTGATGTCACAGATGTGACTCAACTTTACTTAGGAGGTATGAGCTATTATTGTAAATCACATAAAC<br><span style='color:blue'>T</span><br>ACCCATTAGTTTTCCATTGTGTGCTAATGGACAAGTTTTTGGTTTATATAAAAATACATGTGTTGGTAGCGATAATGTTACTGACTTTAATGCAATTGCAACATGTGACTGGACAAATGCTGGTGATTACATTTTAGCTAACACCTGTACTGAAAGACTCAAGCTTTTTGCAGCAGAAACGCTCAAAGCTACTGAGGAGACATTTAAACTGTCTTATGGTATTGCTACTGTACGTGAAGTGCTGTCTGACAGAGAATTACATCTTTCATGGGAAGTTGGTAAACCTAGACCACCACTTAACCGAAATTATGTCTTTACTGGTTATCGTGTAACTAAAAACAGTAAAGTACAAATAGGAGAGTACACCTTTGAAAAAGGTGACTATGGTGATGCTGTTGTTTACCGAGGTACAACAACTTACAAATTAAATGTTGGTGATTATTTTGTGCTGACATCACATACAGTAATGCCATTAAGTGCACCTACACTAGTGCCACAAGAGCACTATGTTAGAATTACTGGCTTATACCCAACACTCAATATCTCAGATGAGTTTTCTAGCAATGTTGCAAATTATCAAAAGGTTGGTATGCAAAAGTATTCTACACTCCAGGGACCACCTGGTACTGGTAAGAGTCATTTTGCTATTGGCCTAGCTCTCTACTACCCTTCTGCTCGCATAGTGTATACAGCTTGCTCTCATGCCGCTGTTGATGCACTATGTGAGAAGGCATTAAAATATTTGCCTATAGATAAATGTAGTAGAATTATACCTGCACGTGCTCGTGTAGAGTGTTTTGATAAATTCAAAGTGAATTCAACATTAGAACAGTATGTCTTTTGTACTGTAAATGCATTGCCTGAGACGACAGCAGATATAGTTGTCTTTGATGAAATTTCAATGGCCACAAATTATGATTTGAGTGTTGTCAATGCCAGATTACGTGCTAAGCACTATGTGTACATTGGCGACCCTGCTCAATTACCTGCACCACGCACATTGCTAACTAAGGGCACACTAGAACCAGAATATTTCAATTCAGTGTGTAGACTTATGAAAACTATAGGTCCAGACATGTTCCTCGGAACTTGTCGGCGTTGTCCTGCTGAAATTGTTGACACTGTGAGTGCTTTGGTTTATGATAATAAGCTTAAAGCACATAAAGACAAATCAGCTCAATGCTTTAAAATGTTTTATAAGGGTGTTATCACGCATGATGTTTCATCTGCAATTAACAGGCCACAAATAGGCGTGGTAAGAGAATTCCTTACACGTAACCCTGCTTGGAGAAAAGCTGTCTTTATTTCACCTTATAATTCACAGAATGCTGTAGCCTCAAAGATTTTGGGACTACCAACTCAAACTGTTGATTCATCACAGGGCTCAGAATATGACTATGTCATATTCACTCAAACCACTGAAACAGCTCACTCTTGTAATGTAAACAGATTTAATGTTGCTATTACCAGAGCAAAAGTAGGCATACTTTGCATAATGTCTGATAGAGACCTTTATGACAAGTTGCAATTTACAAGTCTTGAAATTCCACGTAGGAATGTGGCAACTTTACAAGCTGAAAATGTAACAGGACTCTTTAAAGATTGTAGTAAGGTAATCACTGGGTTACATCCTACACAGGCACCTACACACCTCAGTGTTGACACTAAATTCAAAACTGAAGGTTTATGTGTTGACATACCTGGCATACCTAAGGACATGACCTATAGAAGACTCATCTCTATGATGGGTTTTAAAATGAATTATCAAGTTAATGGTTACCCTAACATGTTTATCACCCGCGAAGAAGCTATAAGACATGTACGTGCATGGATTGGCTTCGATGTCGAGGGGTGTCATGCTACTAGAGAAGCTGTTGGTACCAATTTACCTTTACAGCTAGGTTTTTCTACAGGTGTTAACCTAGTTGCTGTACCTACAGGTTATGTTGATACACCTAATAATACAGATTTTTCCAGAGTTAGTGCTAAACCACCGCCTGGAGATCAATTTAAACACCTCATACCACTTATGTACAAAGGACTTCCTTGGAATGTAGTGCGTATAAAGATTGTACAAATGTTAAGTGACACACTTAAAAATCTCTCTGACAGAGTCGTATTTGTCTTATGGGCACATGGCTTTGAGTTGACATCTATGAAGTATTTTGTGAAAATAGGACCTGAGCGCACCTGTTGTCTATGTGATAGACGTGCCACATGCTTTTCCACTGCTTCAGACACTTATGCCTGTTGGCATCATTCTATTGGATTTGATTACGTCTATAATCCGTTTATGATTGATGTTCAACAATGGGGTTTTACAGGTAACCTACAAAGCAACCATGATCTGTATTGTCAAGTCCATGGTAATGCACATGTAGCTAGTTGTGATGCAATCATGACTAGGTGTCTAGCTGTCCACGAGTGCTTTGTTAAGCGTGTTGACTGGACTATTGAATATCCTATAATTGGTGATGAACTGAAGATTAATGCGGCTTGTAGAAAGGTTCAACACATGGTTGTTAAAGCTGCATTATTAGCAGACAAATTCCCAGTTCTTCACGACATTGGTAACCCTAAAGCTATTAAGTGTGTACCTCAAGCTGATGTAGAATGGAAGTTCTATGATGCACAGCCTTGTAGTGACAAAGCTTATAAAATAGAAGAATTATTCTATTCTTATGCCACACATTCTGACAAATTCACAGATGGTGTATGCCTATTTTGGAATTGCAATGTCGATAGATATCCTG<br><span style='color:red'>C</span><br>T<br><span style='color:green'>T</span><br>AATTCCATTGTTTGTAGATTTGACACTAGAGTGCTATCTAACCTTAACTTGCCTGGTTGTGATGGTGGCAGTTTGTATGTAAATAAACATGCATTCCACACACCAGCTTTTGATAAAAGTGCTTTTGTTAATTTAAAACAATTACCATTTTTCTATTACTCTGACAGTCCATGTGAGTCTCATGGAAAACAAGTAGTGTCAGATATAGATTATGTACCACTAAAGTCTGCTACGTGTATAACACGTTGCAATTTAGGTGGTGCTGTCTGTAGACATCATGCTAATGAGTACAGATTGTATCTCGATGCTTATAACATGATGATCTCAGCTGGCTTTAGCTTGTGGGTTTACAAACAATTTGATACTTATAACCTCTGGAACACTTTTACAAGACTTCAGAGTTTAGAAAATGTGGCTTTTAATGTTGTAAATAAGGGACACTTTGATGGACAACAGGGTGAAGTACCAGTTTCTATCATTAATAACACTGTTTACACAAAAGTTGATGGTGTTGATGTAGAATTGTTTGAAAATAAAACAACATTACCTGTTAATGTAGCATTTGAGCTTTGGGCTAAGCGCAACATTAAACCAGTACCAGAGGTGAAAATACTCAATAATTTGGGTGTGGACATTGCTGCTAATACTGTGATCTGGGACTACAAAAGAGATGCTCCAGCACATATATCTACTATTGGTGTTTGTTCTATGACTGACATAGCCAAGAAACCAACTGAAACGATTTGTGCACCACTCACTGTCTTTTTTGATGGTAGAGTTGATGGTCAAGTAGACTTATTTAGAAATGCCCGTAATGGTGTTCTTATTACAGAAGGTAGTGTTAAAGGTTTACAACCATCTGTAGGTCCCAAACAAGCTAGTCTTAATGGAGTCACATTAATTGGAGAAGCCGTAAAAACACAGTTCAATTATTATAAGAAAGTTGATGGTGTTGTCCAACAATTACCTGAAACTTACTTTACTCAGAGTAGAAATTTACAAGAATTTAAACCCAGGAGTCAAATGGAAATTGATTTCTTAGAATTAGCTATGGATGAATTCATTGAACGGTATAAATTAGAAGGCTATGCCTTCGAACATATCGTTTATGGAGATTTTAGTCATAGTCAGTTAGGTGGTTTACATCTACTGATTGGACTAGCTAAACGTTTTAAGGAATCACCTTTTGAATTAGAAGATTTTATTCCTATGGACAGTACAGTTAAAAACTATTTCATAACAGATGCGCAAACAGGTTCATCTAAGTGTGTGTGTTCTGTTATTGATTTATTACTTGATGATTTTGTTGAAATAATAAAATCCCAAGATTTATCTGTAGTTTCTAAGGTTGTCAAAGTGACTATTGACTATACAGAAATTTCATTTATGCTTTGGTGTAAAGATGGCCATGTAGAAACATTTTACCCAAAATTACAATCTAGTCAAGCGTGGCAACCGGGTGTTGCTATGCCTAATCTTTACAAAATGCAAAGAATGCTATTAGAAAAGTGTGACCTTCAAAATTATGGTGATAGTGCAACATTACCTAAAGGCATAATGATGAATGTCGCAAAATATACTCAACTGTGTCAATATTTAAACACATTAACATTAGCTGTACCCTATAATATGAGAGTTATACATTTTGGTGCTGGTTCTGATAAAGGAGTTGCACCAGGTACAGCTGTTTTAAGACAGTGGTTGCCTACGGGTACGCTGCTTGTCGATTCAGATCTTAATGACTTTGTCTCTGATGCAGATTCAACTTTGATTGGTGATTGTGCAACTGTACATACAGCTAATAAATGGGATCTCATTATTAGTGATATGTACGACCCTAAGACTAAAAATGTTACAAAAGAAAATGACTCTAAAGAGGGTTTTTTCACTTACATTTGTGGGTTTATACAACAAAAGCTAGCTCTTGGAGGTTCCGTGGCTATAAAGATAACAGAACATTCTTGGAATGCTGATCTTTATAAGCTCATGGGACACTTCGCATGGTGGACAGCCTTTGTTACTAATGTGAATGCGTCATCATCTGAAGCATTTTTAATTGGATGTAATTATCTTGGCAAACCACGCGAACAAATAGATGGTTATGTCATGCATGCAAATTACATATTTTGGAGGAATACAAATCCAATTCAGTTGTCTTCCTATTCTTTATTTGACATGAGTAAATTTCCCCTTAAATTAAGGGGTACTGCTGTTATGTCTTTAAAAGAAGGTCAAATCAATGATATGATTTTATCTCTTCTTAGTAAAGGTAGACTTATAATTAGAGAAAACAACAGAGTTGTTATTTCTAGTGATGTTCTTGTTAACAACTAAACGAACAATGTTTGTTTTTCTTGTTTTATTGCCACTAGTCTCTAGTCAGTGTGTTAATCTTA<br><span style='color:blue'>G</span><br>AACCAGAACTCAATTACCCCCTGCATACACTAATTCTTTCACACGTGGTGTTTATTACCCTGACAAAGTTTTCAGATCCTCAGTTTTACATTCAACTCAGGACTTGTTCTTACCTTTCTTTTCCAATGTTACTTGGTTCCATGCTATACATGTCTCTGGGACCAATGGTACTAAGAGGTTTGATAACCCTGTCCTACCATTTAATGATGGTGTTTATTTTGCTTCCACTGAGAAGTCTAACATAATAAGAGGCTGGATTTTTGGTACTACTTTAGATTCGAAGACCCAGTCCCTACTTATTGTTAATAACGCTACTAATGTTGTTATTAAAGTCTGTGAATTTCAATTTTGTAATGATCCATTTTTGG<br><span style='color:blue'>A</span><br>TGTTTATTACCACAAAAACAACAAAAGTTGGATGGAAAGTG<br><span style='color:red'>A</span><br>G<br><span style='color:red'>TTC</span><br>AG<br><span style='color:red'>AG</span><br>TTTATTCTAGTGCGAATAATTGCACTTTTGAATATGTCTCTCAGCCTTTTCTTATGGACCTTGAAGGAAAACAGGGTAATTTCAAAAATCTTAGGGAATTTGTGTTTAAGAATATTGATGGTTATTTTAAAATATATTCTAAGCACACGCCTATTAATTTAGTGCGTGATCTCCCTCAGGGTTTTTCGGCTTTAGAACCATTGGTAGATTTGCCAATAGGTATTAACATCACTAGGTTTCAAACTTTACTTGCTTTACATAGAAGTTATTTGACTCCTGGTGATTCTTCTTCAGGTTGGACAGCTGGTGCTGCAGCTTATTATGTGGGTTATCTTCAACCTAGGACTTTTCTATTAAAATATAATGAAAATGGAACCATTACAGATGCTGTAGACTGTGCACTTGACCCTCTCTCAGAAACAAAGTGTACGTTGAAATCCTTCACTGTAGAAAAAGGAATCTATCAAACTTCTAACTTTAGAGTCCAACCAACAGAATCTATTGTTAGATTTCCTAATATTACAAACTTGTGCCCTTTTGGTGAAGTTTTTAACGCCACCAGATTTGCATCTGTTTATGCTTGGAACAGGAAGAGAATCAGCAACTGTGTTGCTGATTATTCTGTCCTATATAATTCCGCATCATTTTCCACTTTTAAGTGTTATGGAGTGTCTCCTACTAAATTAAATGATCTCTGCTTTACTAATGTCTATGCAGATTCATTTGTAATTAGAGGTGATGAAGTCAGACAAATCGCTCCAGGGCAAACTGGAAAGATTGCTGATTATAATTATAAATTACCAGATGATTTTACAGGCTGCGTTATAGCTTGGAATTCTAACAATCTTGATTCTAAGGTTGGTGGTAATTATAATTACC<br><span style='color:red'>T</span><br>G<br><span style='color:green'>G</span><br>TATAGATTGTTTAGGAAGTCTAATCTCAAACCTTTTGAGAGAGATATTTCAACTGAAATCTATCAGGCCGGTAGCA<br><span style='color:red'>C</span><br>A<br><span style='color:green'>A</span><br>CCTTGTAATGGTGTTGAAGGTTTTAATTGTTACTTTCCTTTACAATCATATGGTTTCCAACCCACTAATGGTGTTGGTTACCAACCATACAGAGTAGTAGTACTTTCTTTTGAACTTCTACATGCACCAGCAACTGTTTGTGGACCTAAAAAGTCTACTAATTTGGTTAAAAACAAATGTGTCAATTTCAACTTCAATGGTTTAACAGGCACAGGTGTTCTTACTGAGTCTAACAAAAAGTTTCTGCCTTTCCAACAATTTGGCAGAGACATTGCTGACACTACTGATGCTGTCCGTGATCCACAGACACTTGAGATTCTTGACATTACACCATGTTCTTTTGGTGGTGTCAGTGTTATAACACCAGGAACAAATACTTCTAACCAGGTTGCTGTTCTTTATCAGG<br><span style='color:blue'>G</span><br>TGTTAACTGCACAGAAGTCCCTGTTGCTATTCATGCAGATCAACTTACTCCTACTTGGCGTGTTTATTCTACAGGTTCTAATGTTTTTCAAACACGTGCAGGCTGTTTAATAGGGGCTGAACATGTCAACAACTCATATGAGTGTGACATACCCATTGGTGCAGGTATATGCGCTAGTTATCAGACTCAGACTAATTCTC<br><span style='color:blue'>G</span><br>TCGGCGGGCACGTAGTGTAGCTAGTCAATCCATCATTGCCTACACTATGTCACTTGGTGCAGAAAATTCAGTTGCTTACTCTAATAACTCTATTGCCATACCCACAAATTTTACTATTAGTGTTACCACAGAAATTCTACCAGTGTCTATGACCAAGACATCAGTAGATTGTACAATGTACATTTGTGGTGATTCAACTGAATGCAGCAATCTTTTGTTGCAATATGGCAGTTTTTGTACACAATTAAACCGTGCTTTAACTGGAATAGCTGTTGAACAAGACAAAAACACCCAAGAAGTTTTTGCACAAGTCAAACAAATTTACAAAACACCACCAATTAAAGATTTTGGTGGTTTTAATTTTTCACAAATATTACCAGATCCATCAAAACCAAGCAAGAGGTCATTTATTGAAGATCTACTTTTCAACAAAGTGACACTTGCAGATGCTGGCTTCATCAAACAATATGGTGATTGCCTTGGTGATATTGCTGCTAGAGACCTCATTTGTGCACAAAAGTTTAACGGCCTTACTGTTTTGCCACCTTTGCTCACAGATGAAATGATTGCTCAATACACTTCTGCACTGTTAGCGGGTACAATCACTTCTGGTTGGACCTTTGGTGCAGGTGCTGCATTACAAATACCATTTGCTATGCAAATGGCTTATAGGTTTAATGGTATTGGAGTTACACAGAATGTTCTCTATGAGAACCAAAAATTGATTGCCAACCAATTTAATAGTGCTATTGGCAAAATTCAAGACTCACTTTCTTCCACAGCAAGTGCACTTGGAAAACTTCAA<br><span style='color:red'>G</span><br>A<br><span style='color:green'>A</span><br>TGTGGTCAACCAAAATGCACAAGCTTTAAACACGCTTGTTAAACAACTTAGCTCCAATTTTGGTGCAATTTCAAGTGTTTTAAATGATATCCTTTCACGTCTTGACAAAGTTGAGGCTGAAGTGCAAATTGATAGGTTGATCACAGGCAGACTTCAAAGTTTGCAGACATATGTGACTCAACAATTAATTAGAGCTGCAGAAATCAGAGCTTCTGCTAATCTTGCTGCTACTAAAATGTCAGAGTGTGTACTTGGACAATCAAAAAGAGTTGATTTTTGTGGAAAGGGCTATCATCTTATGTCCTTCCCTCAGTCAGCACCTCATGGTGTAGTCTTCTTGCATGTGACTTATGTCCCTGCACAAGAAAAGAACTTCACAACTGCTCCTGCCATTTGTCATGATGGAAAAGCACACTTTCCTCGTGAAGGTGTCTTTGTTTCAAATGGCACACACTGGTTTGTAACACAAAGGAATTTTTATGAACCACAAATCATTACTACAGACAACACATTTGTGTCTGGTAACTGTGATGTTGTAATAGGAATTGTCAACAACACAGTTTATGATCCTTTGCAACCTGAATTAGACTCATTCAAGGAGGAGTTAGATAAATATTTTAAGAATCATACATCACCAGATGTTGATTTAGGTGACATCTCTGGCATTAATGCTTCA<br><span style='color:red'>G</span><br>TT<br><span style='color:green'>T</span><br>GTAAACATTCAAAAAGAAATTGACCGCCTCAATGAGGTTGCCAAGAATTTAAATGAATCTCTCATCGATCTCCAAGAACTTGGAAAGTATGAGCAGTATATAAAATGGCCATGGTACATTTGGCTAGGTTTTATAGCTGGCTTGATTGCCATAGTAATGGTGACAATTATGCTTTGCTGTATGACCAGTTGCTGTAGTTGTCTCAAGGGCTGTTGTTCTTGTGGATCCTGCTGCAAATTTGATGAAGACGACTCTGAGCCA<br><span style='color:red'>G</span><br>T<br><span style='color:green'>T</span><br>GCTCAAAGGAGTCAAATTACATTACACATAAACGAACTTATGGATTTGTTTATGAGAATCTTCACAATTGGAACTGTAACTTTGAAGCAAGGTGAAATCAAGGATGCTACTCCTT<br><span style='color:blue'>T</span><br>AGATTTTGTTCGCGCTACTGCAACGATACCGATACAAGCCTCACTCCCTTTCGGATGGCTTATTGTTGGCGTTGCACTTCTTGCTGTTTTTCAGAGCGCTTCCAAAATCATAACCCTCAAAAAGAGATGGCAACTAGCACTCTCCAAGGGTGTTCACTTTGTTTGCAACTTGCTGTTGTTGTTTGTAACAGTTTACTCACACCTTTTGCTCGTTGCTGCTGGCCTTGAAGCCCCTTTTCTCTATCTTTATGCTTTAGTCTACTTCTTGCAGAGTATAAACTTTGTAAGAATAATAATGAGGCTTTGGCTTTGCTGGAAATGCCGTTCCAAAAACCCATTACTTTATGATGCCAACTATTTTCTTTGCTGGCATACTAATTGTTACGACTATTGTATACCTTACAATAGTGTAACTTCTTCAATTGTCATTACTTCAGGTGATGGCACAACAAGTCCTATTTCTGAACATGACTACCAGATTGGTGGTTATACTGAAAAATGGGAATCTGGAGTAAAAGACTGTGTTGTATTACACAGTTACTTCACTTCAGACTATTACCAGCTGTACTCAACTCAATTGAGTACAGACACTGGTGTTGAACATGTTACCTTCTTCATCTACAATAAAATTGTTGATGAGCCTGAAGAACATGTCCAAATTCACACAATCGACGGTTCATCCGGAGTTGTTAATCCAGTAATGGAACCAATTTATGATGAACCGACGACGACTACTAGCGTGCCTTTGTAAGCACAAGCTGATGAGTACGAACTTATGTACTCATTCGTTTCGGAAGAGACAGGTACGTTAATAGTTAATAGCGTACTTCTTTTTCTTGCTTTCGTGGTATTCTTGCTAGTTACACTAGCCATCCTTACTGCGCTTCGATTGTGTGCGTACTGCTGCAATATTGTTAACGTGAGTCTTGTAAAACCTTCTTTTTACGTTTACTC<br><span style='color:red'>T</span><br>C<br><span style='color:green'>C</span><br>GTGTTAAAAATCTGAATTCTTCTAGAGTTCCTGATCTTCTGGTCTAAACGAACTAAATATTATATTAGTTTTTCTGTTTGGAACTTTAATTTTAGCCATGGCAGATTCCAACGGTACTATTACCGTTGAAGAGCTTAAAAAGCTCCTTGAACAATGGAACCTAGTAATAGGTTTCCTATTCCTTACATGGATTTGTCTTCTACAATTTGCCTATGCCAACAGGAATAGGTTTTTGTATATAATTAAGTTAATTTTCCTCTGGCTGTTATGGCCAGTAACTTTAGCTTGTTTTGTGCTTGCTGCTGTTTACAGAATAAATTGGATCACCGGTGGAATTGCTA<br><span style='color:red'>T</span><br>C<br><span style='color:green'>C</span><br>GCAATGGCTTGTCTTGTAGGCTTGATGTGGCTCAGCTACTTCATTGCTTCTTTCAGACTGTTTGCGCGTACGCGTTCCATGTGGTCATTCAATCCAGAAACTAACATTCTTCTCAACGTGCCACTCCATGGCACTATTCTGACCAGACCGCTTCTAGAAAGTGAACTCGTAATCGGAGCTGTGATCCTTCGTGGACATCTTCGTATTGCTGGACACCATCTAGGACGCTGTGACATCAAGGACCTGCCTAAAGAAATCACTGTTGCTACATCACGAACGCTTTCTTATTACAAATTGGGAGCTTCGCAGCGTGTAGCAGGTGACTCAGGTTTTGCTGCATACAGTCGCTACAGGATTGGCAACTATAAATTAAACACAGACCATTCCAGTAGCAGTGACAATATTGCTTTGCTTGTACAGTAAGTGACAACAGATGTTTCATCTCGTTGACTTTCAGGTTACTATAGCAGAGATATTACTAATTATTATGAGGACTTTTAAAGTTTCCATTTGGAATCTTGATTACATCATAAACCTCATAATTAAAAATTTATCTAAGTCACTAACTGAGAATAAATATTCTCAATTAGATGAAGAGCAACCAATGGAGATTGATTAAACGAACATGAAAATTATTCTTTTCTTGGCACTGATAACACTCGCTACTTGTGAGCTTTATCACTACCAAGAGTGTGTTAGAGGTACAACAGTACTTTTAAAAGAACCTTGCTCTTCTGGAACATACGAGGGCAATTCAC<br><span style='color:blue'>T</span><br>ATTTCATCCTCTAGCTGATAACAAATTTGCACTGACTTGCTTTAGCACTCAATTTGCTTTTGCTTGTCCTGACGGCGTAAAACACGTCTATCAGTTACGTGCCAGATCAG<br><span style='color:green'>C</span><br>TT<br><span style='color:red'>T</span><br>CACCTAAACTGTTCATCAGACAAGAGGAAGTTCAAGAACTTTACTCTCCAATTTTTCTTATTGTTGCGGCAATAGTGTTTATAACACTTTGCTTCACACTCAAAAGAAAGA<br><span style='color:blue'>T</span><br>AGAATGATTGAACTTTCATTAATTGACTTCTATTTGTGCTTTTTAGCCTTTCTGCTATTCCTTGTTTTAATTATGCTTATTATCTTTTGGTTCTCACTTGAACTGCAAGATCATAATGAAA<br><span style='color:red'>C</span><br>TT<br><span style='color:green'>T</span><br>GTCACGCCTAAACGAACATGAAATTTCTTGTTTTCTTAGGAATCATCACAACTGTAGCTGCATTTCACCAAGAATGTAGTTTACAGTCATGTACTCAACATCAACCATATGTAGTTGATGACCCGTGTCCTATTCACTTCTATTCTAAATGGTATATTAGAGTAGGAGCTAGAAAATCAGCACCTTTAATTGAATTGTGCGTGGATGAGGCTGGTTCTAAATCACCCATTCAGTACATCGATATCGGTAATTATACAGTTTCCTGTTTACCTTTTACAATTAATTGCCAGGAACCTAAATTGGGTAGTCTTGTAGTGCGTTGTTCGTTCTATGAAGACTTTTTAGAGTATCATGACGTTCGTGTTGTTTTA<br><span style='color:red'>G</span><br>AT<br><span style='color:red'>TT</span><br>C<br><span style='color:red'>A</span><br>T<br><span style='color:red'>CT</span><br>AAACGAACAAACTAAA<br><span style='color:red'>A</span><br>TGTCTGATAATGGACCCCAAAATCAGCGAAATGCACCCCGCATTACGTTTGGTGGACCCTCAGATTCAACTGGCAGTAACCAGAATGGAGAACGCAGTGGGGCGCGATCAAAACAACGTCGGCCCCAAGGTTTACCCAATAATACTGCGTCTTGGTTCACCGCTCTCACTCAACATGGCAAGGAAG<br><span style='color:blue'>G</span><br>CCTTAAATTCCCTCGAGGACAAGGCGTTCCAATTAACACCAATAGCAGTCCAGATGACCAAATTGGCTACTACCGAAGAGCTACCAGACGAATTCGTGGTGGTGACGGTAAAATGAAAGATCTCAGTCCAAGATGGTATTTCTACTACCTAGGAACTGGGCCAGAAGCTGGACTTCCCTATGGTGCTAACAAAGACGGCATCATATGGGTTGCAACTGAGGGAGCCTTGAATACACCAAAAGATCACATTGGCACCCGCAATCCTGCTAACAATGCTGCAATCGTGCTACAACTTCCTCAAGGAACAACATTGCCAAAAGGCTTCTACGCAGAAGGGAGCAGAGGCGGCAGTCAAGCCTCTTCTCGTTCCTCATCACGTAGTCGCAACAGTTCAAGAAATTCAACTCCAGGCAGCAGTA<br><span style='color:green'>T</span><br>GGG<br><span style='color:red'>G</span><br>AACTTCTCCTGCTAGAATGGCTGGCAATGGC<br><span style='color:green'>T</span><br>G<br><span style='color:red'>G</span><br>TGATGCTGCTCTTGCTTTGCTGCTGCTTGACAGATTGAACCAGCTTGAGAGCAAAATGTCTGGTAAAGGCCAACAACAACAAGGCCAAACTGTCACTAAGAAATCTGCTGCTGAGGCTTCTAAGAAGCCTCGGCAAAAACGTACTGCCACTAAAGCATACAATGTAACACAAGCTTTCGGCAGACGTGGTCCAGAACAAACCCAAGGAAATTTTGGGGACCAGGAACTAATCAGACAAGGAACTGATTACAAACATTGGCCGCAAATTGCACAATTTGCCCCCAGCGCTTCAGCGTTCTTCGGAATGTCGCGCATTGGCATGGAAGTCACACCTTCGGGAACGTGGTTGACCTACACAGGTGCCATCAAATTGGATGACAAAGATCCAAATTTCAAAGATCAAGTCATTTTGCTGAATAAGCATATTGACGCATACAAAACATTCCCACCAACAGAGCCTAAAAAGGACAAAAAGAAGAAGGCT<br><span style='color:blue'>T</span><br>ATGAAACTCAAGCCTTACCGCAGAGACAGAAGAAACAGCAAACTGTGACTCTTCTTCCTGCTGCAGATTTGGATGATTTCTCCAAACAATTGCAACAATCCATGAGCAGTGCTGACTCAACTCAGGCCTAAACTCATGCAGACCACACAAGGCAGATGGGCTATATAAACGTTTTCGCTTTTCCGTTTACGATATATAGTCTACTCTTGTGCAGAATGAATTCTCGTAACTACATAGCACAAGTAGATGTAGTTAACTTTAATCTCACATAGCAATCTTTAATCAGTGTGTAACATTAGGGAGGACTTGAAAGAGCCACCACATTTTCACCGAGGCCAC<br><span style='color:blue'>T</span><br>CGGAGTACGATCGAGTGTACAGTGAACAATGCTAGGGAGAGCTGCCTATATGGAAGAGCCCTAATGTGTAAAATTAATTTTAGTAGTGCTATCCCCATGTGATTTTAATAGCTTCTTAGGAGAATGACA"
      ],
      "text/plain": [
       "<IPython.core.display.HTML object>"
      ]
     },
     "metadata": {},
     "output_type": "display_data"
    }
   ],
   "source": [
    "display(HTML('<br>'.join(display_seq)))"
   ]
  },
  {
   "cell_type": "code",
   "execution_count": null,
   "metadata": {},
   "outputs": [],
   "source": []
  }
 ],
 "metadata": {
  "kernelspec": {
   "display_name": "Python 3",
   "language": "python",
   "name": "python3"
  },
  "language_info": {
   "codemirror_mode": {
    "name": "ipython",
    "version": 3
   },
   "file_extension": ".py",
   "mimetype": "text/x-python",
   "name": "python",
   "nbconvert_exporter": "python",
   "pygments_lexer": "ipython3",
   "version": "3.6.5"
  }
 },
 "nbformat": 4,
 "nbformat_minor": 2
}
