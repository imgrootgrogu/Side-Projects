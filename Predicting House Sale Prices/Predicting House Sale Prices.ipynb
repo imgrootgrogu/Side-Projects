{
 "cells": [
  {
   "cell_type": "markdown",
   "metadata": {
    "collapsed": true
   },
   "source": [
    "# Predicting House Sale Prices\n",
    "## Introduction"
   ]
  },
  {
   "cell_type": "code",
   "execution_count": 1,
   "metadata": {},
   "outputs": [],
   "source": [
    "import pandas as pd\n",
    "pd.options.display.max_columns=999\n",
    "import numpy as np\n",
    "import matplotlib.pyplot as plt\n",
    "from sklearn.model_selection import KFold\n",
    "\n",
    "from sklearn.metrics import mean_squared_error\n",
    "from sklearn import linear_model\n",
    "from sklearn.model_selection import KFold"
   ]
  },
  {
   "cell_type": "code",
   "execution_count": 2,
   "metadata": {},
   "outputs": [
    {
     "name": "stdout",
     "output_type": "stream",
     "text": [
      "<class 'pandas.core.frame.DataFrame'>\n",
      "RangeIndex: 2930 entries, 0 to 2929\n",
      "Data columns (total 82 columns):\n",
      " #   Column           Non-Null Count  Dtype  \n",
      "---  ------           --------------  -----  \n",
      " 0   Order            2930 non-null   int64  \n",
      " 1   PID              2930 non-null   int64  \n",
      " 2   MS SubClass      2930 non-null   int64  \n",
      " 3   MS Zoning        2930 non-null   object \n",
      " 4   Lot Frontage     2440 non-null   float64\n",
      " 5   Lot Area         2930 non-null   int64  \n",
      " 6   Street           2930 non-null   object \n",
      " 7   Alley            198 non-null    object \n",
      " 8   Lot Shape        2930 non-null   object \n",
      " 9   Land Contour     2930 non-null   object \n",
      " 10  Utilities        2930 non-null   object \n",
      " 11  Lot Config       2930 non-null   object \n",
      " 12  Land Slope       2930 non-null   object \n",
      " 13  Neighborhood     2930 non-null   object \n",
      " 14  Condition 1      2930 non-null   object \n",
      " 15  Condition 2      2930 non-null   object \n",
      " 16  Bldg Type        2930 non-null   object \n",
      " 17  House Style      2930 non-null   object \n",
      " 18  Overall Qual     2930 non-null   int64  \n",
      " 19  Overall Cond     2930 non-null   int64  \n",
      " 20  Year Built       2930 non-null   int64  \n",
      " 21  Year Remod/Add   2930 non-null   int64  \n",
      " 22  Roof Style       2930 non-null   object \n",
      " 23  Roof Matl        2930 non-null   object \n",
      " 24  Exterior 1st     2930 non-null   object \n",
      " 25  Exterior 2nd     2930 non-null   object \n",
      " 26  Mas Vnr Type     2907 non-null   object \n",
      " 27  Mas Vnr Area     2907 non-null   float64\n",
      " 28  Exter Qual       2930 non-null   object \n",
      " 29  Exter Cond       2930 non-null   object \n",
      " 30  Foundation       2930 non-null   object \n",
      " 31  Bsmt Qual        2850 non-null   object \n",
      " 32  Bsmt Cond        2850 non-null   object \n",
      " 33  Bsmt Exposure    2847 non-null   object \n",
      " 34  BsmtFin Type 1   2850 non-null   object \n",
      " 35  BsmtFin SF 1     2929 non-null   float64\n",
      " 36  BsmtFin Type 2   2849 non-null   object \n",
      " 37  BsmtFin SF 2     2929 non-null   float64\n",
      " 38  Bsmt Unf SF      2929 non-null   float64\n",
      " 39  Total Bsmt SF    2929 non-null   float64\n",
      " 40  Heating          2930 non-null   object \n",
      " 41  Heating QC       2930 non-null   object \n",
      " 42  Central Air      2930 non-null   object \n",
      " 43  Electrical       2929 non-null   object \n",
      " 44  1st Flr SF       2930 non-null   int64  \n",
      " 45  2nd Flr SF       2930 non-null   int64  \n",
      " 46  Low Qual Fin SF  2930 non-null   int64  \n",
      " 47  Gr Liv Area      2930 non-null   int64  \n",
      " 48  Bsmt Full Bath   2928 non-null   float64\n",
      " 49  Bsmt Half Bath   2928 non-null   float64\n",
      " 50  Full Bath        2930 non-null   int64  \n",
      " 51  Half Bath        2930 non-null   int64  \n",
      " 52  Bedroom AbvGr    2930 non-null   int64  \n",
      " 53  Kitchen AbvGr    2930 non-null   int64  \n",
      " 54  Kitchen Qual     2930 non-null   object \n",
      " 55  TotRms AbvGrd    2930 non-null   int64  \n",
      " 56  Functional       2930 non-null   object \n",
      " 57  Fireplaces       2930 non-null   int64  \n",
      " 58  Fireplace Qu     1508 non-null   object \n",
      " 59  Garage Type      2773 non-null   object \n",
      " 60  Garage Yr Blt    2771 non-null   float64\n",
      " 61  Garage Finish    2771 non-null   object \n",
      " 62  Garage Cars      2929 non-null   float64\n",
      " 63  Garage Area      2929 non-null   float64\n",
      " 64  Garage Qual      2771 non-null   object \n",
      " 65  Garage Cond      2771 non-null   object \n",
      " 66  Paved Drive      2930 non-null   object \n",
      " 67  Wood Deck SF     2930 non-null   int64  \n",
      " 68  Open Porch SF    2930 non-null   int64  \n",
      " 69  Enclosed Porch   2930 non-null   int64  \n",
      " 70  3Ssn Porch       2930 non-null   int64  \n",
      " 71  Screen Porch     2930 non-null   int64  \n",
      " 72  Pool Area        2930 non-null   int64  \n",
      " 73  Pool QC          13 non-null     object \n",
      " 74  Fence            572 non-null    object \n",
      " 75  Misc Feature     106 non-null    object \n",
      " 76  Misc Val         2930 non-null   int64  \n",
      " 77  Mo Sold          2930 non-null   int64  \n",
      " 78  Yr Sold          2930 non-null   int64  \n",
      " 79  Sale Type        2930 non-null   object \n",
      " 80  Sale Condition   2930 non-null   object \n",
      " 81  SalePrice        2930 non-null   int64  \n",
      "dtypes: float64(11), int64(28), object(43)\n",
      "memory usage: 1.8+ MB\n"
     ]
    }
   ],
   "source": [
    "house=pd.read_csv('AmesHousing.tsv',delimiter='\\t')\n",
    "house.info()"
   ]
  },
  {
   "cell_type": "code",
   "execution_count": 17,
   "metadata": {},
   "outputs": [],
   "source": [
    "def transform_features(df):\n",
    "    return df\n",
    "\n",
    "def select_features(df):\n",
    "    return df[['Gr Liv Area','SalePrice']]\n",
    "\n",
    "def train_and_test(df):\n",
    "    train = df[:1460]\n",
    "    test=df[1460:]\n",
    "    ## Use pd.DataFrame.select_dtypes()` to specify column types\n",
    "    ## and return only those columns as a data frame.\n",
    "    numeric_train=train.select_dtypes(include=['integer','float'])\n",
    "    numeric_test=test.select_dtypes(include=['integer','float'])\n",
    "    \n",
    "    features=numeric_train.columns.drop('SalePrice')\n",
    "    lr=linear_model.LinearRegression()\n",
    "    lr.fit(train[features],train['SalePrice'])\n",
    "    predictions=lr.predict(test[features])\n",
    "    mse=mean_squared_error(test['SalePrice'],predictions)\n",
    "    rmse=np.sqrt(mse)\n",
    "    return rmse\n"
   ]
  },
  {
   "cell_type": "code",
   "execution_count": 19,
   "metadata": {},
   "outputs": [
    {
     "data": {
      "text/plain": [
       "57088.25161263909"
      ]
     },
     "execution_count": 19,
     "metadata": {},
     "output_type": "execute_result"
    }
   ],
   "source": [
    "transform_house=transform_features(house)\n",
    "filtered_house=select_features(transform_house)\n",
    "rmse=train_and_test(filtered_house)\n",
    "rmse"
   ]
  },
  {
   "cell_type": "markdown",
   "metadata": {},
   "source": [
    "## Feature Engeneering\n",
    "\n",
    "* Handle missing values:\n",
    "** All columns:\n",
    "*** Drop any with 5% or more missing values\n",
    "** Text columns:\n",
    "*** Drop any with 1 or more missing values\n",
    "** Numerical columns:\n",
    "*** Fill in with the most common value"
   ]
  },
  {
   "cell_type": "markdown",
   "metadata": {},
   "source": [
    "1.All columns"
   ]
  },
  {
   "cell_type": "code",
   "execution_count": 36,
   "metadata": {},
   "outputs": [
    {
     "data": {
      "text/plain": [
       "Order             0\n",
       "PID               0\n",
       "MS SubClass       0\n",
       "MS Zoning         0\n",
       "Lot Area          0\n",
       "                 ..\n",
       "Mo Sold           0\n",
       "Yr Sold           0\n",
       "Sale Type         0\n",
       "Sale Condition    0\n",
       "SalePrice         0\n",
       "Length: 71, dtype: int64"
      ]
     },
     "execution_count": 36,
     "metadata": {},
     "output_type": "execute_result"
    }
   ],
   "source": [
    "num_missing=house.isnull().sum()\n",
    "num_missing"
   ]
  },
  {
   "cell_type": "code",
   "execution_count": 35,
   "metadata": {},
   "outputs": [],
   "source": [
    "# drop the columns containing more than 5% missing values\n",
    "drop_missing_cols=num_missing[(num_missing>len(house)/20)].sort_values()\n",
    "drop_missing_cols\n",
    "house=house.drop(drop_missing_cols.index,axis=1)"
   ]
  },
  {
   "cell_type": "markdown",
   "metadata": {},
   "source": [
    "2.Text columns"
   ]
  },
  {
   "cell_type": "code",
   "execution_count": 38,
   "metadata": {},
   "outputs": [],
   "source": [
    "text_missing_cnt=house.select_dtypes(include=['object']).isnull().sum().sort_values()\n",
    "\n",
    "drop_missing_cols_2=text_missing_cnt[text_missing_cnt>0]\n",
    "house=house.drop(drop_missing_cols_2.index,axis=1)"
   ]
  },
  {
   "cell_type": "markdown",
   "metadata": {},
   "source": [
    "3.Numerical columns"
   ]
  },
  {
   "cell_type": "code",
   "execution_count": 40,
   "metadata": {},
   "outputs": [
    {
     "data": {
      "text/plain": [
       "BsmtFin SF 1       1\n",
       "BsmtFin SF 2       1\n",
       "Bsmt Unf SF        1\n",
       "Total Bsmt SF      1\n",
       "Garage Cars        1\n",
       "Garage Area        1\n",
       "Bsmt Full Bath     2\n",
       "Bsmt Half Bath     2\n",
       "Mas Vnr Area      23\n",
       "dtype: int64"
      ]
     },
     "execution_count": 40,
     "metadata": {},
     "output_type": "execute_result"
    }
   ],
   "source": [
    "num_missing=house.select_dtypes(include=['int','float']).isnull().sum()\n",
    "fixable_numeric_cols=num_missing[(num_missing<len(house)/20)&(num_missing>0)].sort_values()\n",
    "fixable_numeric_cols"
   ]
  },
  {
   "cell_type": "code",
   "execution_count": 58,
   "metadata": {},
   "outputs": [
    {
     "data": {
      "text/plain": [
       "{'BsmtFin SF 1': 0.0,\n",
       " 'BsmtFin SF 2': 0.0,\n",
       " 'Bsmt Unf SF': 0.0,\n",
       " 'Total Bsmt SF': 0.0,\n",
       " 'Garage Cars': 2.0,\n",
       " 'Garage Area': 0.0,\n",
       " 'Bsmt Full Bath': 0.0,\n",
       " 'Bsmt Half Bath': 0.0,\n",
       " 'Mas Vnr Area': 0.0}"
      ]
     },
     "execution_count": 58,
     "metadata": {},
     "output_type": "execute_result"
    }
   ],
   "source": [
    "rpm_value_dict=house[fixable_numeric_cols.index].mode().to_dict(orient='records')[0]\n",
    "rpm_value_dict"
   ]
  },
  {
   "cell_type": "code",
   "execution_count": 42,
   "metadata": {},
   "outputs": [],
   "source": [
    "house=house.fillna(rpm_value_dict)"
   ]
  },
  {
   "cell_type": "code",
   "execution_count": 44,
   "metadata": {},
   "outputs": [
    {
     "data": {
      "text/plain": [
       "0    64\n",
       "dtype: int64"
      ]
     },
     "execution_count": 44,
     "metadata": {},
     "output_type": "execute_result"
    }
   ],
   "source": [
    "house.isnull().sum().value_counts()"
   ]
  },
  {
   "cell_type": "markdown",
   "metadata": {},
   "source": [
    "Create new features to better capure the information"
   ]
  },
  {
   "cell_type": "code",
   "execution_count": 45,
   "metadata": {},
   "outputs": [
    {
     "data": {
      "text/plain": [
       "2180   -1\n",
       "dtype: int64"
      ]
     },
     "execution_count": 45,
     "metadata": {},
     "output_type": "execute_result"
    }
   ],
   "source": [
    "year_sold=house['Yr Sold']-house['Year Built']\n",
    "year_sold[year_sold<0]"
   ]
  },
  {
   "cell_type": "code",
   "execution_count": 47,
   "metadata": {},
   "outputs": [
    {
     "data": {
      "text/plain": [
       "1702   -1\n",
       "2180   -2\n",
       "2181   -1\n",
       "dtype: int64"
      ]
     },
     "execution_count": 47,
     "metadata": {},
     "output_type": "execute_result"
    }
   ],
   "source": [
    "year_remod=house['Yr Sold']-house['Year Remod/Add']\n",
    "year_remod[year_remod<0]"
   ]
  },
  {
   "cell_type": "code",
   "execution_count": 48,
   "metadata": {},
   "outputs": [],
   "source": [
    "# Create new columns\n",
    "house['Years Before Sale']=year_sold\n",
    "house['Years Before Remod']=year_remod\n",
    "# Drop rows with negative values\n",
    "house=house.drop([1702,2180,2181],axis=0)\n",
    "# No longer need original year columns\n",
    "house=house.drop(['Year Built','Year Remod/Add'],axis=1)"
   ]
  },
  {
   "cell_type": "code",
   "execution_count": 53,
   "metadata": {},
   "outputs": [
    {
     "ename": "KeyError",
     "evalue": "\"['PID' 'Order'] not found in axis\"",
     "output_type": "error",
     "traceback": [
      "\u001b[1;31m---------------------------------------------------------------------------\u001b[0m",
      "\u001b[1;31mKeyError\u001b[0m                                  Traceback (most recent call last)",
      "\u001b[1;32mC:\\Users\\BAYONE~1\\AppData\\Local\\Temp/ipykernel_14728/4056925397.py\u001b[0m in \u001b[0;36m<module>\u001b[1;34m\u001b[0m\n\u001b[0;32m      1\u001b[0m \u001b[1;31m# Drop columns that are not useful for machine learning\u001b[0m\u001b[1;33m\u001b[0m\u001b[1;33m\u001b[0m\u001b[0m\n\u001b[1;32m----> 2\u001b[1;33m \u001b[0mhouse\u001b[0m\u001b[1;33m=\u001b[0m\u001b[0mhouse\u001b[0m\u001b[1;33m.\u001b[0m\u001b[0mdrop\u001b[0m\u001b[1;33m(\u001b[0m\u001b[1;33m[\u001b[0m\u001b[1;34m'PID'\u001b[0m\u001b[1;33m,\u001b[0m \u001b[1;34m'Order'\u001b[0m\u001b[1;33m]\u001b[0m\u001b[1;33m,\u001b[0m \u001b[0maxis\u001b[0m\u001b[1;33m=\u001b[0m\u001b[1;36m1\u001b[0m\u001b[1;33m)\u001b[0m\u001b[1;33m\u001b[0m\u001b[1;33m\u001b[0m\u001b[0m\n\u001b[0m\u001b[0;32m      3\u001b[0m \u001b[1;31m# Drop colunms that leak information about the final sale\u001b[0m\u001b[1;33m\u001b[0m\u001b[1;33m\u001b[0m\u001b[0m\n\u001b[0;32m      4\u001b[0m \u001b[0mhouse\u001b[0m\u001b[1;33m=\u001b[0m\u001b[0mhouse\u001b[0m\u001b[1;33m.\u001b[0m\u001b[0mdrop\u001b[0m\u001b[1;33m(\u001b[0m\u001b[1;33m[\u001b[0m\u001b[1;34m'Mo Sold'\u001b[0m\u001b[1;33m,\u001b[0m\u001b[1;34m'Sale Condition'\u001b[0m\u001b[1;33m,\u001b[0m\u001b[1;34m'Sale Type'\u001b[0m\u001b[1;33m,\u001b[0m\u001b[1;34m'Yr Sold'\u001b[0m\u001b[1;33m]\u001b[0m\u001b[1;33m,\u001b[0m\u001b[0maxis\u001b[0m\u001b[1;33m=\u001b[0m\u001b[1;36m1\u001b[0m\u001b[1;33m)\u001b[0m\u001b[1;33m\u001b[0m\u001b[1;33m\u001b[0m\u001b[0m\n",
      "\u001b[1;32m~\\Anaconda\\lib\\site-packages\\pandas\\util\\_decorators.py\u001b[0m in \u001b[0;36mwrapper\u001b[1;34m(*args, **kwargs)\u001b[0m\n\u001b[0;32m    309\u001b[0m                     \u001b[0mstacklevel\u001b[0m\u001b[1;33m=\u001b[0m\u001b[0mstacklevel\u001b[0m\u001b[1;33m,\u001b[0m\u001b[1;33m\u001b[0m\u001b[1;33m\u001b[0m\u001b[0m\n\u001b[0;32m    310\u001b[0m                 )\n\u001b[1;32m--> 311\u001b[1;33m             \u001b[1;32mreturn\u001b[0m \u001b[0mfunc\u001b[0m\u001b[1;33m(\u001b[0m\u001b[1;33m*\u001b[0m\u001b[0margs\u001b[0m\u001b[1;33m,\u001b[0m \u001b[1;33m**\u001b[0m\u001b[0mkwargs\u001b[0m\u001b[1;33m)\u001b[0m\u001b[1;33m\u001b[0m\u001b[1;33m\u001b[0m\u001b[0m\n\u001b[0m\u001b[0;32m    312\u001b[0m \u001b[1;33m\u001b[0m\u001b[0m\n\u001b[0;32m    313\u001b[0m         \u001b[1;32mreturn\u001b[0m \u001b[0mwrapper\u001b[0m\u001b[1;33m\u001b[0m\u001b[1;33m\u001b[0m\u001b[0m\n",
      "\u001b[1;32m~\\Anaconda\\lib\\site-packages\\pandas\\core\\frame.py\u001b[0m in \u001b[0;36mdrop\u001b[1;34m(self, labels, axis, index, columns, level, inplace, errors)\u001b[0m\n\u001b[0;32m   4904\u001b[0m                 \u001b[0mweight\u001b[0m  \u001b[1;36m1.0\u001b[0m     \u001b[1;36m0.8\u001b[0m\u001b[1;33m\u001b[0m\u001b[1;33m\u001b[0m\u001b[0m\n\u001b[0;32m   4905\u001b[0m         \"\"\"\n\u001b[1;32m-> 4906\u001b[1;33m         return super().drop(\n\u001b[0m\u001b[0;32m   4907\u001b[0m             \u001b[0mlabels\u001b[0m\u001b[1;33m=\u001b[0m\u001b[0mlabels\u001b[0m\u001b[1;33m,\u001b[0m\u001b[1;33m\u001b[0m\u001b[1;33m\u001b[0m\u001b[0m\n\u001b[0;32m   4908\u001b[0m             \u001b[0maxis\u001b[0m\u001b[1;33m=\u001b[0m\u001b[0maxis\u001b[0m\u001b[1;33m,\u001b[0m\u001b[1;33m\u001b[0m\u001b[1;33m\u001b[0m\u001b[0m\n",
      "\u001b[1;32m~\\Anaconda\\lib\\site-packages\\pandas\\core\\generic.py\u001b[0m in \u001b[0;36mdrop\u001b[1;34m(self, labels, axis, index, columns, level, inplace, errors)\u001b[0m\n\u001b[0;32m   4148\u001b[0m         \u001b[1;32mfor\u001b[0m \u001b[0maxis\u001b[0m\u001b[1;33m,\u001b[0m \u001b[0mlabels\u001b[0m \u001b[1;32min\u001b[0m \u001b[0maxes\u001b[0m\u001b[1;33m.\u001b[0m\u001b[0mitems\u001b[0m\u001b[1;33m(\u001b[0m\u001b[1;33m)\u001b[0m\u001b[1;33m:\u001b[0m\u001b[1;33m\u001b[0m\u001b[1;33m\u001b[0m\u001b[0m\n\u001b[0;32m   4149\u001b[0m             \u001b[1;32mif\u001b[0m \u001b[0mlabels\u001b[0m \u001b[1;32mis\u001b[0m \u001b[1;32mnot\u001b[0m \u001b[1;32mNone\u001b[0m\u001b[1;33m:\u001b[0m\u001b[1;33m\u001b[0m\u001b[1;33m\u001b[0m\u001b[0m\n\u001b[1;32m-> 4150\u001b[1;33m                 \u001b[0mobj\u001b[0m \u001b[1;33m=\u001b[0m \u001b[0mobj\u001b[0m\u001b[1;33m.\u001b[0m\u001b[0m_drop_axis\u001b[0m\u001b[1;33m(\u001b[0m\u001b[0mlabels\u001b[0m\u001b[1;33m,\u001b[0m \u001b[0maxis\u001b[0m\u001b[1;33m,\u001b[0m \u001b[0mlevel\u001b[0m\u001b[1;33m=\u001b[0m\u001b[0mlevel\u001b[0m\u001b[1;33m,\u001b[0m \u001b[0merrors\u001b[0m\u001b[1;33m=\u001b[0m\u001b[0merrors\u001b[0m\u001b[1;33m)\u001b[0m\u001b[1;33m\u001b[0m\u001b[1;33m\u001b[0m\u001b[0m\n\u001b[0m\u001b[0;32m   4151\u001b[0m \u001b[1;33m\u001b[0m\u001b[0m\n\u001b[0;32m   4152\u001b[0m         \u001b[1;32mif\u001b[0m \u001b[0minplace\u001b[0m\u001b[1;33m:\u001b[0m\u001b[1;33m\u001b[0m\u001b[1;33m\u001b[0m\u001b[0m\n",
      "\u001b[1;32m~\\Anaconda\\lib\\site-packages\\pandas\\core\\generic.py\u001b[0m in \u001b[0;36m_drop_axis\u001b[1;34m(self, labels, axis, level, errors)\u001b[0m\n\u001b[0;32m   4183\u001b[0m                 \u001b[0mnew_axis\u001b[0m \u001b[1;33m=\u001b[0m \u001b[0maxis\u001b[0m\u001b[1;33m.\u001b[0m\u001b[0mdrop\u001b[0m\u001b[1;33m(\u001b[0m\u001b[0mlabels\u001b[0m\u001b[1;33m,\u001b[0m \u001b[0mlevel\u001b[0m\u001b[1;33m=\u001b[0m\u001b[0mlevel\u001b[0m\u001b[1;33m,\u001b[0m \u001b[0merrors\u001b[0m\u001b[1;33m=\u001b[0m\u001b[0merrors\u001b[0m\u001b[1;33m)\u001b[0m\u001b[1;33m\u001b[0m\u001b[1;33m\u001b[0m\u001b[0m\n\u001b[0;32m   4184\u001b[0m             \u001b[1;32melse\u001b[0m\u001b[1;33m:\u001b[0m\u001b[1;33m\u001b[0m\u001b[1;33m\u001b[0m\u001b[0m\n\u001b[1;32m-> 4185\u001b[1;33m                 \u001b[0mnew_axis\u001b[0m \u001b[1;33m=\u001b[0m \u001b[0maxis\u001b[0m\u001b[1;33m.\u001b[0m\u001b[0mdrop\u001b[0m\u001b[1;33m(\u001b[0m\u001b[0mlabels\u001b[0m\u001b[1;33m,\u001b[0m \u001b[0merrors\u001b[0m\u001b[1;33m=\u001b[0m\u001b[0merrors\u001b[0m\u001b[1;33m)\u001b[0m\u001b[1;33m\u001b[0m\u001b[1;33m\u001b[0m\u001b[0m\n\u001b[0m\u001b[0;32m   4186\u001b[0m             \u001b[0mresult\u001b[0m \u001b[1;33m=\u001b[0m \u001b[0mself\u001b[0m\u001b[1;33m.\u001b[0m\u001b[0mreindex\u001b[0m\u001b[1;33m(\u001b[0m\u001b[1;33m**\u001b[0m\u001b[1;33m{\u001b[0m\u001b[0maxis_name\u001b[0m\u001b[1;33m:\u001b[0m \u001b[0mnew_axis\u001b[0m\u001b[1;33m}\u001b[0m\u001b[1;33m)\u001b[0m\u001b[1;33m\u001b[0m\u001b[1;33m\u001b[0m\u001b[0m\n\u001b[0;32m   4187\u001b[0m \u001b[1;33m\u001b[0m\u001b[0m\n",
      "\u001b[1;32m~\\Anaconda\\lib\\site-packages\\pandas\\core\\indexes\\base.py\u001b[0m in \u001b[0;36mdrop\u001b[1;34m(self, labels, errors)\u001b[0m\n\u001b[0;32m   6015\u001b[0m         \u001b[1;32mif\u001b[0m \u001b[0mmask\u001b[0m\u001b[1;33m.\u001b[0m\u001b[0many\u001b[0m\u001b[1;33m(\u001b[0m\u001b[1;33m)\u001b[0m\u001b[1;33m:\u001b[0m\u001b[1;33m\u001b[0m\u001b[1;33m\u001b[0m\u001b[0m\n\u001b[0;32m   6016\u001b[0m             \u001b[1;32mif\u001b[0m \u001b[0merrors\u001b[0m \u001b[1;33m!=\u001b[0m \u001b[1;34m\"ignore\"\u001b[0m\u001b[1;33m:\u001b[0m\u001b[1;33m\u001b[0m\u001b[1;33m\u001b[0m\u001b[0m\n\u001b[1;32m-> 6017\u001b[1;33m                 \u001b[1;32mraise\u001b[0m \u001b[0mKeyError\u001b[0m\u001b[1;33m(\u001b[0m\u001b[1;34mf\"{labels[mask]} not found in axis\"\u001b[0m\u001b[1;33m)\u001b[0m\u001b[1;33m\u001b[0m\u001b[1;33m\u001b[0m\u001b[0m\n\u001b[0m\u001b[0;32m   6018\u001b[0m             \u001b[0mindexer\u001b[0m \u001b[1;33m=\u001b[0m \u001b[0mindexer\u001b[0m\u001b[1;33m[\u001b[0m\u001b[1;33m~\u001b[0m\u001b[0mmask\u001b[0m\u001b[1;33m]\u001b[0m\u001b[1;33m\u001b[0m\u001b[1;33m\u001b[0m\u001b[0m\n\u001b[0;32m   6019\u001b[0m         \u001b[1;32mreturn\u001b[0m \u001b[0mself\u001b[0m\u001b[1;33m.\u001b[0m\u001b[0mdelete\u001b[0m\u001b[1;33m(\u001b[0m\u001b[0mindexer\u001b[0m\u001b[1;33m)\u001b[0m\u001b[1;33m\u001b[0m\u001b[1;33m\u001b[0m\u001b[0m\n",
      "\u001b[1;31mKeyError\u001b[0m: \"['PID' 'Order'] not found in axis\""
     ]
    }
   ],
   "source": [
    "# Drop columns that are not useful for machine learning\n",
    "house=house.drop(['PID', 'Order'], axis=1)\n",
    "# Drop colunms that leak information about the final sale\n",
    "house=house.drop(['Mo Sold','Sale Condition','Sale Type','Yr Sold'],axis=1)"
   ]
  },
  {
   "cell_type": "code",
   "execution_count": 54,
   "metadata": {},
   "outputs": [
    {
     "name": "stdout",
     "output_type": "stream",
     "text": [
      "<class 'pandas.core.frame.DataFrame'>\n",
      "Int64Index: 2927 entries, 0 to 2929\n",
      "Data columns (total 58 columns):\n",
      " #   Column              Non-Null Count  Dtype  \n",
      "---  ------              --------------  -----  \n",
      " 0   MS SubClass         2927 non-null   int64  \n",
      " 1   MS Zoning           2927 non-null   object \n",
      " 2   Lot Area            2927 non-null   int64  \n",
      " 3   Street              2927 non-null   object \n",
      " 4   Lot Shape           2927 non-null   object \n",
      " 5   Land Contour        2927 non-null   object \n",
      " 6   Utilities           2927 non-null   object \n",
      " 7   Lot Config          2927 non-null   object \n",
      " 8   Land Slope          2927 non-null   object \n",
      " 9   Neighborhood        2927 non-null   object \n",
      " 10  Condition 1         2927 non-null   object \n",
      " 11  Condition 2         2927 non-null   object \n",
      " 12  Bldg Type           2927 non-null   object \n",
      " 13  House Style         2927 non-null   object \n",
      " 14  Overall Qual        2927 non-null   int64  \n",
      " 15  Overall Cond        2927 non-null   int64  \n",
      " 16  Roof Style          2927 non-null   object \n",
      " 17  Roof Matl           2927 non-null   object \n",
      " 18  Exterior 1st        2927 non-null   object \n",
      " 19  Exterior 2nd        2927 non-null   object \n",
      " 20  Mas Vnr Area        2927 non-null   float64\n",
      " 21  Exter Qual          2927 non-null   object \n",
      " 22  Exter Cond          2927 non-null   object \n",
      " 23  Foundation          2927 non-null   object \n",
      " 24  BsmtFin SF 1        2927 non-null   float64\n",
      " 25  BsmtFin SF 2        2927 non-null   float64\n",
      " 26  Bsmt Unf SF         2927 non-null   float64\n",
      " 27  Total Bsmt SF       2927 non-null   float64\n",
      " 28  Heating             2927 non-null   object \n",
      " 29  Heating QC          2927 non-null   object \n",
      " 30  Central Air         2927 non-null   object \n",
      " 31  1st Flr SF          2927 non-null   int64  \n",
      " 32  2nd Flr SF          2927 non-null   int64  \n",
      " 33  Low Qual Fin SF     2927 non-null   int64  \n",
      " 34  Gr Liv Area         2927 non-null   int64  \n",
      " 35  Bsmt Full Bath      2927 non-null   float64\n",
      " 36  Bsmt Half Bath      2927 non-null   float64\n",
      " 37  Full Bath           2927 non-null   int64  \n",
      " 38  Half Bath           2927 non-null   int64  \n",
      " 39  Bedroom AbvGr       2927 non-null   int64  \n",
      " 40  Kitchen AbvGr       2927 non-null   int64  \n",
      " 41  Kitchen Qual        2927 non-null   object \n",
      " 42  TotRms AbvGrd       2927 non-null   int64  \n",
      " 43  Functional          2927 non-null   object \n",
      " 44  Fireplaces          2927 non-null   int64  \n",
      " 45  Garage Cars         2927 non-null   float64\n",
      " 46  Garage Area         2927 non-null   float64\n",
      " 47  Paved Drive         2927 non-null   object \n",
      " 48  Wood Deck SF        2927 non-null   int64  \n",
      " 49  Open Porch SF       2927 non-null   int64  \n",
      " 50  Enclosed Porch      2927 non-null   int64  \n",
      " 51  3Ssn Porch          2927 non-null   int64  \n",
      " 52  Screen Porch        2927 non-null   int64  \n",
      " 53  Pool Area           2927 non-null   int64  \n",
      " 54  Misc Val            2927 non-null   int64  \n",
      " 55  SalePrice           2927 non-null   int64  \n",
      " 56  Years Before Sale   2927 non-null   int64  \n",
      " 57  Years Before Remod  2927 non-null   int64  \n",
      "dtypes: float64(9), int64(24), object(25)\n",
      "memory usage: 1.4+ MB\n"
     ]
    }
   ],
   "source": [
    "house.info()"
   ]
  },
  {
   "cell_type": "code",
   "execution_count": 63,
   "metadata": {},
   "outputs": [],
   "source": [
    "def transform_features(df):\n",
    "    num_missing=df.isnull().sum()\n",
    "    drop_missing_cols=num_missing[(num_missing>len(df)/20)].sort_values()\n",
    "    df=df.drop(drop_missing_cols.index,axis=1)\n",
    "    \n",
    "    text_missing_cnt=df.select_dtypes(include=['object']).isnull().sum().sort_values()\n",
    "    drop_missing_cols_2=text_missing_cnt[(text_missing_cnt<0)]\n",
    "    df=df.drop(drop_missing_cols_2.index, axis=1)\n",
    "    \n",
    "    num_missing=df.select_dtypes(include=['int','float']).isnull().sum()\n",
    "    fixable_numeric_cols=num_missing[(num_missing<len(df)/20)&(num_missing>0)].sort_values()\n",
    "    rpm_value_dict=df[fixable_numeric_cols.index].mode().to_dict(orient='records')[0]\n",
    "    df=df.fillna(rpm_value_dict)\n",
    "    \n",
    "    year_sold=df['Yr Sold']-df['Year Built']\n",
    "    year_remod=df['Yr Sold']-df['Year Remod/Add']\n",
    "    df['Years Before Sale']=year_sold\n",
    "    df['Years Before Remod']=year_remod\n",
    "    df=df.drop([1702,2180,2181],axis=0)\n",
    "    \n",
    "    df=df.drop(['PID','Order','Mo Sold','Sale Condition','Sale Type','Yr Sold'],axis=1)\n",
    "    return df\n",
    "    "
   ]
  },
  {
   "cell_type": "code",
   "execution_count": 64,
   "metadata": {},
   "outputs": [],
   "source": [
    "def select_features(df):\n",
    "    return df[[\"Gr Liv Area\", \"SalePrice\"]]\n",
    "\n",
    "def train_and_test(df):\n",
    "    train=df[:1460]\n",
    "    test=df[1460:]\n",
    "    numeric_train=train.select_dtypes(include=['int','float'])\n",
    "    numeric_test=test.select_dtypes(include=['int','float'])\n",
    "    \n",
    "    features=numeric_train.columns.drop('SalePrice')\n",
    "    lr=linear_model.LinearRegression()\n",
    "    lr.fit(train[features],train['SalePrice'])\n",
    "    predictions=lr.predict(test[features])\n",
    "    mse=mean_squared_error(test['SalePrice'],predictions)\n",
    "    rmse=np.sqrt(mse)\n",
    "    return rmse"
   ]
  },
  {
   "cell_type": "code",
   "execution_count": 65,
   "metadata": {},
   "outputs": [
    {
     "data": {
      "text/plain": [
       "55275.367312413066"
      ]
     },
     "execution_count": 65,
     "metadata": {},
     "output_type": "execute_result"
    }
   ],
   "source": [
    "houses=pd.read_csv('AmesHousing.tsv',delimiter='\\t')\n",
    "transform_houses=transform_features(houses)\n",
    "filtered_houses=select_features(transform_houses)\n",
    "rmse=train_and_test(filtered_houses)\n",
    "\n",
    "rmse"
   ]
  },
  {
   "cell_type": "markdown",
   "metadata": {},
   "source": [
    "## Feature Selection"
   ]
  },
  {
   "cell_type": "code",
   "execution_count": 66,
   "metadata": {},
   "outputs": [
    {
     "data": {
      "text/html": [
       "<div>\n",
       "<style scoped>\n",
       "    .dataframe tbody tr th:only-of-type {\n",
       "        vertical-align: middle;\n",
       "    }\n",
       "\n",
       "    .dataframe tbody tr th {\n",
       "        vertical-align: top;\n",
       "    }\n",
       "\n",
       "    .dataframe thead th {\n",
       "        text-align: right;\n",
       "    }\n",
       "</style>\n",
       "<table border=\"1\" class=\"dataframe\">\n",
       "  <thead>\n",
       "    <tr style=\"text-align: right;\">\n",
       "      <th></th>\n",
       "      <th>MS SubClass</th>\n",
       "      <th>Lot Area</th>\n",
       "      <th>Overall Qual</th>\n",
       "      <th>Overall Cond</th>\n",
       "      <th>Year Built</th>\n",
       "      <th>Year Remod/Add</th>\n",
       "      <th>Mas Vnr Area</th>\n",
       "      <th>BsmtFin SF 1</th>\n",
       "      <th>BsmtFin SF 2</th>\n",
       "      <th>Bsmt Unf SF</th>\n",
       "      <th>Total Bsmt SF</th>\n",
       "      <th>1st Flr SF</th>\n",
       "      <th>2nd Flr SF</th>\n",
       "      <th>Low Qual Fin SF</th>\n",
       "      <th>Gr Liv Area</th>\n",
       "      <th>Bsmt Full Bath</th>\n",
       "      <th>Bsmt Half Bath</th>\n",
       "      <th>Full Bath</th>\n",
       "      <th>Half Bath</th>\n",
       "      <th>Bedroom AbvGr</th>\n",
       "      <th>Kitchen AbvGr</th>\n",
       "      <th>TotRms AbvGrd</th>\n",
       "      <th>Fireplaces</th>\n",
       "      <th>Garage Cars</th>\n",
       "      <th>Garage Area</th>\n",
       "      <th>Wood Deck SF</th>\n",
       "      <th>Open Porch SF</th>\n",
       "      <th>Enclosed Porch</th>\n",
       "      <th>3Ssn Porch</th>\n",
       "      <th>Screen Porch</th>\n",
       "      <th>Pool Area</th>\n",
       "      <th>Misc Val</th>\n",
       "      <th>SalePrice</th>\n",
       "      <th>Years Before Sale</th>\n",
       "      <th>Years Before Remod</th>\n",
       "    </tr>\n",
       "  </thead>\n",
       "  <tbody>\n",
       "    <tr>\n",
       "      <th>0</th>\n",
       "      <td>20</td>\n",
       "      <td>31770</td>\n",
       "      <td>6</td>\n",
       "      <td>5</td>\n",
       "      <td>1960</td>\n",
       "      <td>1960</td>\n",
       "      <td>112.0</td>\n",
       "      <td>639.0</td>\n",
       "      <td>0.0</td>\n",
       "      <td>441.0</td>\n",
       "      <td>1080.0</td>\n",
       "      <td>1656</td>\n",
       "      <td>0</td>\n",
       "      <td>0</td>\n",
       "      <td>1656</td>\n",
       "      <td>1.0</td>\n",
       "      <td>0.0</td>\n",
       "      <td>1</td>\n",
       "      <td>0</td>\n",
       "      <td>3</td>\n",
       "      <td>1</td>\n",
       "      <td>7</td>\n",
       "      <td>2</td>\n",
       "      <td>2.0</td>\n",
       "      <td>528.0</td>\n",
       "      <td>210</td>\n",
       "      <td>62</td>\n",
       "      <td>0</td>\n",
       "      <td>0</td>\n",
       "      <td>0</td>\n",
       "      <td>0</td>\n",
       "      <td>0</td>\n",
       "      <td>215000</td>\n",
       "      <td>50</td>\n",
       "      <td>50</td>\n",
       "    </tr>\n",
       "    <tr>\n",
       "      <th>1</th>\n",
       "      <td>20</td>\n",
       "      <td>11622</td>\n",
       "      <td>5</td>\n",
       "      <td>6</td>\n",
       "      <td>1961</td>\n",
       "      <td>1961</td>\n",
       "      <td>0.0</td>\n",
       "      <td>468.0</td>\n",
       "      <td>144.0</td>\n",
       "      <td>270.0</td>\n",
       "      <td>882.0</td>\n",
       "      <td>896</td>\n",
       "      <td>0</td>\n",
       "      <td>0</td>\n",
       "      <td>896</td>\n",
       "      <td>0.0</td>\n",
       "      <td>0.0</td>\n",
       "      <td>1</td>\n",
       "      <td>0</td>\n",
       "      <td>2</td>\n",
       "      <td>1</td>\n",
       "      <td>5</td>\n",
       "      <td>0</td>\n",
       "      <td>1.0</td>\n",
       "      <td>730.0</td>\n",
       "      <td>140</td>\n",
       "      <td>0</td>\n",
       "      <td>0</td>\n",
       "      <td>0</td>\n",
       "      <td>120</td>\n",
       "      <td>0</td>\n",
       "      <td>0</td>\n",
       "      <td>105000</td>\n",
       "      <td>49</td>\n",
       "      <td>49</td>\n",
       "    </tr>\n",
       "    <tr>\n",
       "      <th>2</th>\n",
       "      <td>20</td>\n",
       "      <td>14267</td>\n",
       "      <td>6</td>\n",
       "      <td>6</td>\n",
       "      <td>1958</td>\n",
       "      <td>1958</td>\n",
       "      <td>108.0</td>\n",
       "      <td>923.0</td>\n",
       "      <td>0.0</td>\n",
       "      <td>406.0</td>\n",
       "      <td>1329.0</td>\n",
       "      <td>1329</td>\n",
       "      <td>0</td>\n",
       "      <td>0</td>\n",
       "      <td>1329</td>\n",
       "      <td>0.0</td>\n",
       "      <td>0.0</td>\n",
       "      <td>1</td>\n",
       "      <td>1</td>\n",
       "      <td>3</td>\n",
       "      <td>1</td>\n",
       "      <td>6</td>\n",
       "      <td>0</td>\n",
       "      <td>1.0</td>\n",
       "      <td>312.0</td>\n",
       "      <td>393</td>\n",
       "      <td>36</td>\n",
       "      <td>0</td>\n",
       "      <td>0</td>\n",
       "      <td>0</td>\n",
       "      <td>0</td>\n",
       "      <td>12500</td>\n",
       "      <td>172000</td>\n",
       "      <td>52</td>\n",
       "      <td>52</td>\n",
       "    </tr>\n",
       "    <tr>\n",
       "      <th>3</th>\n",
       "      <td>20</td>\n",
       "      <td>11160</td>\n",
       "      <td>7</td>\n",
       "      <td>5</td>\n",
       "      <td>1968</td>\n",
       "      <td>1968</td>\n",
       "      <td>0.0</td>\n",
       "      <td>1065.0</td>\n",
       "      <td>0.0</td>\n",
       "      <td>1045.0</td>\n",
       "      <td>2110.0</td>\n",
       "      <td>2110</td>\n",
       "      <td>0</td>\n",
       "      <td>0</td>\n",
       "      <td>2110</td>\n",
       "      <td>1.0</td>\n",
       "      <td>0.0</td>\n",
       "      <td>2</td>\n",
       "      <td>1</td>\n",
       "      <td>3</td>\n",
       "      <td>1</td>\n",
       "      <td>8</td>\n",
       "      <td>2</td>\n",
       "      <td>2.0</td>\n",
       "      <td>522.0</td>\n",
       "      <td>0</td>\n",
       "      <td>0</td>\n",
       "      <td>0</td>\n",
       "      <td>0</td>\n",
       "      <td>0</td>\n",
       "      <td>0</td>\n",
       "      <td>0</td>\n",
       "      <td>244000</td>\n",
       "      <td>42</td>\n",
       "      <td>42</td>\n",
       "    </tr>\n",
       "    <tr>\n",
       "      <th>4</th>\n",
       "      <td>60</td>\n",
       "      <td>13830</td>\n",
       "      <td>5</td>\n",
       "      <td>5</td>\n",
       "      <td>1997</td>\n",
       "      <td>1998</td>\n",
       "      <td>0.0</td>\n",
       "      <td>791.0</td>\n",
       "      <td>0.0</td>\n",
       "      <td>137.0</td>\n",
       "      <td>928.0</td>\n",
       "      <td>928</td>\n",
       "      <td>701</td>\n",
       "      <td>0</td>\n",
       "      <td>1629</td>\n",
       "      <td>0.0</td>\n",
       "      <td>0.0</td>\n",
       "      <td>2</td>\n",
       "      <td>1</td>\n",
       "      <td>3</td>\n",
       "      <td>1</td>\n",
       "      <td>6</td>\n",
       "      <td>1</td>\n",
       "      <td>2.0</td>\n",
       "      <td>482.0</td>\n",
       "      <td>212</td>\n",
       "      <td>34</td>\n",
       "      <td>0</td>\n",
       "      <td>0</td>\n",
       "      <td>0</td>\n",
       "      <td>0</td>\n",
       "      <td>0</td>\n",
       "      <td>189900</td>\n",
       "      <td>13</td>\n",
       "      <td>12</td>\n",
       "    </tr>\n",
       "  </tbody>\n",
       "</table>\n",
       "</div>"
      ],
      "text/plain": [
       "   MS SubClass  Lot Area  Overall Qual  Overall Cond  Year Built  \\\n",
       "0           20     31770             6             5        1960   \n",
       "1           20     11622             5             6        1961   \n",
       "2           20     14267             6             6        1958   \n",
       "3           20     11160             7             5        1968   \n",
       "4           60     13830             5             5        1997   \n",
       "\n",
       "   Year Remod/Add  Mas Vnr Area  BsmtFin SF 1  BsmtFin SF 2  Bsmt Unf SF  \\\n",
       "0            1960         112.0         639.0           0.0        441.0   \n",
       "1            1961           0.0         468.0         144.0        270.0   \n",
       "2            1958         108.0         923.0           0.0        406.0   \n",
       "3            1968           0.0        1065.0           0.0       1045.0   \n",
       "4            1998           0.0         791.0           0.0        137.0   \n",
       "\n",
       "   Total Bsmt SF  1st Flr SF  2nd Flr SF  Low Qual Fin SF  Gr Liv Area  \\\n",
       "0         1080.0        1656           0                0         1656   \n",
       "1          882.0         896           0                0          896   \n",
       "2         1329.0        1329           0                0         1329   \n",
       "3         2110.0        2110           0                0         2110   \n",
       "4          928.0         928         701                0         1629   \n",
       "\n",
       "   Bsmt Full Bath  Bsmt Half Bath  Full Bath  Half Bath  Bedroom AbvGr  \\\n",
       "0             1.0             0.0          1          0              3   \n",
       "1             0.0             0.0          1          0              2   \n",
       "2             0.0             0.0          1          1              3   \n",
       "3             1.0             0.0          2          1              3   \n",
       "4             0.0             0.0          2          1              3   \n",
       "\n",
       "   Kitchen AbvGr  TotRms AbvGrd  Fireplaces  Garage Cars  Garage Area  \\\n",
       "0              1              7           2          2.0        528.0   \n",
       "1              1              5           0          1.0        730.0   \n",
       "2              1              6           0          1.0        312.0   \n",
       "3              1              8           2          2.0        522.0   \n",
       "4              1              6           1          2.0        482.0   \n",
       "\n",
       "   Wood Deck SF  Open Porch SF  Enclosed Porch  3Ssn Porch  Screen Porch  \\\n",
       "0           210             62               0           0             0   \n",
       "1           140              0               0           0           120   \n",
       "2           393             36               0           0             0   \n",
       "3             0              0               0           0             0   \n",
       "4           212             34               0           0             0   \n",
       "\n",
       "   Pool Area  Misc Val  SalePrice  Years Before Sale  Years Before Remod  \n",
       "0          0         0     215000                 50                  50  \n",
       "1          0         0     105000                 49                  49  \n",
       "2          0     12500     172000                 52                  52  \n",
       "3          0         0     244000                 42                  42  \n",
       "4          0         0     189900                 13                  12  "
      ]
     },
     "execution_count": 66,
     "metadata": {},
     "output_type": "execute_result"
    }
   ],
   "source": [
    "numerical_houses=transform_houses.select_dtypes(include=['int','float'])\n",
    "numerical_houses.head(5)"
   ]
  },
  {
   "cell_type": "code",
   "execution_count": 67,
   "metadata": {},
   "outputs": [
    {
     "data": {
      "text/plain": [
       "BsmtFin SF 2          0.006127\n",
       "Misc Val              0.019273\n",
       "3Ssn Porch            0.032268\n",
       "Bsmt Half Bath        0.035875\n",
       "Low Qual Fin SF       0.037629\n",
       "Pool Area             0.068438\n",
       "MS SubClass           0.085128\n",
       "Overall Cond          0.101540\n",
       "Screen Porch          0.112280\n",
       "Kitchen AbvGr         0.119760\n",
       "Enclosed Porch        0.128685\n",
       "Bedroom AbvGr         0.143916\n",
       "Bsmt Unf SF           0.182751\n",
       "Lot Area              0.267520\n",
       "2nd Flr SF            0.269601\n",
       "Bsmt Full Bath        0.276258\n",
       "Half Bath             0.284871\n",
       "Open Porch SF         0.316262\n",
       "Wood Deck SF          0.328183\n",
       "BsmtFin SF 1          0.439284\n",
       "Fireplaces            0.474831\n",
       "TotRms AbvGrd         0.498574\n",
       "Mas Vnr Area          0.506983\n",
       "Year Remod/Add        0.533007\n",
       "Years Before Remod    0.534985\n",
       "Full Bath             0.546118\n",
       "Year Built            0.558490\n",
       "Years Before Sale     0.558979\n",
       "1st Flr SF            0.635185\n",
       "Garage Area           0.641425\n",
       "Total Bsmt SF         0.644012\n",
       "Garage Cars           0.648361\n",
       "Gr Liv Area           0.717596\n",
       "Overall Qual          0.801206\n",
       "SalePrice             1.000000\n",
       "Name: SalePrice, dtype: float64"
      ]
     },
     "execution_count": 67,
     "metadata": {},
     "output_type": "execute_result"
    }
   ],
   "source": [
    "abs_corr_coeffs=numerical_houses.corr()['SalePrice'].abs().sort_values()\n",
    "abs_corr_coeffs"
   ]
  },
  {
   "cell_type": "code",
   "execution_count": 68,
   "metadata": {},
   "outputs": [
    {
     "data": {
      "text/plain": [
       "BsmtFin SF 1          0.439284\n",
       "Fireplaces            0.474831\n",
       "TotRms AbvGrd         0.498574\n",
       "Mas Vnr Area          0.506983\n",
       "Year Remod/Add        0.533007\n",
       "Years Before Remod    0.534985\n",
       "Full Bath             0.546118\n",
       "Year Built            0.558490\n",
       "Years Before Sale     0.558979\n",
       "1st Flr SF            0.635185\n",
       "Garage Area           0.641425\n",
       "Total Bsmt SF         0.644012\n",
       "Garage Cars           0.648361\n",
       "Gr Liv Area           0.717596\n",
       "Overall Qual          0.801206\n",
       "SalePrice             1.000000\n",
       "Name: SalePrice, dtype: float64"
      ]
     },
     "execution_count": 68,
     "metadata": {},
     "output_type": "execute_result"
    }
   ],
   "source": [
    "abs_corr_coeffs[abs_corr_coeffs>0.4]"
   ]
  },
  {
   "cell_type": "code",
   "execution_count": 69,
   "metadata": {},
   "outputs": [],
   "source": [
    "transform_houses=transform_houses.drop(abs_corr_coeffs[abs_corr_coeffs<0.4].index,axis=1)"
   ]
  },
  {
   "cell_type": "markdown",
   "metadata": {},
   "source": [
    "Figure out which categorical columns should be kept"
   ]
  },
  {
   "cell_type": "code",
   "execution_count": 70,
   "metadata": {},
   "outputs": [],
   "source": [
    "# Create a list of column names from documentation that are meant to be categorical\n",
    "nominal_features = ['PID', 'MS SubClass', 'MS Zoning', 'Street', 'Alley', 'Land Contour', 'Lot Config', 'Neighborhood', \n",
    "                    'Condition 1', 'Condition 2', 'Bldg Type', 'House Style', 'Roof Style', 'Roof Matl', 'Exterior 1st', \n",
    "                    'Exterior 2nd', 'Mas Vnr Type', 'Foundation', 'Heating', 'Central Air', 'Garage Type', \n",
    "                    'Misc Feature', 'Sale Type', 'Sale Condition']"
   ]
  },
  {
   "cell_type": "code",
   "execution_count": 72,
   "metadata": {},
   "outputs": [],
   "source": [
    "tranform_cat_cols=[]\n",
    "for col in nominal_features:\n",
    "    if col in transform_houses.columns:\n",
    "        tranform_cat_cols.append(col)\n",
    "uniqueness_counts=transform_houses[tranform_cat_cols].apply(lambda col: len(col.value_counts())).sort_values()\n",
    "drop_nonuniq_cols=uniqueness_counts[uniqueness_counts>10].index\n",
    "transform_houses=transform_houses.drop(drop_nonuniq_cols,axis=1)"
   ]
  },
  {
   "cell_type": "code",
   "execution_count": 74,
   "metadata": {},
   "outputs": [],
   "source": [
    "# Select just the remaining text columns and convert to categorical\n",
    "text_cols=transform_houses.select_dtypes(include=['object'])\n",
    "for col in text_cols:\n",
    "    transform_houses[col]=transform_houses[col].astype('category')\n",
    "# Create dummy columns and add back to the df\n",
    "transform_houses=pd.concat([\n",
    "    transform_houses,\n",
    "    pd.get_dummies(transform_houses.select_dtypes(include=['category']))],axis=1).drop(text_cols,axis=1)"
   ]
  },
  {
   "cell_type": "code",
   "execution_count": 75,
   "metadata": {},
   "outputs": [],
   "source": [
    "# Update the feature functions\n",
    "def transform_features(df):\n",
    "    num_missing=df.isnull().sum()\n",
    "    drop_missing_cols=num_missing[num_missing>len(df)/20].sort_values()\n",
    "    df=df.drop(drop_missing_cols.index,axis=1)\n",
    "    \n",
    "    text_missing_cnt=df.select_dtypes(include=['object']).isnull().sum().sort_values(ascending=False)\n",
    "    drop_missing_cols_2=text_missing_cnt[text_missing_cnt>0]\n",
    "    df=df.drop(drop_missing_cols_2.index,axis=1)\n",
    "    \n",
    "    num_missing=df.select_dtypes(include=['int','float']).isnull().sum()\n",
    "    fixable_numeric_cols=num_missing[(num_missing<len(df)/20)&(num_missing>0)].sort_values()\n",
    "    rpm_value_dict=df[fixable_numeric_cols.index].mode().to_dict(orient='records')[0]\n",
    "    df=df.fillna(rpm_value_dict)\n",
    "    \n",
    "    year_sold=df['Yr Sold']-df['Year Built']\n",
    "    year_remod=df['Yr Sold']-df['Year Remod/Add']\n",
    "    df['Years Before Sale']=year_sold\n",
    "    df['Years Since Remod']=year_remod\n",
    "    df=df.drop([1702,2180,2181],axis=0)\n",
    "    \n",
    "    df=df.drop(['PID','Order','Mo Sold','Sale Condition','Sale Type','Yr Sold'],axis=1)\n",
    "    return df\n"
   ]
  },
  {
   "cell_type": "code",
   "execution_count": 83,
   "metadata": {},
   "outputs": [],
   "source": [
    "def select_features(df,coeff_threshold=0.4,uniq_threshold=10):\n",
    "    numerical_df=df.select_dtypes(include=['int','float'])\n",
    "    abs_corr_coeffs=numerical_df.corr()['SalePrice'].abs().sort_values()\n",
    "    df=df.drop(abs_corr_coeffs[abs_corr_coeffs<coeff_threshold].index,axis=1)\n",
    "    \n",
    "    nominal_features=['PID', 'MS SubClass', 'MS Zoning', 'Street', 'Alley', 'Land Contour', 'Lot Config', 'Neighborhood', \n",
    "                    'Condition 1', 'Condition 2', 'Bldg Type', 'House Style', 'Roof Style', 'Roof Matl', 'Exterior 1st', \n",
    "                    'Exterior 2nd', 'Mas Vnr Type', 'Foundation', 'Heating', 'Central Air', 'Garage Type', \n",
    "                    'Misc Feature', 'Sale Type', 'Sale Condition']\n",
    "    \n",
    "    transform_cat_cols=[]\n",
    "    for col in nominal_features:\n",
    "        if col in df.columns:\n",
    "            transform_cat_cols.append(col)\n",
    "    uniqueness_counts=df[transform_cat_cols].apply(lambda col: len(col.value_counts())).sort_values()\n",
    "    drop_nonuniq_cols=uniqueness_counts[uniqueness_counts>uniq_threshold].index\n",
    "    df=df.drop(drop_nonuniq_cols,axis=1)\n",
    "    \n",
    "    text_cols=df.select_dtypes(include=['object'])\n",
    "    for col in text_cols:\n",
    "        df[col]=df[col].astype('category')\n",
    "    df=pd.concat([\n",
    "        df,\n",
    "        pd.get_dummies(df.select_dtypes(include=['category']))\n",
    "    ],axis=1).drop(text_cols,axis=1)\n",
    "    return df"
   ]
  },
  {
   "cell_type": "code",
   "execution_count": 87,
   "metadata": {},
   "outputs": [],
   "source": [
    "def train_and_test(df,k=0):\n",
    "    numerical_df=df.select_dtypes(include=['int','float'])\n",
    "    features=numerical_df.columns.drop('SalePrice')\n",
    "    lr=linear_model.LinearRegression()\n",
    "    \n",
    "    if k==0:\n",
    "        train=df[:1460]\n",
    "        test=df[1460:]\n",
    "        \n",
    "        lr.fit(train[features],train['SalePrice'])\n",
    "        predictions=lr.predict(test[features])\n",
    "        mse=mean_squared_error(test['SalePrice'],predictions)\n",
    "        rmse=np.sqrt(mse)\n",
    "        return rmse\n",
    "    if k==1:\n",
    "        shuffled_df=df.sample(frac=1)\n",
    "        train=df[:1460]\n",
    "        test=df[1460:]\n",
    "        \n",
    "        lr.fit(train[features],train['SalePrice'])\n",
    "        predictions_one=lr.predict(test[features])\n",
    "        \n",
    "        mse_one=mean_squared_error(test['SalePrice'],predictions_one)\n",
    "        rmse_one=np.sqrt(mse_one)\n",
    "        \n",
    "        lr.fit(test[features],test['SalePrice'])\n",
    "        predictions_two=lr.predict(traina[features])\n",
    "        mse_two=mean_squared_error(trani['SalePrice'],predictions_two)\n",
    "        rmse_two=np.sqrt(mse_two)\n",
    "        \n",
    "        avg_rmse=np.mean([rmse_one,rmse_two])\n",
    "        print(rmse_one)\n",
    "        print(rmse_two)\n",
    "        return avg_rmse\n",
    "    else:\n",
    "        kf=KFold(n_splits=k,shuffle=True)\n",
    "        rmse_values=[]\n",
    "        for train_index,test_index in kf.split(df):\n",
    "            train=df.iloc[train_index]\n",
    "            test=df.iloc[test_index]\n",
    "            lr.fit(train[features],train['SalePrice'])\n",
    "            predictions=lr.predict(test[features])\n",
    "            mse=mean_squared_error(test['SalePrice'],predictions)\n",
    "            rmse=np.sqrt(mse)\n",
    "            rmse_values.append(rmse)\n",
    "        print(rmse_values)\n",
    "        avg_rmse=np.mean(rmse_values)\n",
    "        return avg_rmse\n",
    "    "
   ]
  },
  {
   "cell_type": "code",
   "execution_count": 91,
   "metadata": {
    "scrolled": true
   },
   "outputs": [
    {
     "name": "stdout",
     "output_type": "stream",
     "text": [
      "[36256.0824073573, 28288.963648243323, 39284.21156690873, 29176.065327439468]\n"
     ]
    },
    {
     "data": {
      "text/plain": [
       "33251.3307374872"
      ]
     },
     "execution_count": 91,
     "metadata": {},
     "output_type": "execute_result"
    }
   ],
   "source": [
    "house_data=pd.read_csv('AmesHousing.tsv',delimiter='\\t')\n",
    "transform_house_df=transform_features(house_data)\n",
    "filtered_house_df=select_features(transform_house_df)\n",
    "rmse=train_and_test(filtered_house_df,k=4)\n",
    "\n",
    "rmse"
   ]
  }
 ],
 "metadata": {
  "anaconda-cloud": {},
  "kernelspec": {
   "display_name": "Python 3 (ipykernel)",
   "language": "python",
   "name": "python3"
  },
  "language_info": {
   "codemirror_mode": {
    "name": "ipython",
    "version": 3
   },
   "file_extension": ".py",
   "mimetype": "text/x-python",
   "name": "python",
   "nbconvert_exporter": "python",
   "pygments_lexer": "ipython3",
   "version": "3.9.7"
  }
 },
 "nbformat": 4,
 "nbformat_minor": 2
}
