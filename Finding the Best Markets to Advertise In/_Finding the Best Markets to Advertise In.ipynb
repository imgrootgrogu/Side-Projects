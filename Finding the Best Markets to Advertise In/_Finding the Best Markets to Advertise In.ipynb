{
 "cells": [
  {
   "cell_type": "markdown",
   "metadata": {},
   "source": [
    "#  Finding the Best Markets to Advertise In\n",
    "* Introduction: Promote our product and invest some money in advertisement for e-learning company that offers courses on programming.\n",
    "* Goal: Find out the two best markets to advertise our product in."
   ]
  },
  {
   "cell_type": "code",
   "execution_count": 1,
   "metadata": {},
   "outputs": [],
   "source": [
    "import pandas as pd\n",
    "import numpy as np\n",
    "import matplotlib.pyplot as plt\n",
    "from numpy import std,var"
   ]
  },
  {
   "cell_type": "code",
   "execution_count": 2,
   "metadata": {},
   "outputs": [
    {
     "name": "stderr",
     "output_type": "stream",
     "text": [
      "C:\\Users\\bayonetta\\Anaconda\\lib\\site-packages\\IPython\\core\\interactiveshell.py:3444: DtypeWarning: Columns (17,62) have mixed types.Specify dtype option on import or set low_memory=False.\n",
      "  exec(code_obj, self.user_global_ns, self.user_ns)\n"
     ]
    },
    {
     "data": {
      "text/html": [
       "<div>\n",
       "<style scoped>\n",
       "    .dataframe tbody tr th:only-of-type {\n",
       "        vertical-align: middle;\n",
       "    }\n",
       "\n",
       "    .dataframe tbody tr th {\n",
       "        vertical-align: top;\n",
       "    }\n",
       "\n",
       "    .dataframe thead th {\n",
       "        text-align: right;\n",
       "    }\n",
       "</style>\n",
       "<table border=\"1\" class=\"dataframe\">\n",
       "  <thead>\n",
       "    <tr style=\"text-align: right;\">\n",
       "      <th></th>\n",
       "      <th>Age</th>\n",
       "      <th>AttendedBootcamp</th>\n",
       "      <th>BootcampFinish</th>\n",
       "      <th>BootcampLoanYesNo</th>\n",
       "      <th>BootcampName</th>\n",
       "      <th>BootcampRecommend</th>\n",
       "      <th>ChildrenNumber</th>\n",
       "      <th>CityPopulation</th>\n",
       "      <th>CodeEventConferences</th>\n",
       "      <th>CodeEventDjangoGirls</th>\n",
       "      <th>...</th>\n",
       "      <th>YouTubeFCC</th>\n",
       "      <th>YouTubeFunFunFunction</th>\n",
       "      <th>YouTubeGoogleDev</th>\n",
       "      <th>YouTubeLearnCode</th>\n",
       "      <th>YouTubeLevelUpTuts</th>\n",
       "      <th>YouTubeMIT</th>\n",
       "      <th>YouTubeMozillaHacks</th>\n",
       "      <th>YouTubeOther</th>\n",
       "      <th>YouTubeSimplilearn</th>\n",
       "      <th>YouTubeTheNewBoston</th>\n",
       "    </tr>\n",
       "  </thead>\n",
       "  <tbody>\n",
       "    <tr>\n",
       "      <th>0</th>\n",
       "      <td>27.0</td>\n",
       "      <td>0.0</td>\n",
       "      <td>NaN</td>\n",
       "      <td>NaN</td>\n",
       "      <td>NaN</td>\n",
       "      <td>NaN</td>\n",
       "      <td>NaN</td>\n",
       "      <td>more than 1 million</td>\n",
       "      <td>NaN</td>\n",
       "      <td>NaN</td>\n",
       "      <td>...</td>\n",
       "      <td>NaN</td>\n",
       "      <td>NaN</td>\n",
       "      <td>NaN</td>\n",
       "      <td>NaN</td>\n",
       "      <td>NaN</td>\n",
       "      <td>NaN</td>\n",
       "      <td>NaN</td>\n",
       "      <td>NaN</td>\n",
       "      <td>NaN</td>\n",
       "      <td>NaN</td>\n",
       "    </tr>\n",
       "    <tr>\n",
       "      <th>1</th>\n",
       "      <td>34.0</td>\n",
       "      <td>0.0</td>\n",
       "      <td>NaN</td>\n",
       "      <td>NaN</td>\n",
       "      <td>NaN</td>\n",
       "      <td>NaN</td>\n",
       "      <td>NaN</td>\n",
       "      <td>less than 100,000</td>\n",
       "      <td>NaN</td>\n",
       "      <td>NaN</td>\n",
       "      <td>...</td>\n",
       "      <td>1.0</td>\n",
       "      <td>NaN</td>\n",
       "      <td>NaN</td>\n",
       "      <td>NaN</td>\n",
       "      <td>NaN</td>\n",
       "      <td>NaN</td>\n",
       "      <td>NaN</td>\n",
       "      <td>NaN</td>\n",
       "      <td>NaN</td>\n",
       "      <td>NaN</td>\n",
       "    </tr>\n",
       "    <tr>\n",
       "      <th>2</th>\n",
       "      <td>21.0</td>\n",
       "      <td>0.0</td>\n",
       "      <td>NaN</td>\n",
       "      <td>NaN</td>\n",
       "      <td>NaN</td>\n",
       "      <td>NaN</td>\n",
       "      <td>NaN</td>\n",
       "      <td>more than 1 million</td>\n",
       "      <td>NaN</td>\n",
       "      <td>NaN</td>\n",
       "      <td>...</td>\n",
       "      <td>NaN</td>\n",
       "      <td>NaN</td>\n",
       "      <td>NaN</td>\n",
       "      <td>1.0</td>\n",
       "      <td>1.0</td>\n",
       "      <td>NaN</td>\n",
       "      <td>NaN</td>\n",
       "      <td>NaN</td>\n",
       "      <td>NaN</td>\n",
       "      <td>NaN</td>\n",
       "    </tr>\n",
       "    <tr>\n",
       "      <th>3</th>\n",
       "      <td>26.0</td>\n",
       "      <td>0.0</td>\n",
       "      <td>NaN</td>\n",
       "      <td>NaN</td>\n",
       "      <td>NaN</td>\n",
       "      <td>NaN</td>\n",
       "      <td>NaN</td>\n",
       "      <td>between 100,000 and 1 million</td>\n",
       "      <td>NaN</td>\n",
       "      <td>NaN</td>\n",
       "      <td>...</td>\n",
       "      <td>1.0</td>\n",
       "      <td>1.0</td>\n",
       "      <td>NaN</td>\n",
       "      <td>NaN</td>\n",
       "      <td>1.0</td>\n",
       "      <td>NaN</td>\n",
       "      <td>NaN</td>\n",
       "      <td>NaN</td>\n",
       "      <td>NaN</td>\n",
       "      <td>NaN</td>\n",
       "    </tr>\n",
       "    <tr>\n",
       "      <th>4</th>\n",
       "      <td>20.0</td>\n",
       "      <td>0.0</td>\n",
       "      <td>NaN</td>\n",
       "      <td>NaN</td>\n",
       "      <td>NaN</td>\n",
       "      <td>NaN</td>\n",
       "      <td>NaN</td>\n",
       "      <td>between 100,000 and 1 million</td>\n",
       "      <td>NaN</td>\n",
       "      <td>NaN</td>\n",
       "      <td>...</td>\n",
       "      <td>NaN</td>\n",
       "      <td>NaN</td>\n",
       "      <td>NaN</td>\n",
       "      <td>NaN</td>\n",
       "      <td>NaN</td>\n",
       "      <td>NaN</td>\n",
       "      <td>NaN</td>\n",
       "      <td>NaN</td>\n",
       "      <td>NaN</td>\n",
       "      <td>NaN</td>\n",
       "    </tr>\n",
       "  </tbody>\n",
       "</table>\n",
       "<p>5 rows × 136 columns</p>\n",
       "</div>"
      ],
      "text/plain": [
       "    Age  AttendedBootcamp  BootcampFinish  BootcampLoanYesNo BootcampName  \\\n",
       "0  27.0               0.0             NaN                NaN          NaN   \n",
       "1  34.0               0.0             NaN                NaN          NaN   \n",
       "2  21.0               0.0             NaN                NaN          NaN   \n",
       "3  26.0               0.0             NaN                NaN          NaN   \n",
       "4  20.0               0.0             NaN                NaN          NaN   \n",
       "\n",
       "   BootcampRecommend  ChildrenNumber                 CityPopulation  \\\n",
       "0                NaN             NaN            more than 1 million   \n",
       "1                NaN             NaN              less than 100,000   \n",
       "2                NaN             NaN            more than 1 million   \n",
       "3                NaN             NaN  between 100,000 and 1 million   \n",
       "4                NaN             NaN  between 100,000 and 1 million   \n",
       "\n",
       "   CodeEventConferences  CodeEventDjangoGirls  ...  YouTubeFCC  \\\n",
       "0                   NaN                   NaN  ...         NaN   \n",
       "1                   NaN                   NaN  ...         1.0   \n",
       "2                   NaN                   NaN  ...         NaN   \n",
       "3                   NaN                   NaN  ...         1.0   \n",
       "4                   NaN                   NaN  ...         NaN   \n",
       "\n",
       "   YouTubeFunFunFunction  YouTubeGoogleDev  YouTubeLearnCode  \\\n",
       "0                    NaN               NaN               NaN   \n",
       "1                    NaN               NaN               NaN   \n",
       "2                    NaN               NaN               1.0   \n",
       "3                    1.0               NaN               NaN   \n",
       "4                    NaN               NaN               NaN   \n",
       "\n",
       "   YouTubeLevelUpTuts  YouTubeMIT  YouTubeMozillaHacks YouTubeOther  \\\n",
       "0                 NaN         NaN                  NaN          NaN   \n",
       "1                 NaN         NaN                  NaN          NaN   \n",
       "2                 1.0         NaN                  NaN          NaN   \n",
       "3                 1.0         NaN                  NaN          NaN   \n",
       "4                 NaN         NaN                  NaN          NaN   \n",
       "\n",
       "   YouTubeSimplilearn  YouTubeTheNewBoston  \n",
       "0                 NaN                  NaN  \n",
       "1                 NaN                  NaN  \n",
       "2                 NaN                  NaN  \n",
       "3                 NaN                  NaN  \n",
       "4                 NaN                  NaN  \n",
       "\n",
       "[5 rows x 136 columns]"
      ]
     },
     "execution_count": 2,
     "metadata": {},
     "output_type": "execute_result"
    }
   ],
   "source": [
    "survey_2017=pd.read_csv('2017-fCC-New-Coders-Survey-Data.csv')\n",
    "survey_2017.head()"
   ]
  },
  {
   "cell_type": "code",
   "execution_count": 3,
   "metadata": {},
   "outputs": [
    {
     "name": "stdout",
     "output_type": "stream",
     "text": [
      "<class 'pandas.core.frame.DataFrame'>\n",
      "RangeIndex: 18175 entries, 0 to 18174\n",
      "Columns: 136 entries, Age to YouTubeTheNewBoston\n",
      "dtypes: float64(105), object(31)\n",
      "memory usage: 18.9+ MB\n"
     ]
    }
   ],
   "source": [
    "survey_2017.info()"
   ]
  },
  {
   "cell_type": "code",
   "execution_count": 4,
   "metadata": {},
   "outputs": [
    {
     "data": {
      "text/plain": [
       "0.0    16611\n",
       "1.0     1098\n",
       "Name: AttendedBootcamp, dtype: int64"
      ]
     },
     "execution_count": 4,
     "metadata": {},
     "output_type": "execute_result"
    }
   ],
   "source": [
    "survey_2017['AttendedBootcamp'].value_counts()"
   ]
  },
  {
   "cell_type": "code",
   "execution_count": 5,
   "metadata": {},
   "outputs": [
    {
     "data": {
      "text/plain": [
       "more than 1 million              6534\n",
       "between 100,000 and 1 million    5276\n",
       "less than 100,000                3544\n",
       "Name: CityPopulation, dtype: int64"
      ]
     },
     "execution_count": 5,
     "metadata": {},
     "output_type": "execute_result"
    }
   ],
   "source": [
    "survey_2017['CityPopulation'].value_counts()"
   ]
  },
  {
   "cell_type": "code",
   "execution_count": 6,
   "metadata": {},
   "outputs": [
    {
     "data": {
      "text/plain": [
       "General Assembly    58\n",
       "App Academy         51\n",
       "IronHack            49\n",
       "The Iron Yard       40\n",
       "Lighthouse Labs     38\n",
       "                    ..\n",
       "Product School       1\n",
       "Geekwise Academy     1\n",
       "Geekskool            1\n",
       "Jaaga                1\n",
       "Fire Bootcamp        1\n",
       "Name: BootcampName, Length: 141, dtype: int64"
      ]
     },
     "execution_count": 6,
     "metadata": {},
     "output_type": "execute_result"
    }
   ],
   "source": [
    "survey_2017['BootcampName'].value_counts()"
   ]
  },
  {
   "cell_type": "code",
   "execution_count": 7,
   "metadata": {},
   "outputs": [
    {
     "data": {
      "text/plain": [
       "1.0    165\n",
       "Name: CodeEventDjangoGirls, dtype: int64"
      ]
     },
     "execution_count": 7,
     "metadata": {},
     "output_type": "execute_result"
    }
   ],
   "source": [
    "survey_2017['CodeEventDjangoGirls'].value_counts()"
   ]
  },
  {
   "cell_type": "markdown",
   "metadata": {},
   "source": [
    "## Understanding the Data\n",
    "* To avoid spending money on organizing a survey, we'll first try to make use of existing data to determine whether we can reach any reliable result.\n",
    "* One good candidate for our purpose is freeCodeCamp's 2017 New Coder Survey. freeCodeCamp is a free e-learning platform that offers courses on web development. Because they run a popular Medium publication (over 400,000 followers), their survey attracted new coders with varying interests (not only web development), which is ideal for the purpose of our analysis.\n",
    "* most of the courses we offer are on web and mobile development, but we also cover many other domains, like data science, game development, etc. For the purpose of our analysis, we want to answer questions about a population of new coders that are interested in the subjects we teach.\n",
    "\n",
    "We'd like to know:\n",
    "* Where are these new coders located.\n",
    "* What are the locations with the greatest number of new coders.\n",
    "* How much money new coders are willing to spend on learning."
   ]
  },
  {
   "cell_type": "markdown",
   "metadata": {},
   "source": [
    "So we first need to clarify whether the data set has the right categories of people for our purpose. The JobRoleInterest column describes for every participant the role(s) they'd be interested in working in. If a participant is interested in working in a certain domain, it means that they're also interested in learning about that domain. So let's take a look at the frequency distribution table of this column and determine whether the data we have is relevant."
   ]
  },
  {
   "cell_type": "code",
   "execution_count": 8,
   "metadata": {},
   "outputs": [
    {
     "data": {
      "text/plain": [
       "Full-Stack Web Developer                                                                                                                                                                                                                                                                    823\n",
       "  Front-End Web Developer                                                                                                                                                                                                                                                                   450\n",
       "  Data Scientist                                                                                                                                                                                                                                                                            152\n",
       "Back-End Web Developer                                                                                                                                                                                                                                                                      142\n",
       "  Mobile Developer                                                                                                                                                                                                                                                                          117\n",
       "                                                                                                                                                                                                                                                                                           ... \n",
       "  Front-End Web Developer,   DevOps / SysAdmin,   Mobile Developer, Full-Stack Web Developer                                                                                                                                                                                                  1\n",
       "Back-End Web Developer,   Front-End Web Developer, Data Engineer, Full-Stack Web Developer,   Mobile Developer                                                                                                                                                                                1\n",
       "Back-End Web Developer,   User Experience Designer,   Mobile Developer, Game Developer,   Front-End Web Developer, Full-Stack Web Developer                                                                                                                                                   1\n",
       "  Front-End Web Developer,   Mobile Developer, Back-End Web Developer, Full-Stack Web Developer, Data Engineer                                                                                                                                                                                1\n",
       "  DevOps / SysAdmin,   Mobile Developer,   Product Manager, Game Developer,   Front-End Web Developer, Data Engineer,   Quality Assurance Engineer,   User Experience Designer, Back-End Web Developer,   Data Scientist, Full-Stack Web Developer, Information Security, IT specialist       1\n",
       "Name: JobRoleInterest, Length: 3213, dtype: int64"
      ]
     },
     "execution_count": 8,
     "metadata": {},
     "output_type": "execute_result"
    }
   ],
   "source": [
    "# Frequency distribution table for 'JobRoleInterest'\n",
    "survey_2017['JobRoleInterest'].value_counts()"
   ]
  },
  {
   "cell_type": "code",
   "execution_count": 9,
   "metadata": {},
   "outputs": [
    {
     "data": {
      "text/plain": [
       "Full-Stack Web Developer                                                                                                                                                                                                                                                                    11.770595\n",
       "  Front-End Web Developer                                                                                                                                                                                                                                                                    6.435927\n",
       "  Data Scientist                                                                                                                                                                                                                                                                             2.173913\n",
       "Back-End Web Developer                                                                                                                                                                                                                                                                       2.030892\n",
       "  Mobile Developer                                                                                                                                                                                                                                                                           1.673341\n",
       "                                                                                                                                                                                                                                                                                              ...    \n",
       "  Front-End Web Developer,   DevOps / SysAdmin,   Mobile Developer, Full-Stack Web Developer                                                                                                                                                                                                 0.014302\n",
       "Back-End Web Developer,   Front-End Web Developer, Data Engineer, Full-Stack Web Developer,   Mobile Developer                                                                                                                                                                               0.014302\n",
       "Back-End Web Developer,   User Experience Designer,   Mobile Developer, Game Developer,   Front-End Web Developer, Full-Stack Web Developer                                                                                                                                                  0.014302\n",
       "  Front-End Web Developer,   Mobile Developer, Back-End Web Developer, Full-Stack Web Developer, Data Engineer                                                                                                                                                                               0.014302\n",
       "  DevOps / SysAdmin,   Mobile Developer,   Product Manager, Game Developer,   Front-End Web Developer, Data Engineer,   Quality Assurance Engineer,   User Experience Designer, Back-End Web Developer,   Data Scientist, Full-Stack Web Developer, Information Security, IT specialist      0.014302\n",
       "Name: JobRoleInterest, Length: 3213, dtype: float64"
      ]
     },
     "execution_count": 9,
     "metadata": {},
     "output_type": "execute_result"
    }
   ],
   "source": [
    "survey_2017['JobRoleInterest'].value_counts(normalize=True)*100"
   ]
  },
  {
   "cell_type": "markdown",
   "metadata": {},
   "source": [
    "It's also interesting to note that many respondents are interested in more than one subject. It'd be useful to get a better picture of how many people are interested in a single subject and how many have mixed interests. Consequently, in the next code block, we'll:\n",
    "\n",
    "* Split each string in the JobRoleInterest column to find the number of options for each participant.\n",
    "** We'll first drop the null values because we can't split Nan values.\n",
    "* Generate a frequency table for the variable describing the number of options."
   ]
  },
  {
   "cell_type": "code",
   "execution_count": 10,
   "metadata": {},
   "outputs": [],
   "source": [
    "roleinterest_nonull=survey_2017['JobRoleInterest'].dropna()\n",
    "splitted_roleinterest=roleinterest_nonull.str.split(',')"
   ]
  },
  {
   "cell_type": "code",
   "execution_count": 11,
   "metadata": {},
   "outputs": [
    {
     "data": {
      "text/plain": [
       "1     31.650458\n",
       "3     15.889588\n",
       "4     15.217391\n",
       "5     12.042334\n",
       "2     10.883867\n",
       "6      6.721968\n",
       "7      3.861556\n",
       "8      1.759153\n",
       "9      0.986842\n",
       "10     0.471968\n",
       "12     0.300343\n",
       "11     0.185927\n",
       "13     0.028604\n",
       "Name: JobRoleInterest, dtype: float64"
      ]
     },
     "execution_count": 11,
     "metadata": {},
     "output_type": "execute_result"
    }
   ],
   "source": [
    "num_interest=splitted_roleinterest.apply(lambda x: len(x))\n",
    "num_interest.value_counts(normalize=True)*100"
   ]
  },
  {
   "cell_type": "markdown",
   "metadata": {},
   "source": [
    "It turns out that only 31.7% of the participants have a clear idea about what programming niche they'd like to work in, while the vast majority of students have mixed interests. But given that we offer courses on various subjects, the fact that new coders have mixed interest might be actually good for us.\n",
    "\n",
    "The focus of our courses is on web and mobile development, so let's find out how many respondents chose at least one of these two options."
   ]
  },
  {
   "cell_type": "code",
   "execution_count": 12,
   "metadata": {},
   "outputs": [
    {
     "name": "stdout",
     "output_type": "stream",
     "text": [
      "True     86.241419\n",
      "False    13.758581\n",
      "Name: JobRoleInterest, dtype: float64\n"
     ]
    }
   ],
   "source": [
    "# Frequency table\n",
    "web_or_mobile=roleinterest_nonull.str.contains('Web Developer|Mobile Developer')\n",
    "freq_web_mobile=web_or_mobile.value_counts(normalize=True)*100\n",
    "print(freq_web_mobile)"
   ]
  },
  {
   "cell_type": "code",
   "execution_count": 13,
   "metadata": {},
   "outputs": [
    {
     "data": {
      "image/png": "[encoded data removed]",
      "text/plain": [
       "<Figure size 432x288 with 1 Axes>"
      ]
     },
     "metadata": {},
     "output_type": "display_data"
    }
   ],
   "source": [
    "%matplotlib inline\n",
    "plt.style.use('fivethirtyeight')\n",
    "freq_web_mobile.plot.bar()\n",
    "plt.title('Most Participants are Interested in Web or Mobile Development', y=1.08)# pads the title upward a little bit\n",
    "plt.ylabel('Percentage', fontsize=12.5)\n",
    "plt.xticks([0,1],['Web or Mobile','Other Interests'], rotation=0)\n",
    "plt.ylim([0,100])\n",
    "plt.show()"
   ]
  },
  {
   "cell_type": "markdown",
   "metadata": {},
   "source": [
    "Approximately 87% people in the sample are interest in either web development or mobile development. We can safely use this sample for our goal based on the representative of these figures.\n",
    "\n",
    "Now we need to figure out what are the best markets to invest money in for advertising our courses. We'd like to know:\n",
    "\n",
    "* Where are these new coders located.\n",
    "* What are the locations with the greatest number of new coders.\n",
    "* How much money new coders are willing to spend on learning.\n"
   ]
  },
  {
   "cell_type": "markdown",
   "metadata": {},
   "source": [
    "## New Coders - Locations and Densities\n",
    "Let's begin with finding out where these new coders are located, and what are the densities (how many new coders there are) for each location. This should be a good start for finding out the best two markets to run our ads campaign in.\n",
    "\n",
    "The data set provides information about the location of each participant at a country level. We can think of each country as an individual market, so we can frame our goal as finding the two best countries to advertise in.\n",
    "\n",
    "We can start by examining the frequency distribution table of the CountryLive variable, which describes what country each participant lives in (not their origin country). We'll only consider those participants who answered what role(s) they're interested in, to make sure we work with a representative sample."
   ]
  },
  {
   "cell_type": "code",
   "execution_count": 14,
   "metadata": {},
   "outputs": [
    {
     "data": {
      "text/html": [
       "<div>\n",
       "<style scoped>\n",
       "    .dataframe tbody tr th:only-of-type {\n",
       "        vertical-align: middle;\n",
       "    }\n",
       "\n",
       "    .dataframe tbody tr th {\n",
       "        vertical-align: top;\n",
       "    }\n",
       "\n",
       "    .dataframe thead th {\n",
       "        text-align: right;\n",
       "    }\n",
       "</style>\n",
       "<table border=\"1\" class=\"dataframe\">\n",
       "  <thead>\n",
       "    <tr style=\"text-align: right;\">\n",
       "      <th></th>\n",
       "      <th>Absolute_freq</th>\n",
       "      <th>Relative_freq</th>\n",
       "    </tr>\n",
       "  </thead>\n",
       "  <tbody>\n",
       "    <tr>\n",
       "      <th>United States of America</th>\n",
       "      <td>3125</td>\n",
       "      <td>45.700497</td>\n",
       "    </tr>\n",
       "    <tr>\n",
       "      <th>India</th>\n",
       "      <td>528</td>\n",
       "      <td>7.721556</td>\n",
       "    </tr>\n",
       "    <tr>\n",
       "      <th>United Kingdom</th>\n",
       "      <td>315</td>\n",
       "      <td>4.606610</td>\n",
       "    </tr>\n",
       "    <tr>\n",
       "      <th>Canada</th>\n",
       "      <td>260</td>\n",
       "      <td>3.802281</td>\n",
       "    </tr>\n",
       "    <tr>\n",
       "      <th>Poland</th>\n",
       "      <td>131</td>\n",
       "      <td>1.915765</td>\n",
       "    </tr>\n",
       "    <tr>\n",
       "      <th>...</th>\n",
       "      <td>...</td>\n",
       "      <td>...</td>\n",
       "    </tr>\n",
       "    <tr>\n",
       "      <th>Liberia</th>\n",
       "      <td>1</td>\n",
       "      <td>0.014624</td>\n",
       "    </tr>\n",
       "    <tr>\n",
       "      <th>Papua New Guinea</th>\n",
       "      <td>1</td>\n",
       "      <td>0.014624</td>\n",
       "    </tr>\n",
       "    <tr>\n",
       "      <th>Guadeloupe</th>\n",
       "      <td>1</td>\n",
       "      <td>0.014624</td>\n",
       "    </tr>\n",
       "    <tr>\n",
       "      <th>Gibraltar</th>\n",
       "      <td>1</td>\n",
       "      <td>0.014624</td>\n",
       "    </tr>\n",
       "    <tr>\n",
       "      <th>Gambia</th>\n",
       "      <td>1</td>\n",
       "      <td>0.014624</td>\n",
       "    </tr>\n",
       "  </tbody>\n",
       "</table>\n",
       "<p>137 rows × 2 columns</p>\n",
       "</div>"
      ],
      "text/plain": [
       "                          Absolute_freq  Relative_freq\n",
       "United States of America           3125      45.700497\n",
       "India                               528       7.721556\n",
       "United Kingdom                      315       4.606610\n",
       "Canada                              260       3.802281\n",
       "Poland                              131       1.915765\n",
       "...                                 ...            ...\n",
       "Liberia                               1       0.014624\n",
       "Papua New Guinea                      1       0.014624\n",
       "Guadeloupe                            1       0.014624\n",
       "Gibraltar                             1       0.014624\n",
       "Gambia                                1       0.014624\n",
       "\n",
       "[137 rows x 2 columns]"
      ]
     },
     "execution_count": 14,
     "metadata": {},
     "output_type": "execute_result"
    }
   ],
   "source": [
    "# Isolate the participants who answered the job role interest survey\n",
    "survey_2017_interest=survey_2017[survey_2017['JobRoleInterest'].notnull()].copy()\n",
    "# Frequency tables with absolute frequencies and reletive frequancies\n",
    "absolute_freq=survey_2017_interest['CountryLive'].value_counts()\n",
    "relative_freq=survey_2017_interest['CountryLive'].value_counts(normalize=True).mul(100)\n",
    "# Display the frequencies in the same dataframe\n",
    "pd.DataFrame(data={'Absolute_freq':absolute_freq,\n",
    "            'Relative_freq': relative_freq})"
   ]
  },
  {
   "cell_type": "markdown",
   "metadata": {},
   "source": [
    "45.7% of our potential customers are located in the US, and this definitely seems like the most interesting market. India has the second customer density, but it's just 7.7%, which is not too far from the United Kingdom (4.6%) or Canada (3.8%).\n",
    "\n",
    "This is useful information, but we need to go more in depth than this and figure out how much money people are actually willing to spend on learning. Advertising in high-density markets where most people are only willing to learn for free is extremely unlikely to be profitable for us.\n"
   ]
  },
  {
   "cell_type": "markdown",
   "metadata": {},
   "source": [
    "## Money Willing to spend for New Coders\n",
    "Now we are figuring out how much money new coders are actually willing to spend on learning. Advertising within markets where most people are only willing to learn for free is extremely unlikely to be profitable for us.\n",
    "\n",
    "The MoneyForLearning column describes in American dollars the amount of money spent by participants from the moment they started coding until the moment they completed the survey. Our company sells subscriptions at a price of $59 per month, and for this reason we're interested in finding out how much money each student spends per month.\n",
    "\n",
    "It also seems like a good idea to narrow down our analysis to only four countries: the US, India, the United Kingdom, and Canada. Two reasons for this decision are:\n",
    "\n",
    "* These are the countries having the highest absolute frequencies in our sample, which means we have a decent amount of data for each.\n",
    "* Our courses are written in English, and English is an official language in all these four countries. The more people that know English, the better our chances to target the right people with our ads."
   ]
  },
  {
   "cell_type": "code",
   "execution_count": 15,
   "metadata": {},
   "outputs": [
    {
     "data": {
      "text/plain": [
       "0.0        3194\n",
       "100.0       434\n",
       "200.0       315\n",
       "500.0       232\n",
       "50.0        227\n",
       "           ... \n",
       "14023.0       1\n",
       "950.0         1\n",
       "28.0          1\n",
       "389.0         1\n",
       "297.0         1\n",
       "Name: MoneyForLearning, Length: 204, dtype: int64"
      ]
     },
     "execution_count": 15,
     "metadata": {},
     "output_type": "execute_result"
    }
   ],
   "source": [
    "survey_2017_interest['MoneyForLearning'].value_counts()"
   ]
  },
  {
   "cell_type": "code",
   "execution_count": 16,
   "metadata": {},
   "outputs": [
    {
     "data": {
      "text/plain": [
       "1.0      767\n",
       "2.0      669\n",
       "6.0      654\n",
       "3.0      637\n",
       "12.0     616\n",
       "        ... \n",
       "43.0       1\n",
       "46.0       1\n",
       "105.0      1\n",
       "51.0       1\n",
       "89.0       1\n",
       "Name: MonthsProgramming, Length: 91, dtype: int64"
      ]
     },
     "execution_count": 16,
     "metadata": {},
     "output_type": "execute_result"
    }
   ],
   "source": [
    "survey_2017_interest['MonthsProgramming'].value_counts()"
   ]
  },
  {
   "cell_type": "code",
   "execution_count": 17,
   "metadata": {},
   "outputs": [],
   "source": [
    "# Replace 0 with 1 to avoid division by 0\n",
    "survey_2017_interest['MonthsProgramming'].replace(0,1,inplace=True)"
   ]
  },
  {
   "cell_type": "code",
   "execution_count": 18,
   "metadata": {},
   "outputs": [
    {
     "data": {
      "text/plain": [
       "675"
      ]
     },
     "execution_count": 18,
     "metadata": {},
     "output_type": "execute_result"
    }
   ],
   "source": [
    "# New column for the amount of money each student spends on the programming each month\n",
    "survey_2017_interest['MoneyPerMonth']=survey_2017_interest['MoneyForLearning'] / survey_2017_interest['MonthsProgramming']\n",
    "survey_2017_interest['MoneyPerMonth'].isnull().sum()"
   ]
  },
  {
   "cell_type": "code",
   "execution_count": 19,
   "metadata": {},
   "outputs": [],
   "source": [
    "# Only keep the rows with non-nulls in the MoneyPerMonth column\n",
    "survey_2017_interest=survey_2017_interest[survey_2017_interest['MoneyPerMonth'].notnull()].copy()"
   ]
  },
  {
   "cell_type": "code",
   "execution_count": 20,
   "metadata": {},
   "outputs": [
    {
     "data": {
      "text/plain": [
       "United States of America    2933\n",
       "India                        463\n",
       "United Kingdom               279\n",
       "Canada                       240\n",
       "Poland                       122\n",
       "                            ... \n",
       "Gibraltar                      1\n",
       "Lebanon                        1\n",
       "Papua New Guinea               1\n",
       "Somalia                        1\n",
       "Gambia                         1\n",
       "Name: CountryLive, Length: 131, dtype: int64"
      ]
     },
     "execution_count": 20,
     "metadata": {},
     "output_type": "execute_result"
    }
   ],
   "source": [
    "# Remove the rows with null values in CountryLive column\n",
    "survey_2017_interest=survey_2017_interest[survey_2017_interest['CountryLive'].notnull()].copy()\n",
    "survey_2017_interest['CountryLive'].value_counts()"
   ]
  },
  {
   "cell_type": "markdown",
   "metadata": {},
   "source": [
    "This data should be enough, now we can compute the average value spent per month in each country by each student. Use mean to compute the average"
   ]
  },
  {
   "cell_type": "code",
   "execution_count": 21,
   "metadata": {},
   "outputs": [],
   "source": [
    "country_mean=survey_2017_interest.groupby('CountryLive').mean()"
   ]
  },
  {
   "cell_type": "code",
   "execution_count": 22,
   "metadata": {},
   "outputs": [
    {
     "data": {
      "text/plain": [
       "array(['United States of America', 'Brazil', 'Portugal', 'United Kingdom',\n",
       "       'Mexico', 'Germany', 'Argentina', 'Venezuela', 'India', 'Canada',\n",
       "       'Australia', 'Egypt', 'Lithuania', 'Finland',\n",
       "       'Bosnia & Herzegovina', 'Netherlands (Holland, Europe)', 'Kenya',\n",
       "       'Switzerland', 'Italy', 'Great Britain', 'Russia', 'China',\n",
       "       'Spain', 'Ireland', 'Poland', 'France', 'Kyrgyzstan', 'Greece',\n",
       "       'Philippines', 'Georgia', 'Turkey', 'Romania', 'Norway', 'Nigeria',\n",
       "       'Peru', 'Iraq', 'Sweden', 'Bulgaria', 'Singapore', 'Ukraine',\n",
       "       'Hungary', 'Austria', 'New Zealand', 'Serbia', 'Bangladesh',\n",
       "       'Honduras', 'Belgium', 'Puerto Rico', 'Denmark', 'Japan', 'Cyprus',\n",
       "       'Ghana', 'Czech Republic', 'Macedonia', 'Costa Rica', 'Tunisia',\n",
       "       'South Africa', 'Albania', 'Malaysia', 'Thailand', 'Iceland',\n",
       "       'Pakistan', 'Guam', 'Indonesia', 'Algeria', 'Senegal', 'Belarus',\n",
       "       'Sri Lanka', 'Israel', 'United Arab Emirates',\n",
       "       'Virgin Islands (USA)', 'Turkmenistan', 'Botswana', 'Croatia',\n",
       "       'Jamaica', 'Hong Kong', 'Taiwan', 'Haiti', 'Ecuador', 'Slovenia',\n",
       "       'Colombia', 'Latvia', 'Bahrain', 'Vietnam', 'Iran', 'Morocco',\n",
       "       'Kazakhstan', 'Korea South', 'Chile', 'Saudi Arabia', 'Yemen',\n",
       "       'Gibraltar', 'Estonia', 'Somalia', 'Uruguay', 'Uganda', 'Nepal',\n",
       "       'Cayman Islands', 'Guadeloupe', 'Dominican Republic',\n",
       "       'Papua New Guinea', 'Lebanon', 'Luxembourg', 'Zimbabwe',\n",
       "       'Slovakia', 'Trinidad & Tobago', 'Mauritius', 'Cambodia',\n",
       "       'Netherland Antilles', 'Niger', 'Azerbaijan', 'Afghanistan',\n",
       "       'Paraguay', 'Guatemala', 'Republic of Serbia', 'Myanmar', 'Rwanda',\n",
       "       'Uzbekistan', 'Jordan', 'Angola', 'Nambia', 'Samoa',\n",
       "       'Channel Islands', 'Cameroon', 'Cuba', 'Vanuatu', 'Moldova',\n",
       "       'Anguilla', 'Mozambique', 'Nicaragua', 'Gambia'], dtype=object)"
      ]
     },
     "execution_count": 22,
     "metadata": {},
     "output_type": "execute_result"
    }
   ],
   "source": [
    "survey_2017_interest[\"CountryLive\"].unique()"
   ]
  },
  {
   "cell_type": "code",
   "execution_count": 23,
   "metadata": {},
   "outputs": [
    {
     "data": {
      "text/plain": [
       "CountryLive\n",
       "United States of America    227.997996\n",
       "India                       135.100982\n",
       "United Kingdom               45.534443\n",
       "Canada                      113.510961\n",
       "Name: MoneyPerMonth, dtype: float64"
      ]
     },
     "execution_count": 23,
     "metadata": {},
     "output_type": "execute_result"
    }
   ],
   "source": [
    "country_mean['MoneyPerMonth'][['United States of America','India','United Kingdom','Canada']]\n"
   ]
  },
  {
   "cell_type": "markdown",
   "metadata": {},
   "source": [
    "The results for the United Kingdom and Canada are a bit surprising relative to the values we see for India. If we considered a few socio-economical metrics (like GDP per capita), we'd intuitively expect people in the UK and Canada to spend more on learning than people in India.\n",
    "\n",
    "It might be that we don't have have enough representative data for the United Kingdom and Canada, or we have some outliers (maybe coming from wrong survey answers) making the mean too large for India, or too low for the UK and Canada. Or it might be that the results are correct. Due to the cultural and economic circumstances, coding is one of the most efficient way to uplift one's financial situtation, this might be the reanson Indian people are willing to spend a lot money on coding programs."
   ]
  },
  {
   "cell_type": "markdown",
   "metadata": {},
   "source": [
    "## Dealing with Extreme outliers\n",
    "Visualize the distribution of MoneyPerMonth for the four countries"
   ]
  },
  {
   "cell_type": "code",
   "execution_count": 24,
   "metadata": {},
   "outputs": [],
   "source": [
    "# Isolate the four countries we get above\n",
    "four_countries=survey_2017_interest[survey_2017_interest['CountryLive'].str.contains('United States of America|India|United Kindom|Canada')]"
   ]
  },
  {
   "cell_type": "code",
   "execution_count": 25,
   "metadata": {},
   "outputs": [
    {
     "data": {
      "image/png": "[encoded data removed]",
      "text/plain": [
       "<Figure size 432x288 with 1 Axes>"
      ]
     },
     "metadata": {},
     "output_type": "display_data"
    }
   ],
   "source": [
    "import seaborn as sns\n",
    "sns.boxplot(y='MoneyPerMonth',x='CountryLive',data=four_countries)\n",
    "plt.title('Money Spent Per Month Per Country \\ng(Distribution)',fontsize=16)\n",
    "plt.xlabel('Country')\n",
    "plt.ylabel('Money Per Month (US Dollars)')\n",
    "plt.xticks(range(4), ['US', 'UK', 'India', 'Canada'])\n",
    "plt.show()"
   ]
  },
  {
   "cell_type": "markdown",
   "metadata": {},
   "source": [
    "It's hard to see on the plot above if there's anything wrong with the data for the United Kingdom, India, or Canada, but we can see immediately that there's something really off for the US: two persons spend each month 50000 or more for learning. This is not impossible, but it seems extremely unlikely, so we'll remove every value that goes over $20,000 per month."
   ]
  },
  {
   "cell_type": "code",
   "execution_count": 26,
   "metadata": {},
   "outputs": [],
   "source": [
    "survey_2017_interest=survey_2017_interest[survey_2017_interest['MoneyPerMonth']<20000]\n"
   ]
  },
  {
   "cell_type": "code",
   "execution_count": 27,
   "metadata": {},
   "outputs": [],
   "source": [
    "country_mean=survey_2017_interest.groupby('CountryLive').mean()"
   ]
  },
  {
   "cell_type": "code",
   "execution_count": 44,
   "metadata": {},
   "outputs": [
    {
     "data": {
      "text/plain": [
       "CountryLive\n",
       "United States of America    183.800110\n",
       "India                       135.100982\n",
       "United Kingdom               45.534443\n",
       "Canada                      113.510961\n",
       "Name: MoneyPerMonth, dtype: float64"
      ]
     },
     "execution_count": 44,
     "metadata": {},
     "output_type": "execute_result"
    }
   ],
   "source": [
    "country_mean['MoneyPerMonth'][['United States of America','India','United Kingdom','Canada']]"
   ]
  },
  {
   "cell_type": "code",
   "execution_count": 45,
   "metadata": {},
   "outputs": [],
   "source": [
    "# Isolate the four countries we got above\n",
    "four_countries=survey_2017_interest[survey_2017_interest['CountryLive'].str.contains('United States of America|India|United Kingdom|Canada')]\n"
   ]
  },
  {
   "cell_type": "code",
   "execution_count": 46,
   "metadata": {},
   "outputs": [
    {
     "data": {
      "image/png": "[encoded data removed]",
      "text/plain": [
       "<Figure size 432x288 with 1 Axes>"
      ]
     },
     "metadata": {},
     "output_type": "display_data"
    }
   ],
   "source": [
    "# Box Plot to visualize distributions\n",
    "sns.boxplot(x='CountryLive', y='MoneyPerMonth', data=four_countries)\n",
    "plt.title('Money Spent Per Month Per Country\\n(Distribution)', fontsize=16)\n",
    "plt.xlabel('Country')\n",
    "plt.ylabel('Money Per Month\\ng(US dollar)')\n",
    "plt.xticks(range(4),['US','UK','India','Canada'])\n",
    "plt.show()"
   ]
  },
  {
   "cell_type": "markdown",
   "metadata": {},
   "source": [
    "We can see a few extreme outliers for India (values over $2500 per month), but it's unclear whether this is good data or not. Maybe these persons attended several bootcamps, which tend to be very expensive. Let's examine these two data points to see if we can find anything relevant.\n",
    "\n"
   ]
  },
  {
   "cell_type": "code",
   "execution_count": 47,
   "metadata": {},
   "outputs": [
    {
     "data": {
      "text/html": [
       "<div>\n",
       "<style scoped>\n",
       "    .dataframe tbody tr th:only-of-type {\n",
       "        vertical-align: middle;\n",
       "    }\n",
       "\n",
       "    .dataframe tbody tr th {\n",
       "        vertical-align: top;\n",
       "    }\n",
       "\n",
       "    .dataframe thead th {\n",
       "        text-align: right;\n",
       "    }\n",
       "</style>\n",
       "<table border=\"1\" class=\"dataframe\">\n",
       "  <thead>\n",
       "    <tr style=\"text-align: right;\">\n",
       "      <th></th>\n",
       "      <th>Age</th>\n",
       "      <th>AttendedBootcamp</th>\n",
       "      <th>BootcampFinish</th>\n",
       "      <th>BootcampLoanYesNo</th>\n",
       "      <th>BootcampName</th>\n",
       "      <th>BootcampRecommend</th>\n",
       "      <th>ChildrenNumber</th>\n",
       "      <th>CityPopulation</th>\n",
       "      <th>CodeEventConferences</th>\n",
       "      <th>CodeEventDjangoGirls</th>\n",
       "      <th>...</th>\n",
       "      <th>YouTubeFunFunFunction</th>\n",
       "      <th>YouTubeGoogleDev</th>\n",
       "      <th>YouTubeLearnCode</th>\n",
       "      <th>YouTubeLevelUpTuts</th>\n",
       "      <th>YouTubeMIT</th>\n",
       "      <th>YouTubeMozillaHacks</th>\n",
       "      <th>YouTubeOther</th>\n",
       "      <th>YouTubeSimplilearn</th>\n",
       "      <th>YouTubeTheNewBoston</th>\n",
       "      <th>MoneyPerMonth</th>\n",
       "    </tr>\n",
       "  </thead>\n",
       "  <tbody>\n",
       "    <tr>\n",
       "      <th>1728</th>\n",
       "      <td>24.0</td>\n",
       "      <td>0.0</td>\n",
       "      <td>NaN</td>\n",
       "      <td>NaN</td>\n",
       "      <td>NaN</td>\n",
       "      <td>NaN</td>\n",
       "      <td>NaN</td>\n",
       "      <td>between 100,000 and 1 million</td>\n",
       "      <td>NaN</td>\n",
       "      <td>NaN</td>\n",
       "      <td>...</td>\n",
       "      <td>NaN</td>\n",
       "      <td>NaN</td>\n",
       "      <td>NaN</td>\n",
       "      <td>NaN</td>\n",
       "      <td>NaN</td>\n",
       "      <td>NaN</td>\n",
       "      <td>NaN</td>\n",
       "      <td>NaN</td>\n",
       "      <td>NaN</td>\n",
       "      <td>5000.000000</td>\n",
       "    </tr>\n",
       "    <tr>\n",
       "      <th>1755</th>\n",
       "      <td>20.0</td>\n",
       "      <td>0.0</td>\n",
       "      <td>NaN</td>\n",
       "      <td>NaN</td>\n",
       "      <td>NaN</td>\n",
       "      <td>NaN</td>\n",
       "      <td>NaN</td>\n",
       "      <td>more than 1 million</td>\n",
       "      <td>NaN</td>\n",
       "      <td>NaN</td>\n",
       "      <td>...</td>\n",
       "      <td>NaN</td>\n",
       "      <td>NaN</td>\n",
       "      <td>1.0</td>\n",
       "      <td>NaN</td>\n",
       "      <td>1.0</td>\n",
       "      <td>NaN</td>\n",
       "      <td>NaN</td>\n",
       "      <td>NaN</td>\n",
       "      <td>NaN</td>\n",
       "      <td>3333.333333</td>\n",
       "    </tr>\n",
       "    <tr>\n",
       "      <th>7989</th>\n",
       "      <td>28.0</td>\n",
       "      <td>0.0</td>\n",
       "      <td>NaN</td>\n",
       "      <td>NaN</td>\n",
       "      <td>NaN</td>\n",
       "      <td>NaN</td>\n",
       "      <td>NaN</td>\n",
       "      <td>between 100,000 and 1 million</td>\n",
       "      <td>1.0</td>\n",
       "      <td>NaN</td>\n",
       "      <td>...</td>\n",
       "      <td>NaN</td>\n",
       "      <td>NaN</td>\n",
       "      <td>NaN</td>\n",
       "      <td>NaN</td>\n",
       "      <td>NaN</td>\n",
       "      <td>NaN</td>\n",
       "      <td>NaN</td>\n",
       "      <td>NaN</td>\n",
       "      <td>NaN</td>\n",
       "      <td>5000.000000</td>\n",
       "    </tr>\n",
       "    <tr>\n",
       "      <th>8126</th>\n",
       "      <td>22.0</td>\n",
       "      <td>0.0</td>\n",
       "      <td>NaN</td>\n",
       "      <td>NaN</td>\n",
       "      <td>NaN</td>\n",
       "      <td>NaN</td>\n",
       "      <td>NaN</td>\n",
       "      <td>more than 1 million</td>\n",
       "      <td>NaN</td>\n",
       "      <td>NaN</td>\n",
       "      <td>...</td>\n",
       "      <td>NaN</td>\n",
       "      <td>1.0</td>\n",
       "      <td>NaN</td>\n",
       "      <td>NaN</td>\n",
       "      <td>1.0</td>\n",
       "      <td>NaN</td>\n",
       "      <td>NaN</td>\n",
       "      <td>NaN</td>\n",
       "      <td>1.0</td>\n",
       "      <td>5000.000000</td>\n",
       "    </tr>\n",
       "    <tr>\n",
       "      <th>13398</th>\n",
       "      <td>19.0</td>\n",
       "      <td>0.0</td>\n",
       "      <td>NaN</td>\n",
       "      <td>NaN</td>\n",
       "      <td>NaN</td>\n",
       "      <td>NaN</td>\n",
       "      <td>NaN</td>\n",
       "      <td>more than 1 million</td>\n",
       "      <td>NaN</td>\n",
       "      <td>NaN</td>\n",
       "      <td>...</td>\n",
       "      <td>NaN</td>\n",
       "      <td>NaN</td>\n",
       "      <td>NaN</td>\n",
       "      <td>NaN</td>\n",
       "      <td>NaN</td>\n",
       "      <td>NaN</td>\n",
       "      <td>NaN</td>\n",
       "      <td>NaN</td>\n",
       "      <td>NaN</td>\n",
       "      <td>10000.000000</td>\n",
       "    </tr>\n",
       "    <tr>\n",
       "      <th>15587</th>\n",
       "      <td>27.0</td>\n",
       "      <td>0.0</td>\n",
       "      <td>NaN</td>\n",
       "      <td>NaN</td>\n",
       "      <td>NaN</td>\n",
       "      <td>NaN</td>\n",
       "      <td>NaN</td>\n",
       "      <td>more than 1 million</td>\n",
       "      <td>NaN</td>\n",
       "      <td>NaN</td>\n",
       "      <td>...</td>\n",
       "      <td>NaN</td>\n",
       "      <td>1.0</td>\n",
       "      <td>1.0</td>\n",
       "      <td>NaN</td>\n",
       "      <td>1.0</td>\n",
       "      <td>NaN</td>\n",
       "      <td>NaN</td>\n",
       "      <td>NaN</td>\n",
       "      <td>NaN</td>\n",
       "      <td>4166.666667</td>\n",
       "    </tr>\n",
       "  </tbody>\n",
       "</table>\n",
       "<p>6 rows × 137 columns</p>\n",
       "</div>"
      ],
      "text/plain": [
       "        Age  AttendedBootcamp  BootcampFinish  BootcampLoanYesNo BootcampName  \\\n",
       "1728   24.0               0.0             NaN                NaN          NaN   \n",
       "1755   20.0               0.0             NaN                NaN          NaN   \n",
       "7989   28.0               0.0             NaN                NaN          NaN   \n",
       "8126   22.0               0.0             NaN                NaN          NaN   \n",
       "13398  19.0               0.0             NaN                NaN          NaN   \n",
       "15587  27.0               0.0             NaN                NaN          NaN   \n",
       "\n",
       "       BootcampRecommend  ChildrenNumber                 CityPopulation  \\\n",
       "1728                 NaN             NaN  between 100,000 and 1 million   \n",
       "1755                 NaN             NaN            more than 1 million   \n",
       "7989                 NaN             NaN  between 100,000 and 1 million   \n",
       "8126                 NaN             NaN            more than 1 million   \n",
       "13398                NaN             NaN            more than 1 million   \n",
       "15587                NaN             NaN            more than 1 million   \n",
       "\n",
       "       CodeEventConferences  CodeEventDjangoGirls  ...  YouTubeFunFunFunction  \\\n",
       "1728                    NaN                   NaN  ...                    NaN   \n",
       "1755                    NaN                   NaN  ...                    NaN   \n",
       "7989                    1.0                   NaN  ...                    NaN   \n",
       "8126                    NaN                   NaN  ...                    NaN   \n",
       "13398                   NaN                   NaN  ...                    NaN   \n",
       "15587                   NaN                   NaN  ...                    NaN   \n",
       "\n",
       "       YouTubeGoogleDev  YouTubeLearnCode  YouTubeLevelUpTuts  YouTubeMIT  \\\n",
       "1728                NaN               NaN                 NaN         NaN   \n",
       "1755                NaN               1.0                 NaN         1.0   \n",
       "7989                NaN               NaN                 NaN         NaN   \n",
       "8126                1.0               NaN                 NaN         1.0   \n",
       "13398               NaN               NaN                 NaN         NaN   \n",
       "15587               1.0               1.0                 NaN         1.0   \n",
       "\n",
       "       YouTubeMozillaHacks  YouTubeOther YouTubeSimplilearn  \\\n",
       "1728                   NaN           NaN                NaN   \n",
       "1755                   NaN           NaN                NaN   \n",
       "7989                   NaN           NaN                NaN   \n",
       "8126                   NaN           NaN                NaN   \n",
       "13398                  NaN           NaN                NaN   \n",
       "15587                  NaN           NaN                NaN   \n",
       "\n",
       "       YouTubeTheNewBoston  MoneyPerMonth  \n",
       "1728                   NaN    5000.000000  \n",
       "1755                   NaN    3333.333333  \n",
       "7989                   NaN    5000.000000  \n",
       "8126                   1.0    5000.000000  \n",
       "13398                  NaN   10000.000000  \n",
       "15587                  NaN    4166.666667  \n",
       "\n",
       "[6 rows x 137 columns]"
      ]
     },
     "execution_count": 47,
     "metadata": {},
     "output_type": "execute_result"
    }
   ],
   "source": [
    "# Inspect the outliers for India\n",
    "india_outliers=four_countries[(four_countries['CountryLive']=='India') &\n",
    "                              (four_countries['MoneyPerMonth']>2500)\n",
    "    \n",
    "]\n",
    "india_outliers"
   ]
  },
  {
   "cell_type": "markdown",
   "metadata": {},
   "source": [
    "It seems that neither participant attended a bootcamp. Overall, it's really hard to figure out from the data whether these persons really spent that much money with learning. The actual question of the survey was \"Aside from university tuition, about how much money have you spent on learning to code so far (in US dollars)?\", so they might have misunderstood and thought university tuition is included. It seems safer to remove these two rows.\n",
    "\n"
   ]
  },
  {
   "cell_type": "code",
   "execution_count": 48,
   "metadata": {},
   "outputs": [],
   "source": [
    "# Now we can sefely remove the outliers for India\n",
    "four_countries=four_countries.drop(india_outliers.index) "
   ]
  },
  {
   "cell_type": "markdown",
   "metadata": {},
   "source": [
    "Looking back at the box plot above, we can also see more extreme outliers for the US (values over $6000 per month). Let's examine these participants in more detail.\n",
    "\n"
   ]
  },
  {
   "cell_type": "code",
   "execution_count": 49,
   "metadata": {},
   "outputs": [
    {
     "data": {
      "text/html": [
       "<div>\n",
       "<style scoped>\n",
       "    .dataframe tbody tr th:only-of-type {\n",
       "        vertical-align: middle;\n",
       "    }\n",
       "\n",
       "    .dataframe tbody tr th {\n",
       "        vertical-align: top;\n",
       "    }\n",
       "\n",
       "    .dataframe thead th {\n",
       "        text-align: right;\n",
       "    }\n",
       "</style>\n",
       "<table border=\"1\" class=\"dataframe\">\n",
       "  <thead>\n",
       "    <tr style=\"text-align: right;\">\n",
       "      <th></th>\n",
       "      <th>Age</th>\n",
       "      <th>AttendedBootcamp</th>\n",
       "      <th>BootcampFinish</th>\n",
       "      <th>BootcampLoanYesNo</th>\n",
       "      <th>BootcampName</th>\n",
       "      <th>BootcampRecommend</th>\n",
       "      <th>ChildrenNumber</th>\n",
       "      <th>CityPopulation</th>\n",
       "      <th>CodeEventConferences</th>\n",
       "      <th>CodeEventDjangoGirls</th>\n",
       "      <th>...</th>\n",
       "      <th>YouTubeFunFunFunction</th>\n",
       "      <th>YouTubeGoogleDev</th>\n",
       "      <th>YouTubeLearnCode</th>\n",
       "      <th>YouTubeLevelUpTuts</th>\n",
       "      <th>YouTubeMIT</th>\n",
       "      <th>YouTubeMozillaHacks</th>\n",
       "      <th>YouTubeOther</th>\n",
       "      <th>YouTubeSimplilearn</th>\n",
       "      <th>YouTubeTheNewBoston</th>\n",
       "      <th>MoneyPerMonth</th>\n",
       "    </tr>\n",
       "  </thead>\n",
       "  <tbody>\n",
       "    <tr>\n",
       "      <th>718</th>\n",
       "      <td>26.0</td>\n",
       "      <td>1.0</td>\n",
       "      <td>0.0</td>\n",
       "      <td>0.0</td>\n",
       "      <td>The Coding Boot Camp at UCLA Extension</td>\n",
       "      <td>1.0</td>\n",
       "      <td>NaN</td>\n",
       "      <td>more than 1 million</td>\n",
       "      <td>1.0</td>\n",
       "      <td>NaN</td>\n",
       "      <td>...</td>\n",
       "      <td>NaN</td>\n",
       "      <td>NaN</td>\n",
       "      <td>NaN</td>\n",
       "      <td>NaN</td>\n",
       "      <td>NaN</td>\n",
       "      <td>NaN</td>\n",
       "      <td>NaN</td>\n",
       "      <td>NaN</td>\n",
       "      <td>NaN</td>\n",
       "      <td>8000.000000</td>\n",
       "    </tr>\n",
       "    <tr>\n",
       "      <th>1222</th>\n",
       "      <td>32.0</td>\n",
       "      <td>1.0</td>\n",
       "      <td>0.0</td>\n",
       "      <td>0.0</td>\n",
       "      <td>The Iron Yard</td>\n",
       "      <td>1.0</td>\n",
       "      <td>NaN</td>\n",
       "      <td>between 100,000 and 1 million</td>\n",
       "      <td>NaN</td>\n",
       "      <td>NaN</td>\n",
       "      <td>...</td>\n",
       "      <td>NaN</td>\n",
       "      <td>NaN</td>\n",
       "      <td>1.0</td>\n",
       "      <td>NaN</td>\n",
       "      <td>NaN</td>\n",
       "      <td>NaN</td>\n",
       "      <td>NaN</td>\n",
       "      <td>NaN</td>\n",
       "      <td>NaN</td>\n",
       "      <td>6500.000000</td>\n",
       "    </tr>\n",
       "    <tr>\n",
       "      <th>3184</th>\n",
       "      <td>34.0</td>\n",
       "      <td>1.0</td>\n",
       "      <td>1.0</td>\n",
       "      <td>0.0</td>\n",
       "      <td>We Can Code IT</td>\n",
       "      <td>1.0</td>\n",
       "      <td>NaN</td>\n",
       "      <td>more than 1 million</td>\n",
       "      <td>NaN</td>\n",
       "      <td>NaN</td>\n",
       "      <td>...</td>\n",
       "      <td>NaN</td>\n",
       "      <td>NaN</td>\n",
       "      <td>NaN</td>\n",
       "      <td>NaN</td>\n",
       "      <td>NaN</td>\n",
       "      <td>NaN</td>\n",
       "      <td>NaN</td>\n",
       "      <td>NaN</td>\n",
       "      <td>NaN</td>\n",
       "      <td>9000.000000</td>\n",
       "    </tr>\n",
       "    <tr>\n",
       "      <th>3930</th>\n",
       "      <td>31.0</td>\n",
       "      <td>0.0</td>\n",
       "      <td>NaN</td>\n",
       "      <td>NaN</td>\n",
       "      <td>NaN</td>\n",
       "      <td>NaN</td>\n",
       "      <td>NaN</td>\n",
       "      <td>between 100,000 and 1 million</td>\n",
       "      <td>NaN</td>\n",
       "      <td>NaN</td>\n",
       "      <td>...</td>\n",
       "      <td>1.0</td>\n",
       "      <td>1.0</td>\n",
       "      <td>1.0</td>\n",
       "      <td>1.0</td>\n",
       "      <td>1.0</td>\n",
       "      <td>NaN</td>\n",
       "      <td>various conf presentations</td>\n",
       "      <td>NaN</td>\n",
       "      <td>NaN</td>\n",
       "      <td>10833.333333</td>\n",
       "    </tr>\n",
       "    <tr>\n",
       "      <th>6805</th>\n",
       "      <td>46.0</td>\n",
       "      <td>1.0</td>\n",
       "      <td>1.0</td>\n",
       "      <td>1.0</td>\n",
       "      <td>Sabio.la</td>\n",
       "      <td>0.0</td>\n",
       "      <td>NaN</td>\n",
       "      <td>between 100,000 and 1 million</td>\n",
       "      <td>NaN</td>\n",
       "      <td>NaN</td>\n",
       "      <td>...</td>\n",
       "      <td>NaN</td>\n",
       "      <td>NaN</td>\n",
       "      <td>NaN</td>\n",
       "      <td>NaN</td>\n",
       "      <td>NaN</td>\n",
       "      <td>NaN</td>\n",
       "      <td>NaN</td>\n",
       "      <td>NaN</td>\n",
       "      <td>NaN</td>\n",
       "      <td>15000.000000</td>\n",
       "    </tr>\n",
       "    <tr>\n",
       "      <th>7198</th>\n",
       "      <td>32.0</td>\n",
       "      <td>0.0</td>\n",
       "      <td>NaN</td>\n",
       "      <td>NaN</td>\n",
       "      <td>NaN</td>\n",
       "      <td>NaN</td>\n",
       "      <td>NaN</td>\n",
       "      <td>more than 1 million</td>\n",
       "      <td>1.0</td>\n",
       "      <td>NaN</td>\n",
       "      <td>...</td>\n",
       "      <td>NaN</td>\n",
       "      <td>1.0</td>\n",
       "      <td>1.0</td>\n",
       "      <td>1.0</td>\n",
       "      <td>NaN</td>\n",
       "      <td>NaN</td>\n",
       "      <td>NaN</td>\n",
       "      <td>NaN</td>\n",
       "      <td>NaN</td>\n",
       "      <td>14000.000000</td>\n",
       "    </tr>\n",
       "    <tr>\n",
       "      <th>7505</th>\n",
       "      <td>26.0</td>\n",
       "      <td>1.0</td>\n",
       "      <td>0.0</td>\n",
       "      <td>1.0</td>\n",
       "      <td>Codeup</td>\n",
       "      <td>0.0</td>\n",
       "      <td>NaN</td>\n",
       "      <td>more than 1 million</td>\n",
       "      <td>NaN</td>\n",
       "      <td>NaN</td>\n",
       "      <td>...</td>\n",
       "      <td>NaN</td>\n",
       "      <td>NaN</td>\n",
       "      <td>NaN</td>\n",
       "      <td>NaN</td>\n",
       "      <td>1.0</td>\n",
       "      <td>NaN</td>\n",
       "      <td>NaN</td>\n",
       "      <td>NaN</td>\n",
       "      <td>NaN</td>\n",
       "      <td>6666.666667</td>\n",
       "    </tr>\n",
       "    <tr>\n",
       "      <th>9778</th>\n",
       "      <td>33.0</td>\n",
       "      <td>1.0</td>\n",
       "      <td>0.0</td>\n",
       "      <td>1.0</td>\n",
       "      <td>Grand Circus</td>\n",
       "      <td>1.0</td>\n",
       "      <td>NaN</td>\n",
       "      <td>between 100,000 and 1 million</td>\n",
       "      <td>NaN</td>\n",
       "      <td>NaN</td>\n",
       "      <td>...</td>\n",
       "      <td>NaN</td>\n",
       "      <td>NaN</td>\n",
       "      <td>NaN</td>\n",
       "      <td>NaN</td>\n",
       "      <td>NaN</td>\n",
       "      <td>NaN</td>\n",
       "      <td>NaN</td>\n",
       "      <td>NaN</td>\n",
       "      <td>NaN</td>\n",
       "      <td>8000.000000</td>\n",
       "    </tr>\n",
       "    <tr>\n",
       "      <th>16650</th>\n",
       "      <td>29.0</td>\n",
       "      <td>0.0</td>\n",
       "      <td>NaN</td>\n",
       "      <td>NaN</td>\n",
       "      <td>NaN</td>\n",
       "      <td>NaN</td>\n",
       "      <td>2.0</td>\n",
       "      <td>more than 1 million</td>\n",
       "      <td>NaN</td>\n",
       "      <td>NaN</td>\n",
       "      <td>...</td>\n",
       "      <td>NaN</td>\n",
       "      <td>NaN</td>\n",
       "      <td>NaN</td>\n",
       "      <td>NaN</td>\n",
       "      <td>NaN</td>\n",
       "      <td>NaN</td>\n",
       "      <td>NaN</td>\n",
       "      <td>NaN</td>\n",
       "      <td>1.0</td>\n",
       "      <td>16666.666667</td>\n",
       "    </tr>\n",
       "    <tr>\n",
       "      <th>16997</th>\n",
       "      <td>27.0</td>\n",
       "      <td>0.0</td>\n",
       "      <td>NaN</td>\n",
       "      <td>NaN</td>\n",
       "      <td>NaN</td>\n",
       "      <td>NaN</td>\n",
       "      <td>1.0</td>\n",
       "      <td>more than 1 million</td>\n",
       "      <td>NaN</td>\n",
       "      <td>NaN</td>\n",
       "      <td>...</td>\n",
       "      <td>NaN</td>\n",
       "      <td>NaN</td>\n",
       "      <td>NaN</td>\n",
       "      <td>NaN</td>\n",
       "      <td>NaN</td>\n",
       "      <td>NaN</td>\n",
       "      <td>NaN</td>\n",
       "      <td>NaN</td>\n",
       "      <td>NaN</td>\n",
       "      <td>12500.000000</td>\n",
       "    </tr>\n",
       "    <tr>\n",
       "      <th>17231</th>\n",
       "      <td>50.0</td>\n",
       "      <td>0.0</td>\n",
       "      <td>NaN</td>\n",
       "      <td>NaN</td>\n",
       "      <td>NaN</td>\n",
       "      <td>NaN</td>\n",
       "      <td>2.0</td>\n",
       "      <td>less than 100,000</td>\n",
       "      <td>NaN</td>\n",
       "      <td>NaN</td>\n",
       "      <td>...</td>\n",
       "      <td>NaN</td>\n",
       "      <td>NaN</td>\n",
       "      <td>NaN</td>\n",
       "      <td>NaN</td>\n",
       "      <td>NaN</td>\n",
       "      <td>NaN</td>\n",
       "      <td>NaN</td>\n",
       "      <td>NaN</td>\n",
       "      <td>NaN</td>\n",
       "      <td>15000.000000</td>\n",
       "    </tr>\n",
       "  </tbody>\n",
       "</table>\n",
       "<p>11 rows × 137 columns</p>\n",
       "</div>"
      ],
      "text/plain": [
       "        Age  AttendedBootcamp  BootcampFinish  BootcampLoanYesNo  \\\n",
       "718    26.0               1.0             0.0                0.0   \n",
       "1222   32.0               1.0             0.0                0.0   \n",
       "3184   34.0               1.0             1.0                0.0   \n",
       "3930   31.0               0.0             NaN                NaN   \n",
       "6805   46.0               1.0             1.0                1.0   \n",
       "7198   32.0               0.0             NaN                NaN   \n",
       "7505   26.0               1.0             0.0                1.0   \n",
       "9778   33.0               1.0             0.0                1.0   \n",
       "16650  29.0               0.0             NaN                NaN   \n",
       "16997  27.0               0.0             NaN                NaN   \n",
       "17231  50.0               0.0             NaN                NaN   \n",
       "\n",
       "                                 BootcampName  BootcampRecommend  \\\n",
       "718    The Coding Boot Camp at UCLA Extension                1.0   \n",
       "1222                            The Iron Yard                1.0   \n",
       "3184                           We Can Code IT                1.0   \n",
       "3930                                      NaN                NaN   \n",
       "6805                                 Sabio.la                0.0   \n",
       "7198                                      NaN                NaN   \n",
       "7505                                   Codeup                0.0   \n",
       "9778                             Grand Circus                1.0   \n",
       "16650                                     NaN                NaN   \n",
       "16997                                     NaN                NaN   \n",
       "17231                                     NaN                NaN   \n",
       "\n",
       "       ChildrenNumber                 CityPopulation  CodeEventConferences  \\\n",
       "718               NaN            more than 1 million                   1.0   \n",
       "1222              NaN  between 100,000 and 1 million                   NaN   \n",
       "3184              NaN            more than 1 million                   NaN   \n",
       "3930              NaN  between 100,000 and 1 million                   NaN   \n",
       "6805              NaN  between 100,000 and 1 million                   NaN   \n",
       "7198              NaN            more than 1 million                   1.0   \n",
       "7505              NaN            more than 1 million                   NaN   \n",
       "9778              NaN  between 100,000 and 1 million                   NaN   \n",
       "16650             2.0            more than 1 million                   NaN   \n",
       "16997             1.0            more than 1 million                   NaN   \n",
       "17231             2.0              less than 100,000                   NaN   \n",
       "\n",
       "       CodeEventDjangoGirls  ...  YouTubeFunFunFunction  YouTubeGoogleDev  \\\n",
       "718                     NaN  ...                    NaN               NaN   \n",
       "1222                    NaN  ...                    NaN               NaN   \n",
       "3184                    NaN  ...                    NaN               NaN   \n",
       "3930                    NaN  ...                    1.0               1.0   \n",
       "6805                    NaN  ...                    NaN               NaN   \n",
       "7198                    NaN  ...                    NaN               1.0   \n",
       "7505                    NaN  ...                    NaN               NaN   \n",
       "9778                    NaN  ...                    NaN               NaN   \n",
       "16650                   NaN  ...                    NaN               NaN   \n",
       "16997                   NaN  ...                    NaN               NaN   \n",
       "17231                   NaN  ...                    NaN               NaN   \n",
       "\n",
       "       YouTubeLearnCode  YouTubeLevelUpTuts  YouTubeMIT  YouTubeMozillaHacks  \\\n",
       "718                 NaN                 NaN         NaN                  NaN   \n",
       "1222                1.0                 NaN         NaN                  NaN   \n",
       "3184                NaN                 NaN         NaN                  NaN   \n",
       "3930                1.0                 1.0         1.0                  NaN   \n",
       "6805                NaN                 NaN         NaN                  NaN   \n",
       "7198                1.0                 1.0         NaN                  NaN   \n",
       "7505                NaN                 NaN         1.0                  NaN   \n",
       "9778                NaN                 NaN         NaN                  NaN   \n",
       "16650               NaN                 NaN         NaN                  NaN   \n",
       "16997               NaN                 NaN         NaN                  NaN   \n",
       "17231               NaN                 NaN         NaN                  NaN   \n",
       "\n",
       "                     YouTubeOther YouTubeSimplilearn  YouTubeTheNewBoston  \\\n",
       "718                           NaN                NaN                  NaN   \n",
       "1222                          NaN                NaN                  NaN   \n",
       "3184                          NaN                NaN                  NaN   \n",
       "3930   various conf presentations                NaN                  NaN   \n",
       "6805                          NaN                NaN                  NaN   \n",
       "7198                          NaN                NaN                  NaN   \n",
       "7505                          NaN                NaN                  NaN   \n",
       "9778                          NaN                NaN                  NaN   \n",
       "16650                         NaN                NaN                  1.0   \n",
       "16997                         NaN                NaN                  NaN   \n",
       "17231                         NaN                NaN                  NaN   \n",
       "\n",
       "       MoneyPerMonth  \n",
       "718      8000.000000  \n",
       "1222     6500.000000  \n",
       "3184     9000.000000  \n",
       "3930    10833.333333  \n",
       "6805    15000.000000  \n",
       "7198    14000.000000  \n",
       "7505     6666.666667  \n",
       "9778     8000.000000  \n",
       "16650   16666.666667  \n",
       "16997   12500.000000  \n",
       "17231   15000.000000  \n",
       "\n",
       "[11 rows x 137 columns]"
      ]
     },
     "execution_count": 49,
     "metadata": {},
     "output_type": "execute_result"
    }
   ],
   "source": [
    "us_outliers=four_countries[(four_countries['CountryLive']=='United States of America')\n",
    "                          &\n",
    "                          (four_countries['MoneyPerMonth']>6000)]\n",
    "us_outliers"
   ]
  },
  {
   "cell_type": "markdown",
   "metadata": {},
   "source": [
    "Out of these 11 extreme outliers, six people attended bootcamps, which justify the large sums of money spent on learning. For the other five, it's hard to figure out from the data where they could have spent that much money on learning. Consequently, we'll remove those rows where participants reported thay they spend $6000 each month, but they have never attended a bootcamp.\n",
    "\n",
    "Also, the data shows that eight respondents had been programming for no more than three months when they completed the survey. They most likely paid a large sum of money for a bootcamp that was going to last for several months, so the amount of money spent per month is unrealistic and should be significantly lower (because they probably didn't spend anything for the next couple of months after the survey). As a consequence, we'll remove every these eight outliers.\n",
    "\n",
    "In the next code block, we'll remove respondents that:\n",
    "\n",
    "* Didn't attend bootcamps.\n",
    "* Had been programming for three months or less when at the time they completed the survey."
   ]
  },
  {
   "cell_type": "code",
   "execution_count": 50,
   "metadata": {},
   "outputs": [],
   "source": [
    "# Remove the participants who didn't attend a bootcamp at all\n",
    "no_bootcamp_us=four_countries[(four_countries['CountryLive']=='United States of America')\n",
    "                               &\n",
    "                               (four_countries['MoneyPerMonth']>=6000)\n",
    "                               &\n",
    "                               (four_countries['AttendedBootcamp']==0)]\n",
    "four_countries=four_countries.drop(no_bootcamp_us.index)\n",
    "\n",
    "# Remove the participants who had been programming less than 3 months at the time\n",
    "less_than_3mon=four_countries[(four_countries['CountryLive']=='United States of America')\n",
    "                             &\n",
    "                             (four_countries['MoneyPerMonth']>=6000)\n",
    "                             &\n",
    "                              (four_countries['MonthsProgramming']<=3)]\n",
    "four_countries=four_countries.drop(less_than_3mon.index)\n",
    "                               "
   ]
  },
  {
   "cell_type": "code",
   "execution_count": 51,
   "metadata": {},
   "outputs": [
    {
     "data": {
      "text/html": [
       "<div>\n",
       "<style scoped>\n",
       "    .dataframe tbody tr th:only-of-type {\n",
       "        vertical-align: middle;\n",
       "    }\n",
       "\n",
       "    .dataframe tbody tr th {\n",
       "        vertical-align: top;\n",
       "    }\n",
       "\n",
       "    .dataframe thead th {\n",
       "        text-align: right;\n",
       "    }\n",
       "</style>\n",
       "<table border=\"1\" class=\"dataframe\">\n",
       "  <thead>\n",
       "    <tr style=\"text-align: right;\">\n",
       "      <th></th>\n",
       "      <th>Age</th>\n",
       "      <th>AttendedBootcamp</th>\n",
       "      <th>BootcampFinish</th>\n",
       "      <th>BootcampLoanYesNo</th>\n",
       "      <th>BootcampName</th>\n",
       "      <th>BootcampRecommend</th>\n",
       "      <th>ChildrenNumber</th>\n",
       "      <th>CityPopulation</th>\n",
       "      <th>CodeEventConferences</th>\n",
       "      <th>CodeEventDjangoGirls</th>\n",
       "      <th>...</th>\n",
       "      <th>YouTubeFunFunFunction</th>\n",
       "      <th>YouTubeGoogleDev</th>\n",
       "      <th>YouTubeLearnCode</th>\n",
       "      <th>YouTubeLevelUpTuts</th>\n",
       "      <th>YouTubeMIT</th>\n",
       "      <th>YouTubeMozillaHacks</th>\n",
       "      <th>YouTubeOther</th>\n",
       "      <th>YouTubeSimplilearn</th>\n",
       "      <th>YouTubeTheNewBoston</th>\n",
       "      <th>MoneyPerMonth</th>\n",
       "    </tr>\n",
       "  </thead>\n",
       "  <tbody>\n",
       "    <tr>\n",
       "      <th>13659</th>\n",
       "      <td>24.0</td>\n",
       "      <td>1.0</td>\n",
       "      <td>0.0</td>\n",
       "      <td>0.0</td>\n",
       "      <td>Bloc.io</td>\n",
       "      <td>1.0</td>\n",
       "      <td>NaN</td>\n",
       "      <td>more than 1 million</td>\n",
       "      <td>1.0</td>\n",
       "      <td>NaN</td>\n",
       "      <td>...</td>\n",
       "      <td>NaN</td>\n",
       "      <td>NaN</td>\n",
       "      <td>NaN</td>\n",
       "      <td>NaN</td>\n",
       "      <td>1.0</td>\n",
       "      <td>NaN</td>\n",
       "      <td>NaN</td>\n",
       "      <td>NaN</td>\n",
       "      <td>NaN</td>\n",
       "      <td>5000.0</td>\n",
       "    </tr>\n",
       "  </tbody>\n",
       "</table>\n",
       "<p>1 rows × 137 columns</p>\n",
       "</div>"
      ],
      "text/plain": [
       "        Age  AttendedBootcamp  BootcampFinish  BootcampLoanYesNo BootcampName  \\\n",
       "13659  24.0               1.0             0.0                0.0      Bloc.io   \n",
       "\n",
       "       BootcampRecommend  ChildrenNumber       CityPopulation  \\\n",
       "13659                1.0             NaN  more than 1 million   \n",
       "\n",
       "       CodeEventConferences  CodeEventDjangoGirls  ...  YouTubeFunFunFunction  \\\n",
       "13659                   1.0                   NaN  ...                    NaN   \n",
       "\n",
       "       YouTubeGoogleDev  YouTubeLearnCode  YouTubeLevelUpTuts  YouTubeMIT  \\\n",
       "13659               NaN               NaN                 NaN         1.0   \n",
       "\n",
       "       YouTubeMozillaHacks  YouTubeOther YouTubeSimplilearn  \\\n",
       "13659                  NaN           NaN                NaN   \n",
       "\n",
       "       YouTubeTheNewBoston  MoneyPerMonth  \n",
       "13659                  NaN         5000.0  \n",
       "\n",
       "[1 rows x 137 columns]"
      ]
     },
     "execution_count": 51,
     "metadata": {},
     "output_type": "execute_result"
    }
   ],
   "source": [
    "canada_outliers=four_countries[(four_countries['CountryLive']=='Canada')\n",
    "                              &\n",
    "                              (four_countries['MoneyPerMonth']>4500)]\n",
    "canada_outliers"
   ]
  },
  {
   "cell_type": "markdown",
   "metadata": {},
   "source": [
    "The situation is similar to the US dataset, let's take the same approach"
   ]
  },
  {
   "cell_type": "code",
   "execution_count": 52,
   "metadata": {},
   "outputs": [],
   "source": [
    "# Remove the outliers for Canada\n",
    "four_countries=four_countries.drop(canada_outliers.index)"
   ]
  },
  {
   "cell_type": "code",
   "execution_count": 53,
   "metadata": {},
   "outputs": [
    {
     "data": {
      "text/plain": [
       "CountryLive\n",
       "Canada                       93.065400\n",
       "India                        65.758763\n",
       "United Kingdom               45.534443\n",
       "United States of America    142.654608\n",
       "Name: MoneyPerMonth, dtype: float64"
      ]
     },
     "execution_count": 53,
     "metadata": {},
     "output_type": "execute_result"
    }
   ],
   "source": [
    "four_countries.groupby('CountryLive').mean()['MoneyPerMonth']"
   ]
  },
  {
   "cell_type": "code",
   "execution_count": 54,
   "metadata": {},
   "outputs": [
    {
     "data": {
      "image/png": "[encoded data removed]",
      "text/plain": [
       "<Figure size 432x288 with 1 Axes>"
      ]
     },
     "metadata": {},
     "output_type": "display_data"
    }
   ],
   "source": [
    "sns.boxplot(x='CountryLive',y='MoneyPerMonth',data=four_countries)\n",
    "plt.title('Money Per Month Per Country\\n(Distributions)',fontsize=16)\n",
    "plt.xlabel('Country')\n",
    "plt.ylabel('Money Per Month\\n(US dollars)')\n",
    "plt.xticks(range(4), ['US','UK','Inida','Canada'])\n",
    "plt.show()"
   ]
  },
  {
   "cell_type": "markdown",
   "metadata": {},
   "source": [
    "## Choosing the Two Best Markets\n",
    "Obviously, one country we should advertise in is the US. Lots of new coders live there and they are willing to pay a good amount of money each month (roughly 143).\n",
    "\n",
    "We sell subscriptions at a price of 59 per month, and Canada seems to be the best second choice because people there are willing to pay roughly 93 per month, compared to India (66) and the United Kingdom (45).\n",
    "\n",
    "The data suggests strongly that we shouldn't advertise in the UK, but let's take a second look at India before deciding to choose Canada as our second best choice:\n",
    "\n",
    "* 59 doesn't seem like an expensive sum for people in India since they spend on average 66 each month.\n",
    "* We have almost twice as more potential customers in India than we have in Canada:"
   ]
  },
  {
   "cell_type": "code",
   "execution_count": 55,
   "metadata": {},
   "outputs": [
    {
     "data": {
      "text/plain": [
       "United States of America    74.967908\n",
       "India                       11.732991\n",
       "United Kingdom               7.163030\n",
       "Canada                       6.136072\n",
       "Name: CountryLive, dtype: float64"
      ]
     },
     "execution_count": 55,
     "metadata": {},
     "output_type": "execute_result"
    }
   ],
   "source": [
    "four_countries['CountryLive'].value_counts(normalize=True).mul(100)"
   ]
  },
  {
   "cell_type": "markdown",
   "metadata": {},
   "source": [
    "So it's not crystal clear what to choose between Canada and India. Although it seems more tempting to choose Canada, there are good chances that India might actually be a better choice because of the large number of potential customers.\n",
    "\n",
    "At this point, it seems that we have several options:\n",
    "\n",
    "1. Advertise in the US, India, and Canada by splitting the advertisement budget in various combinations:\n",
    "\n",
    "  * 60% for the US, 25% for India, 15% for Canada.\n",
    "  * 50% for the US, 30% for India, 20% for Canada; etc.\n",
    "2. Advertise only in the US and India, or the US and Canada. Again, it makes sense to split the advertisement budget unequally. For instance:\n",
    "\n",
    "  * 70% for the US, and 30% for India.\n",
    "  * 65% for the US, and 35% for Canada; etc.\n",
    "3. Advertise only in the US.\n",
    "\n",
    "At this point, it's probably best to send our analysis to the marketing team and let them use their domain knowledge to decide. They might want to do some extra surveys in India and Canada and then get back to us for analyzing the new survey data."
   ]
  },
  {
   "cell_type": "markdown",
   "metadata": {},
   "source": [
    "## Conclusion\n",
    "In this project, we analyzed survey data from new coders to find the best two markets to advertise in. The only solid conclusion we reached is that the US would be a good market to advertise in.\n",
    "\n",
    "For the second best market, it wasn't clear-cut what to choose between India and Canada. We decided to send the results to the marketing team so they can use their domain knowledge to take the best decision."
   ]
  },
  {
   "cell_type": "code",
   "execution_count": null,
   "metadata": {},
   "outputs": [],
   "source": []
  }
 ],
 "metadata": {
  "kernelspec": {
   "display_name": "Python 3 (ipykernel)",
   "language": "python",
   "name": "python3"
  },
  "language_info": {
   "codemirror_mode": {
    "name": "ipython",
    "version": 3
   },
   "file_extension": ".py",
   "mimetype": "text/x-python",
   "name": "python",
   "nbconvert_exporter": "python",
   "pygments_lexer": "ipython3",
   "version": "3.9.7"
  }
 },
 "nbformat": 4,
 "nbformat_minor": 2
}
