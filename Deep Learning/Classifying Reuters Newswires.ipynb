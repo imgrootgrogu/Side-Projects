{
  "nbformat": 4,
  "nbformat_minor": 0,
  "metadata": {
    "colab": {
      "provenance": []
    },
    "kernelspec": {
      "name": "python3",
      "display_name": "Python 3"
    },
    "language_info": {
      "name": "python"
    }
  },
  "cells": [
    {
      "cell_type": "code",
      "execution_count": null,
      "metadata": {
        "colab": {
          "base_uri": "https://localhost:8080/"
        },
        "id": "DaafzX8t5kZ-",
        "outputId": "aee800ac-b674-4baf-a4a7-69584812f23e"
      },
      "outputs": [
        {
          "output_type": "stream",
          "name": "stdout",
          "text": [
            "Downloading data from https://storage.googleapis.com/tensorflow/tf-keras-datasets/reuters.npz\n",
            "2110848/2110848 [==============================] - 1s 0us/step\n"
          ]
        }
      ],
      "source": [
        "from tensorflow.keras.datasets import reuters\n",
        "(train_data,train_labels),(test_data,test_labels) =  reuters.load_data(num_words=10000)"
      ]
    },
    {
      "cell_type": "code",
      "source": [
        "len(train_data)"
      ],
      "metadata": {
        "colab": {
          "base_uri": "https://localhost:8080/"
        },
        "id": "CA6m9lnK6tWu",
        "outputId": "be381c1e-a1d8-489b-f132-cd02d6cf0c34"
      },
      "execution_count": null,
      "outputs": [
        {
          "output_type": "execute_result",
          "data": {
            "text/plain": [
              "8982"
            ]
          },
          "metadata": {},
          "execution_count": 3
        }
      ]
    },
    {
      "cell_type": "code",
      "source": [
        "len(test_data)"
      ],
      "metadata": {
        "colab": {
          "base_uri": "https://localhost:8080/"
        },
        "id": "gjWMG31W67FB",
        "outputId": "98479740-d598-495e-b1b2-3ae421841526"
      },
      "execution_count": null,
      "outputs": [
        {
          "output_type": "execute_result",
          "data": {
            "text/plain": [
              "2246"
            ]
          },
          "metadata": {},
          "execution_count": 4
        }
      ]
    },
    {
      "cell_type": "code",
      "source": [
        "#decode the data back to words\n",
        "word_index = reuters.get_word_index()\n",
        "reverse_word_indext = dict(\n",
        "    [(value, key) for (key,value) in word_index.items()]\n",
        ")\n",
        "decoded_newswire = \" \".join(\n",
        "    [reverse_word_indext.get(i-3,\"?\") for i in train_data[0]]\n",
        ")"
      ],
      "metadata": {
        "colab": {
          "base_uri": "https://localhost:8080/"
        },
        "id": "wSc2bJ3669M-",
        "outputId": "126ed765-826e-4854-d002-8db174cf237b"
      },
      "execution_count": null,
      "outputs": [
        {
          "output_type": "stream",
          "name": "stdout",
          "text": [
            "Downloading data from https://storage.googleapis.com/tensorflow/tf-keras-datasets/reuters_word_index.json\n",
            "550378/550378 [==============================] - 0s 1us/step\n"
          ]
        }
      ]
    },
    {
      "cell_type": "code",
      "source": [
        "train_data[0]"
      ],
      "metadata": {
        "colab": {
          "base_uri": "https://localhost:8080/"
        },
        "id": "gxl9cbEK778B",
        "outputId": "415eb618-b6e1-4a9e-d795-9a11cb3f2d7d"
      },
      "execution_count": null,
      "outputs": [
        {
          "output_type": "execute_result",
          "data": {
            "text/plain": [
              "[1,\n",
              " 2,\n",
              " 2,\n",
              " 8,\n",
              " 43,\n",
              " 10,\n",
              " 447,\n",
              " 5,\n",
              " 25,\n",
              " 207,\n",
              " 270,\n",
              " 5,\n",
              " 3095,\n",
              " 111,\n",
              " 16,\n",
              " 369,\n",
              " 186,\n",
              " 90,\n",
              " 67,\n",
              " 7,\n",
              " 89,\n",
              " 5,\n",
              " 19,\n",
              " 102,\n",
              " 6,\n",
              " 19,\n",
              " 124,\n",
              " 15,\n",
              " 90,\n",
              " 67,\n",
              " 84,\n",
              " 22,\n",
              " 482,\n",
              " 26,\n",
              " 7,\n",
              " 48,\n",
              " 4,\n",
              " 49,\n",
              " 8,\n",
              " 864,\n",
              " 39,\n",
              " 209,\n",
              " 154,\n",
              " 6,\n",
              " 151,\n",
              " 6,\n",
              " 83,\n",
              " 11,\n",
              " 15,\n",
              " 22,\n",
              " 155,\n",
              " 11,\n",
              " 15,\n",
              " 7,\n",
              " 48,\n",
              " 9,\n",
              " 4579,\n",
              " 1005,\n",
              " 504,\n",
              " 6,\n",
              " 258,\n",
              " 6,\n",
              " 272,\n",
              " 11,\n",
              " 15,\n",
              " 22,\n",
              " 134,\n",
              " 44,\n",
              " 11,\n",
              " 15,\n",
              " 16,\n",
              " 8,\n",
              " 197,\n",
              " 1245,\n",
              " 90,\n",
              " 67,\n",
              " 52,\n",
              " 29,\n",
              " 209,\n",
              " 30,\n",
              " 32,\n",
              " 132,\n",
              " 6,\n",
              " 109,\n",
              " 15,\n",
              " 17,\n",
              " 12]"
            ]
          },
          "metadata": {},
          "execution_count": 6
        }
      ]
    },
    {
      "cell_type": "code",
      "source": [
        "train_labels[10]"
      ],
      "metadata": {
        "colab": {
          "base_uri": "https://localhost:8080/"
        },
        "id": "SC19PaOZ8F_-",
        "outputId": "bcef9950-46ed-4f4e-b686-d680153039c9"
      },
      "execution_count": null,
      "outputs": [
        {
          "output_type": "execute_result",
          "data": {
            "text/plain": [
              "3"
            ]
          },
          "metadata": {},
          "execution_count": 7
        }
      ]
    },
    {
      "cell_type": "code",
      "source": [
        "import numpy as np\n",
        "def vectorize_sequences(sequences, dimension=10000):\n",
        "  results = np.zeros((len(sequences), dimension))\n",
        "  for i, sequence in enumerate(sequences):\n",
        "    for j in sequence:\n",
        "      results[i,j] = 1\n",
        "  return results\n",
        "\n",
        "x_train = vectorize_sequences(train_data)\n",
        "x_test = vectorize_sequences(test_data)"
      ],
      "metadata": {
        "id": "xSPCxiks8JqF"
      },
      "execution_count": null,
      "outputs": []
    },
    {
      "cell_type": "code",
      "source": [
        "def to_one_hot(labels, dimension=46):\n",
        "  results = np.zeros((len(labels), dimension))\n",
        "  for i, label in enumerate(labels):\n",
        "    results[i,label] = 1\n",
        "  return results\n",
        "y_train = to_one_hot(train_labels)\n",
        "y_test = to_one_hot(test_labels)"
      ],
      "metadata": {
        "id": "-HyypxVk8V2V"
      },
      "execution_count": null,
      "outputs": []
    },
    {
      "cell_type": "code",
      "source": [
        "from tensorflow.keras.utils import to_categorical\n",
        "y_train = to_categorical(train_labels)\n",
        "y_test = to_categorical(test_labels)"
      ],
      "metadata": {
        "id": "cTQfAn4x_q1O"
      },
      "execution_count": null,
      "outputs": []
    },
    {
      "cell_type": "code",
      "source": [
        "from tensorflow import keras\n",
        "from tensorflow.keras import layers\n",
        "model = keras.Sequential([\n",
        "    layers.Dense(64, activation=\"relu\"),\n",
        "    layers.Dense(64, activation=\"relu\"),\n",
        "    layers.Dense(46, activation=\"softmax\")]\n",
        ")"
      ],
      "metadata": {
        "id": "J_G2TfumBrqC"
      },
      "execution_count": null,
      "outputs": []
    },
    {
      "cell_type": "code",
      "source": [
        "model.compile(optimizer=\"rmsprop\",\n",
        "              loss=\"categorical_crossentropy\",\n",
        "              metrics=[\"accuracy\"])"
      ],
      "metadata": {
        "id": "GKcMt1shDf3W"
      },
      "execution_count": null,
      "outputs": []
    },
    {
      "cell_type": "code",
      "source": [
        "x_val = x_train[:1000]\n",
        "partial_x_val = x_train[1000:]\n",
        "y_val = y_train[:1000]\n",
        "partial_y_val = y_train[1000:]"
      ],
      "metadata": {
        "id": "JyjbJEG-EvpD"
      },
      "execution_count": null,
      "outputs": []
    },
    {
      "cell_type": "code",
      "source": [
        "history = model.fit(partial_x_val, partial_y_val, epochs=20, batch_size=512, validation_data=(x_val, y_val))"
      ],
      "metadata": {
        "colab": {
          "base_uri": "https://localhost:8080/"
        },
        "id": "QxPrYDXPFIMO",
        "outputId": "7219eca4-5b04-4d98-ec6e-e197451e50e7"
      },
      "execution_count": null,
      "outputs": [
        {
          "output_type": "stream",
          "name": "stdout",
          "text": [
            "Epoch 1/20\n",
            "16/16 [==============================] - 2s 77ms/step - loss: 2.6861 - accuracy: 0.4806 - val_loss: 1.8046 - val_accuracy: 0.6220\n",
            "Epoch 2/20\n",
            "16/16 [==============================] - 1s 53ms/step - loss: 1.5357 - accuracy: 0.6763 - val_loss: 1.3555 - val_accuracy: 0.7010\n",
            "Epoch 3/20\n",
            "16/16 [==============================] - 1s 56ms/step - loss: 1.1710 - accuracy: 0.7424 - val_loss: 1.1706 - val_accuracy: 0.7390\n",
            "Epoch 4/20\n",
            "16/16 [==============================] - 1s 52ms/step - loss: 0.9545 - accuracy: 0.7930 - val_loss: 1.0746 - val_accuracy: 0.7650\n",
            "Epoch 5/20\n",
            "16/16 [==============================] - 1s 53ms/step - loss: 0.7914 - accuracy: 0.8339 - val_loss: 1.0105 - val_accuracy: 0.7810\n",
            "Epoch 6/20\n",
            "16/16 [==============================] - 1s 53ms/step - loss: 0.6594 - accuracy: 0.8621 - val_loss: 0.9819 - val_accuracy: 0.7870\n",
            "Epoch 7/20\n",
            "16/16 [==============================] - 1s 51ms/step - loss: 0.5550 - accuracy: 0.8860 - val_loss: 0.9279 - val_accuracy: 0.7970\n",
            "Epoch 8/20\n",
            "16/16 [==============================] - 1s 54ms/step - loss: 0.4644 - accuracy: 0.9019 - val_loss: 0.9022 - val_accuracy: 0.8130\n",
            "Epoch 9/20\n",
            "16/16 [==============================] - 1s 52ms/step - loss: 0.3967 - accuracy: 0.9169 - val_loss: 0.8985 - val_accuracy: 0.8040\n",
            "Epoch 10/20\n",
            "16/16 [==============================] - 1s 51ms/step - loss: 0.3357 - accuracy: 0.9273 - val_loss: 0.8756 - val_accuracy: 0.8220\n",
            "Epoch 11/20\n",
            "16/16 [==============================] - 1s 56ms/step - loss: 0.2927 - accuracy: 0.9350 - val_loss: 0.8597 - val_accuracy: 0.8270\n",
            "Epoch 12/20\n",
            "16/16 [==============================] - 1s 93ms/step - loss: 0.2564 - accuracy: 0.9396 - val_loss: 0.8610 - val_accuracy: 0.8260\n",
            "Epoch 13/20\n",
            "16/16 [==============================] - 1s 93ms/step - loss: 0.2296 - accuracy: 0.9461 - val_loss: 0.8610 - val_accuracy: 0.8180\n",
            "Epoch 14/20\n",
            "16/16 [==============================] - 1s 52ms/step - loss: 0.2067 - accuracy: 0.9513 - val_loss: 0.8764 - val_accuracy: 0.8210\n",
            "Epoch 15/20\n",
            "16/16 [==============================] - 1s 52ms/step - loss: 0.1846 - accuracy: 0.9534 - val_loss: 0.9062 - val_accuracy: 0.8160\n",
            "Epoch 16/20\n",
            "16/16 [==============================] - 1s 51ms/step - loss: 0.1735 - accuracy: 0.9541 - val_loss: 0.9079 - val_accuracy: 0.8180\n",
            "Epoch 17/20\n",
            "16/16 [==============================] - 1s 50ms/step - loss: 0.1618 - accuracy: 0.9551 - val_loss: 0.9080 - val_accuracy: 0.8200\n",
            "Epoch 18/20\n",
            "16/16 [==============================] - 1s 52ms/step - loss: 0.1504 - accuracy: 0.9548 - val_loss: 0.9062 - val_accuracy: 0.8120\n",
            "Epoch 19/20\n",
            "16/16 [==============================] - 1s 52ms/step - loss: 0.1422 - accuracy: 0.9558 - val_loss: 0.9403 - val_accuracy: 0.8080\n",
            "Epoch 20/20\n",
            "16/16 [==============================] - 1s 50ms/step - loss: 0.1401 - accuracy: 0.9563 - val_loss: 0.9084 - val_accuracy: 0.8190\n"
          ]
        }
      ]
    },
    {
      "cell_type": "code",
      "source": [
        "history_dict = history.history\n",
        "history_dict.keys()"
      ],
      "metadata": {
        "colab": {
          "base_uri": "https://localhost:8080/"
        },
        "id": "Zk2ZTScgFit_",
        "outputId": "e3aca794-2818-478e-b17c-d67929d67708"
      },
      "execution_count": null,
      "outputs": [
        {
          "output_type": "execute_result",
          "data": {
            "text/plain": [
              "dict_keys(['loss', 'accuracy', 'val_loss', 'val_accuracy'])"
            ]
          },
          "metadata": {},
          "execution_count": 15
        }
      ]
    },
    {
      "cell_type": "code",
      "source": [
        "import matplotlib.pyplot as plt\n",
        "loss = history_dict[\"loss\"]\n",
        "val_loss = history_dict[\"val_loss\"]\n",
        "epochs = range(1, len(loss)+1)\n",
        "plt.plot(epochs, loss, \"bo\", label=\"Training Loss\")\n",
        "plt.plot(epochs, val_loss, \"b\", label=\"Validation Loss\")\n",
        "plt.title(\"Training and Validation Loss\")\n",
        "plt.xlabel(\"Epochs\")\n",
        "plt.ylabel(\"Loss\")\n",
        "plt.legend()\n",
        "plt.show()"
      ],
      "metadata": {
        "colab": {
          "base_uri": "https://localhost:8080/",
          "height": 472
        },
        "id": "wGWTQw_XGalf",
        "outputId": "449189b2-7613-42b8-f095-33cd17f60a15"
      },
      "execution_count": null,
      "outputs": [
        {
          "output_type": "display_data",
          "data": {
            "text/plain": [
              "<Figure size 640x480 with 1 Axes>"
            ],
            "image/png": "[encoded data removed]"
          },
          "metadata": {}
        }
      ]
    },
    {
      "cell_type": "code",
      "source": [
        "acc = history_dict[\"accuracy\"]\n",
        "val_acc = history_dict[\"val_accuracy\"]\n",
        "plt.plot(epochs, acc, \"bo\", label=\"Training Accuracy\")\n",
        "plt.plot(epochs, val_acc, \"b\", label=\"Validation Accuracy\")\n",
        "plt.title(\"Training and Validation Accuracy\")\n",
        "plt.xlabel(\"Epochs\")\n",
        "plt.ylabel(\"Accuracy\")\n",
        "plt.legend()\n",
        "plt.show()"
      ],
      "metadata": {
        "colab": {
          "base_uri": "https://localhost:8080/",
          "height": 472
        },
        "id": "_mv8iPj7Hg-A",
        "outputId": "8d70fee6-db9e-41cb-eec9-3501cc001269"
      },
      "execution_count": null,
      "outputs": [
        {
          "output_type": "display_data",
          "data": {
            "text/plain": [
              "<Figure size 640x480 with 1 Axes>"
            ],
            "image/png": "[encoded data removed]"
          },
          "metadata": {}
        }
      ]
    },
    {
      "cell_type": "code",
      "source": [
        "model = keras.Sequential([\n",
        "    layers.Dense(64, activation=\"relu\"),\n",
        "    layers.Dense(64, activation=\"relu\"),\n",
        "    layers.Dense(46, activation=\"softmax\")\n",
        "])\n",
        "model.compile(optimizer=\"rmsprop\",\n",
        "              loss=\"categorical_crossentropy\",\n",
        "              metrics=[\"accuracy\"])\n"
      ],
      "metadata": {
        "id": "0332G_1MJOPv"
      },
      "execution_count": null,
      "outputs": []
    },
    {
      "cell_type": "code",
      "source": [
        "model.fit(x_train,\n",
        "          y_train,\n",
        "          epochs=9,\n",
        "          batch_size=512)\n",
        "results = model.evaluate(x_test, y_test)"
      ],
      "metadata": {
        "colab": {
          "base_uri": "https://localhost:8080/"
        },
        "id": "f-nrAfYXLxz8",
        "outputId": "9a1a3eff-577a-4c8f-a635-c23626bbc354"
      },
      "execution_count": null,
      "outputs": [
        {
          "output_type": "stream",
          "name": "stdout",
          "text": [
            "Epoch 1/9\n",
            "18/18 [==============================] - 1s 50ms/step - loss: 2.7857 - accuracy: 0.4913\n",
            "Epoch 2/9\n",
            "18/18 [==============================] - 1s 47ms/step - loss: 1.5533 - accuracy: 0.6661\n",
            "Epoch 3/9\n",
            "18/18 [==============================] - 1s 65ms/step - loss: 1.1843 - accuracy: 0.7370\n",
            "Epoch 4/9\n",
            "18/18 [==============================] - 2s 84ms/step - loss: 0.9602 - accuracy: 0.7915\n",
            "Epoch 5/9\n",
            "18/18 [==============================] - 1s 73ms/step - loss: 0.7913 - accuracy: 0.8292\n",
            "Epoch 6/9\n",
            "18/18 [==============================] - 1s 48ms/step - loss: 0.6606 - accuracy: 0.8539\n",
            "Epoch 7/9\n",
            "18/18 [==============================] - 1s 50ms/step - loss: 0.5519 - accuracy: 0.8811\n",
            "Epoch 8/9\n",
            "18/18 [==============================] - 1s 51ms/step - loss: 0.4686 - accuracy: 0.9011\n",
            "Epoch 9/9\n",
            "18/18 [==============================] - 1s 47ms/step - loss: 0.3955 - accuracy: 0.9167\n",
            "71/71 [==============================] - 0s 4ms/step - loss: 0.9715 - accuracy: 0.7774\n"
          ]
        }
      ]
    },
    {
      "cell_type": "code",
      "source": [
        "results"
      ],
      "metadata": {
        "colab": {
          "base_uri": "https://localhost:8080/"
        },
        "id": "aseIcD1iMGFU",
        "outputId": "62cee916-66e8-495a-9744-9f50555bd7fe"
      },
      "execution_count": null,
      "outputs": [
        {
          "output_type": "execute_result",
          "data": {
            "text/plain": [
              "[0.9715293645858765, 0.7773820161819458]"
            ]
          },
          "metadata": {},
          "execution_count": 20
        }
      ]
    },
    {
      "cell_type": "code",
      "source": [
        "#set baseline\n",
        "import copy\n",
        "test_labels_copy = copy.copy(test_labels)\n",
        "np.random.shuffle(test_labels_copy)\n",
        "hits_array = np.array(test_labels)==np.array(test_labels_copy)\n",
        "hits_array.mean()"
      ],
      "metadata": {
        "colab": {
          "base_uri": "https://localhost:8080/"
        },
        "id": "3boX2J4IMNgD",
        "outputId": "45a1fec4-5e27-4d96-936b-63b89a89c128"
      },
      "execution_count": null,
      "outputs": [
        {
          "output_type": "execute_result",
          "data": {
            "text/plain": [
              "0.19723953695458593"
            ]
          },
          "metadata": {},
          "execution_count": 21
        }
      ]
    },
    {
      "cell_type": "code",
      "source": [
        "hits_array"
      ],
      "metadata": {
        "colab": {
          "base_uri": "https://localhost:8080/"
        },
        "id": "sJSgx0hQOOPJ",
        "outputId": "70c7fb66-8951-450a-cda7-f9b274e95670"
      },
      "execution_count": null,
      "outputs": [
        {
          "output_type": "execute_result",
          "data": {
            "text/plain": [
              "array([ True, False, False, ...,  True, False, False])"
            ]
          },
          "metadata": {},
          "execution_count": 22
        }
      ]
    },
    {
      "cell_type": "code",
      "source": [
        "predictions = model.predict(x_test)\n"
      ],
      "metadata": {
        "colab": {
          "base_uri": "https://localhost:8080/"
        },
        "id": "1Nl35EvgOQHQ",
        "outputId": "e21d94d7-2f24-4d6c-e08e-201397ec5477"
      },
      "execution_count": null,
      "outputs": [
        {
          "output_type": "stream",
          "name": "stdout",
          "text": [
            "71/71 [==============================] - 0s 3ms/step\n"
          ]
        }
      ]
    },
    {
      "cell_type": "code",
      "source": [
        "np.argmax(predictions[0])"
      ],
      "metadata": {
        "colab": {
          "base_uri": "https://localhost:8080/"
        },
        "id": "MK0JDKzoOyT1",
        "outputId": "f43b808c-0c39-47a9-c063-1649c6bd9e49"
      },
      "execution_count": null,
      "outputs": [
        {
          "output_type": "execute_result",
          "data": {
            "text/plain": [
              "3"
            ]
          },
          "metadata": {},
          "execution_count": 24
        }
      ]
    },
    {
      "cell_type": "code",
      "source": [
        "#information bottlenect exaple\n",
        "model = keras.Sequential([\n",
        "    layers.Dense(64, activation=\"relu\"),\n",
        "    layers.Dense(4, activation=\"relu\"),\n",
        "    layers.Dense(46, activation=\"softmax\")\n",
        "])\n",
        "model.compile(optimizer=\"rmsprop\",\n",
        "              loss=\"categorical_crossentropy\",\n",
        "              metrics=[\"accuracy\"])\n",
        "model.fit(partial_x_val,\n",
        "           partial_y_val,\n",
        "           epochs=20,\n",
        "           batch_size=512,\n",
        "           validation_data=(x_val, y_val)\n",
        "           )\n"
      ],
      "metadata": {
        "id": "FQIuUM9LMQ6Y",
        "colab": {
          "base_uri": "https://localhost:8080/"
        },
        "outputId": "4d7b3918-92af-46c1-afa1-bda3e7ca2f89"
      },
      "execution_count": 26,
      "outputs": [
        {
          "output_type": "stream",
          "name": "stdout",
          "text": [
            "Epoch 1/20\n",
            "16/16 [==============================] - 2s 81ms/step - loss: 3.5226 - accuracy: 0.0608 - val_loss: 3.2782 - val_accuracy: 0.1190\n",
            "Epoch 2/20\n",
            "16/16 [==============================] - 1s 57ms/step - loss: 3.1203 - accuracy: 0.2251 - val_loss: 2.9494 - val_accuracy: 0.2530\n",
            "Epoch 3/20\n",
            "16/16 [==============================] - 1s 55ms/step - loss: 2.7927 - accuracy: 0.2528 - val_loss: 2.6729 - val_accuracy: 0.2660\n",
            "Epoch 4/20\n",
            "16/16 [==============================] - 1s 56ms/step - loss: 2.5219 - accuracy: 0.2655 - val_loss: 2.4395 - val_accuracy: 0.2630\n",
            "Epoch 5/20\n",
            "16/16 [==============================] - 1s 78ms/step - loss: 2.2825 - accuracy: 0.2742 - val_loss: 2.2129 - val_accuracy: 0.2740\n",
            "Epoch 6/20\n",
            "16/16 [==============================] - 2s 94ms/step - loss: 2.0400 - accuracy: 0.3483 - val_loss: 1.9935 - val_accuracy: 0.5680\n",
            "Epoch 7/20\n",
            "16/16 [==============================] - 1s 78ms/step - loss: 1.8210 - accuracy: 0.5966 - val_loss: 1.8158 - val_accuracy: 0.6080\n",
            "Epoch 8/20\n",
            "16/16 [==============================] - 1s 52ms/step - loss: 1.6591 - accuracy: 0.6285 - val_loss: 1.7076 - val_accuracy: 0.6300\n",
            "Epoch 9/20\n",
            "16/16 [==============================] - 1s 54ms/step - loss: 1.5454 - accuracy: 0.6438 - val_loss: 1.6297 - val_accuracy: 0.6430\n",
            "Epoch 10/20\n",
            "16/16 [==============================] - 1s 52ms/step - loss: 1.4625 - accuracy: 0.6630 - val_loss: 1.5784 - val_accuracy: 0.6560\n",
            "Epoch 11/20\n",
            "16/16 [==============================] - 1s 56ms/step - loss: 1.3965 - accuracy: 0.6755 - val_loss: 1.5359 - val_accuracy: 0.6620\n",
            "Epoch 12/20\n",
            "16/16 [==============================] - 1s 54ms/step - loss: 1.3025 - accuracy: 0.7007 - val_loss: 1.4719 - val_accuracy: 0.6820\n",
            "Epoch 13/20\n",
            "16/16 [==============================] - 1s 55ms/step - loss: 1.2166 - accuracy: 0.7170 - val_loss: 1.4198 - val_accuracy: 0.6840\n",
            "Epoch 14/20\n",
            "16/16 [==============================] - 1s 54ms/step - loss: 1.1491 - accuracy: 0.7249 - val_loss: 1.3904 - val_accuracy: 0.6860\n",
            "Epoch 15/20\n",
            "16/16 [==============================] - 1s 56ms/step - loss: 1.0949 - accuracy: 0.7301 - val_loss: 1.3490 - val_accuracy: 0.6930\n",
            "Epoch 16/20\n",
            "16/16 [==============================] - 1s 53ms/step - loss: 1.0470 - accuracy: 0.7354 - val_loss: 1.3325 - val_accuracy: 0.6910\n",
            "Epoch 17/20\n",
            "16/16 [==============================] - 1s 85ms/step - loss: 1.0085 - accuracy: 0.7437 - val_loss: 1.3215 - val_accuracy: 0.6910\n",
            "Epoch 18/20\n",
            "16/16 [==============================] - 1s 72ms/step - loss: 0.9705 - accuracy: 0.7506 - val_loss: 1.3156 - val_accuracy: 0.6950\n",
            "Epoch 19/20\n",
            "16/16 [==============================] - 1s 94ms/step - loss: 0.9389 - accuracy: 0.7586 - val_loss: 1.2992 - val_accuracy: 0.7050\n",
            "Epoch 20/20\n",
            "16/16 [==============================] - 1s 81ms/step - loss: 0.9076 - accuracy: 0.7672 - val_loss: 1.2923 - val_accuracy: 0.7040\n"
          ]
        },
        {
          "output_type": "execute_result",
          "data": {
            "text/plain": [
              "<keras.callbacks.History at 0x7f56a8997730>"
            ]
          },
          "metadata": {},
          "execution_count": 26
        }
      ]
    },
    {
      "cell_type": "code",
      "source": [],
      "metadata": {
        "id": "ujWxw4gRQkJQ"
      },
      "execution_count": null,
      "outputs": []
    }
  ]
}