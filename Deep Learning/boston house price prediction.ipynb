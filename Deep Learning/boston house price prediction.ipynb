{
  "nbformat": 4,
  "nbformat_minor": 0,
  "metadata": {
    "colab": {
      "provenance": []
    },
    "kernelspec": {
      "name": "python3",
      "display_name": "Python 3"
    },
    "language_info": {
      "name": "python"
    }
  },
  "cells": [
    {
      "cell_type": "code",
      "execution_count": 3,
      "metadata": {
        "id": "BnPrkbKsEDqx"
      },
      "outputs": [],
      "source": [
        "from tensorflow import keras\n",
        "from tensorflow.keras import layers\n",
        "from tensorflow.keras.datasets import boston_housing"
      ]
    },
    {
      "cell_type": "code",
      "source": [
        "(train_data, train_targets),(test_data, test_targets) = (boston_housing.load_data())"
      ],
      "metadata": {
        "colab": {
          "base_uri": "https://localhost:8080/"
        },
        "id": "S_R0D93iEXl5",
        "outputId": "e07ee55d-36fc-424a-bd74-6568ffcf0668"
      },
      "execution_count": 4,
      "outputs": [
        {
          "output_type": "stream",
          "name": "stdout",
          "text": [
            "Downloading data from https://storage.googleapis.com/tensorflow/tf-keras-datasets/boston_housing.npz\n",
            "57026/57026 [==============================] - 0s 0us/step\n"
          ]
        }
      ]
    },
    {
      "cell_type": "code",
      "source": [
        "train_data.shape"
      ],
      "metadata": {
        "colab": {
          "base_uri": "https://localhost:8080/"
        },
        "id": "nl9CcbzEEoVn",
        "outputId": "da8391de-0e1b-47d8-8369-5f6daa562181"
      },
      "execution_count": 5,
      "outputs": [
        {
          "output_type": "execute_result",
          "data": {
            "text/plain": [
              "(404, 13)"
            ]
          },
          "metadata": {},
          "execution_count": 5
        }
      ]
    },
    {
      "cell_type": "code",
      "source": [
        "test_data.shape"
      ],
      "metadata": {
        "colab": {
          "base_uri": "https://localhost:8080/"
        },
        "id": "285v6RpBEqm8",
        "outputId": "4f88e6c0-e797-44bc-ebe0-4ea128990ff3"
      },
      "execution_count": 6,
      "outputs": [
        {
          "output_type": "execute_result",
          "data": {
            "text/plain": [
              "(102, 13)"
            ]
          },
          "metadata": {},
          "execution_count": 6
        }
      ]
    },
    {
      "cell_type": "code",
      "source": [
        "train_targets"
      ],
      "metadata": {
        "colab": {
          "base_uri": "https://localhost:8080/"
        },
        "id": "CdeUUilhEss6",
        "outputId": "ee5f7bc7-b3d0-4f35-a938-bfae7cb913fb"
      },
      "execution_count": 7,
      "outputs": [
        {
          "output_type": "execute_result",
          "data": {
            "text/plain": [
              "array([15.2, 42.3, 50. , 21.1, 17.7, 18.5, 11.3, 15.6, 15.6, 14.4, 12.1,\n",
              "       17.9, 23.1, 19.9, 15.7,  8.8, 50. , 22.5, 24.1, 27.5, 10.9, 30.8,\n",
              "       32.9, 24. , 18.5, 13.3, 22.9, 34.7, 16.6, 17.5, 22.3, 16.1, 14.9,\n",
              "       23.1, 34.9, 25. , 13.9, 13.1, 20.4, 20. , 15.2, 24.7, 22.2, 16.7,\n",
              "       12.7, 15.6, 18.4, 21. , 30.1, 15.1, 18.7,  9.6, 31.5, 24.8, 19.1,\n",
              "       22. , 14.5, 11. , 32. , 29.4, 20.3, 24.4, 14.6, 19.5, 14.1, 14.3,\n",
              "       15.6, 10.5,  6.3, 19.3, 19.3, 13.4, 36.4, 17.8, 13.5, 16.5,  8.3,\n",
              "       14.3, 16. , 13.4, 28.6, 43.5, 20.2, 22. , 23. , 20.7, 12.5, 48.5,\n",
              "       14.6, 13.4, 23.7, 50. , 21.7, 39.8, 38.7, 22.2, 34.9, 22.5, 31.1,\n",
              "       28.7, 46. , 41.7, 21. , 26.6, 15. , 24.4, 13.3, 21.2, 11.7, 21.7,\n",
              "       19.4, 50. , 22.8, 19.7, 24.7, 36.2, 14.2, 18.9, 18.3, 20.6, 24.6,\n",
              "       18.2,  8.7, 44. , 10.4, 13.2, 21.2, 37. , 30.7, 22.9, 20. , 19.3,\n",
              "       31.7, 32. , 23.1, 18.8, 10.9, 50. , 19.6,  5. , 14.4, 19.8, 13.8,\n",
              "       19.6, 23.9, 24.5, 25. , 19.9, 17.2, 24.6, 13.5, 26.6, 21.4, 11.9,\n",
              "       22.6, 19.6,  8.5, 23.7, 23.1, 22.4, 20.5, 23.6, 18.4, 35.2, 23.1,\n",
              "       27.9, 20.6, 23.7, 28. , 13.6, 27.1, 23.6, 20.6, 18.2, 21.7, 17.1,\n",
              "        8.4, 25.3, 13.8, 22.2, 18.4, 20.7, 31.6, 30.5, 20.3,  8.8, 19.2,\n",
              "       19.4, 23.1, 23. , 14.8, 48.8, 22.6, 33.4, 21.1, 13.6, 32.2, 13.1,\n",
              "       23.4, 18.9, 23.9, 11.8, 23.3, 22.8, 19.6, 16.7, 13.4, 22.2, 20.4,\n",
              "       21.8, 26.4, 14.9, 24.1, 23.8, 12.3, 29.1, 21. , 19.5, 23.3, 23.8,\n",
              "       17.8, 11.5, 21.7, 19.9, 25. , 33.4, 28.5, 21.4, 24.3, 27.5, 33.1,\n",
              "       16.2, 23.3, 48.3, 22.9, 22.8, 13.1, 12.7, 22.6, 15. , 15.3, 10.5,\n",
              "       24. , 18.5, 21.7, 19.5, 33.2, 23.2,  5. , 19.1, 12.7, 22.3, 10.2,\n",
              "       13.9, 16.3, 17. , 20.1, 29.9, 17.2, 37.3, 45.4, 17.8, 23.2, 29. ,\n",
              "       22. , 18. , 17.4, 34.6, 20.1, 25. , 15.6, 24.8, 28.2, 21.2, 21.4,\n",
              "       23.8, 31. , 26.2, 17.4, 37.9, 17.5, 20. ,  8.3, 23.9,  8.4, 13.8,\n",
              "        7.2, 11.7, 17.1, 21.6, 50. , 16.1, 20.4, 20.6, 21.4, 20.6, 36.5,\n",
              "        8.5, 24.8, 10.8, 21.9, 17.3, 18.9, 36.2, 14.9, 18.2, 33.3, 21.8,\n",
              "       19.7, 31.6, 24.8, 19.4, 22.8,  7.5, 44.8, 16.8, 18.7, 50. , 50. ,\n",
              "       19.5, 20.1, 50. , 17.2, 20.8, 19.3, 41.3, 20.4, 20.5, 13.8, 16.5,\n",
              "       23.9, 20.6, 31.5, 23.3, 16.8, 14. , 33.8, 36.1, 12.8, 18.3, 18.7,\n",
              "       19.1, 29. , 30.1, 50. , 50. , 22. , 11.9, 37.6, 50. , 22.7, 20.8,\n",
              "       23.5, 27.9, 50. , 19.3, 23.9, 22.6, 15.2, 21.7, 19.2, 43.8, 20.3,\n",
              "       33.2, 19.9, 22.5, 32.7, 22. , 17.1, 19. , 15. , 16.1, 25.1, 23.7,\n",
              "       28.7, 37.2, 22.6, 16.4, 25. , 29.8, 22.1, 17.4, 18.1, 30.3, 17.5,\n",
              "       24.7, 12.6, 26.5, 28.7, 13.3, 10.4, 24.4, 23. , 20. , 17.8,  7. ,\n",
              "       11.8, 24.4, 13.8, 19.4, 25.2, 19.4, 19.4, 29.1])"
            ]
          },
          "metadata": {},
          "execution_count": 7
        }
      ]
    },
    {
      "cell_type": "code",
      "source": [
        "import numpy as np\n"
      ],
      "metadata": {
        "id": "9hmxO4LqEyoW"
      },
      "execution_count": 8,
      "outputs": []
    },
    {
      "cell_type": "code",
      "source": [
        "mean = train_data.mean(axis=0)\n",
        "train_data -= mean\n",
        "std = train_data.std(axis=0)\n",
        "train_data /= std\n",
        "test_data -= mean\n",
        "test_data /= std"
      ],
      "metadata": {
        "id": "IMQKF2smFKsn"
      },
      "execution_count": 9,
      "outputs": []
    },
    {
      "cell_type": "code",
      "source": [
        "train_data.min()"
      ],
      "metadata": {
        "colab": {
          "base_uri": "https://localhost:8080/"
        },
        "id": "uwZRaEjeFua7",
        "outputId": "35e15bfb-e8cf-4eed-fdcd-534f583baebe"
      },
      "execution_count": 10,
      "outputs": [
        {
          "output_type": "execute_result",
          "data": {
            "text/plain": [
              "-3.8172503201932733"
            ]
          },
          "metadata": {},
          "execution_count": 10
        }
      ]
    },
    {
      "cell_type": "code",
      "source": [
        "train_data.max()"
      ],
      "metadata": {
        "colab": {
          "base_uri": "https://localhost:8080/"
        },
        "id": "ptImoyAEFw8P",
        "outputId": "8245150d-4bd7-429e-ee32-3cdad0400b83"
      },
      "execution_count": 11,
      "outputs": [
        {
          "output_type": "execute_result",
          "data": {
            "text/plain": [
              "9.234847178400438"
            ]
          },
          "metadata": {},
          "execution_count": 11
        }
      ]
    },
    {
      "cell_type": "code",
      "source": [
        "from keras.utils.sidecar_evaluator import optimizer\n",
        "def build_model():\n",
        "  model = keras.Sequential([\n",
        "      layers.Dense(64, activation=\"relu\"),\n",
        "      layers.Dense(64, activation=\"relu\"),\n",
        "      layers.Dense(1)\n",
        "  ])\n",
        "  model.compile(optimizer=\"rmsprop\",\n",
        "                loss=\"mse\",\n",
        "                metrics=[\"mae\"]\n",
        "                )\n",
        "  return model"
      ],
      "metadata": {
        "id": "33WIZ35-GOrp"
      },
      "execution_count": 12,
      "outputs": []
    },
    {
      "cell_type": "code",
      "source": [
        "from tensorflow.python.ops.array_ops import numbers\n",
        "k = 4\n",
        "num_val_samples = len(train_data)//k\n",
        "num_epochs = 100\n",
        "all_scores = []\n",
        "for i in range(k):\n",
        "  print(f\"Processing fold #{i}\")\n",
        "  val_data = train_data[i*num_val_samples: (i+1)*num_val_samples]\n",
        "  val_targets = train_targets[i*num_val_samples: (i+1)*num_val_samples ]\n",
        "  partial_train_data = np.concatenate([train_data[: i*num_val_samples], train_data[(i+1)*num_val_samples:]], axis=0)\n",
        "  partial_train_targets = np.concatenate([train_targets[: i*num_val_samples], train_targets[(i+1)*num_val_samples:]], axis=0)\n",
        "  model = build_model()\n",
        "  model.fit(partial_train_data, \n",
        "            partial_train_targets,\n",
        "            epochs=num_epochs,\n",
        "            batch_size=16,\n",
        "            verbose=0\n",
        "            )\n",
        "  val_mse, val_mae = model.evaluate(val_data, val_targets, verbose=0)\n",
        "  all_scores.append(val_mae)\n",
        "\n"
      ],
      "metadata": {
        "colab": {
          "base_uri": "https://localhost:8080/"
        },
        "id": "NJXaYwJPHNYW",
        "outputId": "8650cbde-b449-4876-ed9f-45fa1e27217e"
      },
      "execution_count": 25,
      "outputs": [
        {
          "output_type": "stream",
          "name": "stdout",
          "text": [
            "Processing fold #0\n",
            "Processing fold #1\n",
            "Processing fold #2\n",
            "Processing fold #3\n"
          ]
        }
      ]
    },
    {
      "cell_type": "code",
      "source": [
        "all_scores"
      ],
      "metadata": {
        "colab": {
          "base_uri": "https://localhost:8080/"
        },
        "id": "DVjbzoALXx52",
        "outputId": "561f0ba8-8eca-487e-c408-cf2690ffed05"
      },
      "execution_count": 14,
      "outputs": [
        {
          "output_type": "execute_result",
          "data": {
            "text/plain": [
              "[1.9807302951812744, 2.455702781677246, 2.4208383560180664, 2.404228687286377]"
            ]
          },
          "metadata": {},
          "execution_count": 14
        }
      ]
    },
    {
      "cell_type": "code",
      "source": [
        "np.mean(all_scores)"
      ],
      "metadata": {
        "colab": {
          "base_uri": "https://localhost:8080/"
        },
        "id": "IQBUviuVdNXf",
        "outputId": "45637b86-caf9-49f4-cc50-613aba311fa7"
      },
      "execution_count": 15,
      "outputs": [
        {
          "output_type": "execute_result",
          "data": {
            "text/plain": [
              "2.315375030040741"
            ]
          },
          "metadata": {},
          "execution_count": 15
        }
      ]
    },
    {
      "cell_type": "code",
      "source": [
        "k=4\n",
        "num_epochs = 500\n",
        "all_history_mae = []\n",
        "for i in range(k):\n",
        "  print(f\"Processing fold #{i}\")\n",
        "  val_data = train_data[i*num_val_samples: (i+1)*num_val_samples]\n",
        "  val_targets = train_targets[i*num_val_samples: (i+1)*num_val_samples ]\n",
        "  partial_train_data = np.concatenate([train_data[: i*num_val_samples], train_data[(i+1)*num_val_samples:]], axis=0)\n",
        "  partial_train_targets = np.concatenate([train_targets[: i*num_val_samples], train_targets[(i+1)*num_val_samples:]], axis=0)\n",
        "  model = build_model()\n",
        "  history = model.fit(partial_train_data, \n",
        "            partial_train_targets,\n",
        "            validation_data = (val_data, val_targets),\n",
        "            epochs=num_epochs,\n",
        "            batch_size=16,\n",
        "            verbose=0\n",
        "            )\n",
        "  val_mse, val_mae = model.evaluate(val_data, val_targets, verbose=0)\n",
        "  mae_history = history.history[\"val_mae\"]\n",
        "  all_history_mae.append(mae_history)\n"
      ],
      "metadata": {
        "colab": {
          "base_uri": "https://localhost:8080/"
        },
        "id": "9HpqtLe9dY6R",
        "outputId": "1748bb17-1bbc-4d92-e6fa-5941fa77c650"
      },
      "execution_count": 30,
      "outputs": [
        {
          "output_type": "stream",
          "name": "stdout",
          "text": [
            "Processing fold #0\n",
            "Processing fold #1\n",
            "Processing fold #2\n",
            "Processing fold #3\n"
          ]
        }
      ]
    },
    {
      "cell_type": "code",
      "source": [
        "len(all_history_mae)"
      ],
      "metadata": {
        "colab": {
          "base_uri": "https://localhost:8080/"
        },
        "id": "67LRw-onAYhk",
        "outputId": "a88be7cc-2d70-4520-c3a6-d85f1a3336f3"
      },
      "execution_count": 37,
      "outputs": [
        {
          "output_type": "execute_result",
          "data": {
            "text/plain": [
              "4"
            ]
          },
          "metadata": {},
          "execution_count": 37
        }
      ]
    },
    {
      "cell_type": "code",
      "source": [
        "average_all_mae = [np.mean([x[i] for x in all_history_mae]) for i in range(num_epochs)]"
      ],
      "metadata": {
        "id": "BbERXZMmEEzG"
      },
      "execution_count": 42,
      "outputs": []
    },
    {
      "cell_type": "code",
      "source": [
        "print(average_all_mae)"
      ],
      "metadata": {
        "colab": {
          "base_uri": "https://localhost:8080/"
        },
        "id": "pUgN2iAQE171",
        "outputId": "ea60cff3-328f-4bf1-94a2-f74527817e0c"
      },
      "execution_count": 48,
      "outputs": [
        {
          "output_type": "stream",
          "name": "stdout",
          "text": [
            "[18.814010620117188, 15.116753578186035, 10.749727725982666, 7.262376546859741, 5.525530815124512, 4.562677621841431, 3.996072292327881, 3.6207411885261536, 3.41067373752594, 3.256449043750763, 3.176469624042511, 3.056013524532318, 3.0289050340652466, 2.9458165764808655, 2.8539721369743347, 2.8481550216674805, 2.7925246357917786, 2.8073781728744507, 2.66804701089859, 2.665538966655731, 2.620834469795227, 2.6494343876838684, 2.5808457732200623, 2.5755046606063843, 2.557596266269684, 2.521678626537323, 2.502557337284088, 2.5109198093414307, 2.482916831970215, 2.570630192756653, 2.496942698955536, 2.480615973472595, 2.50552099943161, 2.4609832167625427, 2.5253483653068542, 2.464116156101227, 2.438425987958908, 2.4330652952194214, 2.447962999343872, 2.3934502601623535, 2.440964460372925, 2.4114418625831604, 2.4473974108695984, 2.48107647895813, 2.394980013370514, 2.497674822807312, 2.450403332710266, 2.46791011095047, 2.425829589366913, 2.4201791882514954, 2.439946234226227, 2.4033477306365967, 2.3878688514232635, 2.4153356552124023, 2.4109023809432983, 2.3926221132278442, 2.4099832475185394, 2.480418026447296, 2.344039499759674, 2.4551525712013245, 2.370465576648712, 2.388014078140259, 2.4752078652381897, 2.4114420413970947, 2.40830796957016, 2.3990651667118073, 2.459951937198639, 2.3997185826301575, 2.4127974808216095, 2.402866095304489, 2.372718870639801, 2.455145001411438, 2.4481337666511536, 2.3713722825050354, 2.37025910615921, 2.355075418949127, 2.3569674491882324, 2.4153877198696136, 2.4082453846931458, 2.31883305311203, 2.3339863717556, 2.3626325130462646, 2.346290498971939, 2.341444969177246, 2.424151986837387, 2.421203851699829, 2.3332059383392334, 2.4456311464309692, 2.4196251034736633, 2.4356354475021362, 2.388485014438629, 2.41774120926857, 2.364867925643921, 2.3808789551258087, 2.3112777769565582, 2.3079659938812256, 2.332774817943573, 2.3358340859413147, 2.3220568895339966, 2.3055699467658997, 2.3471696078777313, 2.322812110185623, 2.3120849430561066, 2.3623709082603455, 2.3519007563591003, 2.3147013783454895, 2.2838460505008698, 2.3155139088630676, 2.3263325691223145, 2.387913703918457, 2.310538172721863, 2.3040632009506226, 2.290580689907074, 2.360238254070282, 2.405879318714142, 2.3327670991420746, 2.266986668109894, 2.336184650659561, 2.3793050348758698, 2.3167735934257507, 2.309016853570938, 2.280696928501129, 2.399267792701721, 2.324001967906952, 2.289808064699173, 2.272187978029251, 2.3164544105529785, 2.39821919798851, 2.315916061401367, 2.3286211788654327, 2.385058104991913, 2.3387124240398407, 2.336222618818283, 2.283076822757721, 2.290747284889221, 2.3072812259197235, 2.3171809911727905, 2.3444553911685944, 2.290387064218521, 2.2525521516799927, 2.285218298435211, 2.2646610736846924, 2.3248257637023926, 2.292592704296112, 2.3325438797473907, 2.3184878826141357, 2.312916338443756, 2.331781268119812, 2.4001625180244446, 2.3430492877960205, 2.4139495491981506, 2.3887937366962433, 2.2834874391555786, 2.4078288674354553, 2.3269120156764984, 2.34706050157547, 2.3009918928146362, 2.3231201767921448, 2.3065810799598694, 2.2652716636657715, 2.3192063868045807, 2.296283781528473, 2.322140872478485, 2.279493987560272, 2.2728828489780426, 2.2740716338157654, 2.3208012878894806, 2.36341392993927, 2.3123805820941925, 2.3355128467082977, 2.3094669580459595, 2.3501299619674683, 2.336869388818741, 2.3258517384529114, 2.315989315509796, 2.274929642677307, 2.2897019386291504, 2.302554279565811, 2.340196818113327, 2.3062071204185486, 2.349155932664871, 2.298688620328903, 2.2946816980838776, 2.425053507089615, 2.2999851405620575, 2.364399343729019, 2.390770196914673, 2.3061076402664185, 2.342201292514801, 2.3601317405700684, 2.3588204383850098, 2.3055062294006348, 2.3236453533172607, 2.3184634149074554, 2.3237394094467163, 2.3381431698799133, 2.3650161623954773, 2.36481511592865, 2.328050196170807, 2.315058320760727, 2.3547874093055725, 2.37075874209404, 2.3939295411109924, 2.3799654841423035, 2.435034453868866, 2.352103054523468, 2.3705262541770935, 2.3242931067943573, 2.4055493772029877, 2.337641090154648, 2.3346955478191376, 2.292105734348297, 2.403982162475586, 2.4104703068733215, 2.3397815227508545, 2.334495782852173, 2.397923171520233, 2.360970437526703, 2.3691950738430023, 2.330759584903717, 2.374960780143738, 2.4077093601226807, 2.410658597946167, 2.3634032607078552, 2.406752735376358, 2.361838936805725, 2.4095500111579895, 2.4015371203422546, 2.397365927696228, 2.384084701538086, 2.3232046961784363, 2.3563002943992615, 2.448066830635071, 2.3344019651412964, 2.4421926140785217, 2.3562022149562836, 2.4120128750801086, 2.4003912806510925, 2.355130434036255, 2.3996323943138123, 2.4119589924812317, 2.3850502371788025, 2.421167552471161, 2.418968617916107, 2.371901571750641, 2.406240999698639, 2.3520329296588898, 2.4334288239479065, 2.404002368450165, 2.3371562361717224, 2.415860414505005, 2.369956135749817, 2.339682549238205, 2.375266134738922, 2.362720787525177, 2.3599241375923157, 2.4412856101989746, 2.4076043367385864, 2.3598891496658325, 2.3916852474212646, 2.4275779724121094, 2.352617174386978, 2.387888789176941, 2.405244141817093, 2.4042378067970276, 2.312128961086273, 2.4072707891464233, 2.3752482533454895, 2.5216681361198425, 2.403461754322052, 2.4057691991329193, 2.409442663192749, 2.441859722137451, 2.3932706713676453, 2.4029948115348816, 2.429038882255554, 2.373767852783203, 2.418203830718994, 2.426179051399231, 2.380247473716736, 2.375542640686035, 2.4816724061965942, 2.4032773971557617, 2.4155752062797546, 2.3560357093811035, 2.3837435841560364, 2.495623767375946, 2.385423958301544, 2.4958434104919434, 2.396545112133026, 2.4379109144210815, 2.434357762336731, 2.3690826296806335, 2.472175717353821, 2.4382193088531494, 2.3762229681015015, 2.447460114955902, 2.471579909324646, 2.3944295048713684, 2.3845149278640747, 2.393654763698578, 2.41633802652359, 2.4738922715187073, 2.3909552097320557, 2.4300206303596497, 2.3907445669174194, 2.450390577316284, 2.4071648120880127, 2.471868574619293, 2.3438485264778137, 2.406303107738495, 2.4382342100143433, 2.4094313383102417, 2.4103042483329773, 2.4016690850257874, 2.3658851385116577, 2.385984420776367, 2.3951424956321716, 2.440224349498749, 2.3727452754974365, 2.4114679098129272, 2.404785990715027, 2.4775643348693848, 2.376422107219696, 2.4405570030212402, 2.4048195481300354, 2.5266153812408447, 2.352076083421707, 2.3960017561912537, 2.460601270198822, 2.4939655661582947, 2.421410024166107, 2.4208967685699463, 2.437780201435089, 2.4452986121177673, 2.443947434425354, 2.375100314617157, 2.3687268495559692, 2.4392552971839905, 2.4415159225463867, 2.475310444831848, 2.4294455647468567, 2.3608559370040894, 2.456940710544586, 2.4542930722236633, 2.4640992879867554, 2.4363864064216614, 2.3996514678001404, 2.40607088804245, 2.4048032760620117, 2.527993679046631, 2.4911768436431885, 2.3982370495796204, 2.474857747554779, 2.470204770565033, 2.426125168800354, 2.419430196285248, 2.4847745299339294, 2.379841685295105, 2.427716016769409, 2.469088554382324, 2.420798897743225, 2.379516363143921, 2.446196734905243, 2.4009315371513367, 2.400353729724884, 2.3669591546058655, 2.448958933353424, 2.419027864933014, 2.4285393357276917, 2.4376811385154724, 2.4013734459877014, 2.454416275024414, 2.423984169960022, 2.4681215286254883, 2.439081311225891, 2.4348953664302826, 2.4190502166748047, 2.523731231689453, 2.493902266025543, 2.4318865537643433, 2.3886837363243103, 2.45707368850708, 2.4766774773597717, 2.4626957774162292, 2.4315221905708313, 2.436610162258148, 2.3969669938087463, 2.464892566204071, 2.4351850748062134, 2.4630005955696106, 2.4483227729797363, 2.451834261417389, 2.4346402287483215, 2.4967687129974365, 2.4486555457115173, 2.5086259841918945, 2.443227708339691, 2.4326812028884888, 2.4227845668792725, 2.4610260128974915, 2.450643002986908, 2.431073844432831, 2.422374188899994, 2.4517782330513, 2.430009663105011, 2.455839216709137, 2.422127068042755, 2.5182490944862366, 2.459644615650177, 2.5813333988189697, 2.417781352996826, 2.476123869419098, 2.462317168712616, 2.4897186756134033, 2.457282066345215, 2.452342212200165, 2.47128164768219, 2.457211434841156, 2.466505289077759, 2.463425636291504, 2.435064733028412, 2.461309790611267, 2.4924124479293823, 2.4357776641845703, 2.4976791739463806, 2.470696806907654, 2.4712234139442444, 2.504814028739929, 2.46212899684906, 2.4881573915481567, 2.5219845175743103, 2.4782015085220337, 2.502371847629547, 2.499510407447815, 2.4510236382484436, 2.504433035850525, 2.4111587405204773, 2.571214735507965, 2.4485196471214294, 2.5119641423225403, 2.465393900871277, 2.4906307458877563, 2.577670633792877, 2.4734758138656616, 2.4974395632743835, 2.5364837646484375, 2.529330790042877, 2.5022409558296204, 2.4893484711647034, 2.542579174041748, 2.4692885279655457, 2.4677494168281555, 2.412586033344269, 2.493879020214081, 2.491514205932617, 2.469639837741852, 2.5091524720191956, 2.4362133145332336, 2.468282997608185, 2.5724778175354004, 2.503782868385315, 2.4596874117851257, 2.544404089450836, 2.5004069209098816, 2.498448431491852, 2.4782909750938416, 2.5152465105056763, 2.4926881194114685, 2.529718577861786, 2.4479254484176636, 2.536254584789276, 2.4683915972709656, 2.4676130414009094, 2.5272830724716187, 2.4759244322776794, 2.5172051787376404, 2.524640738964081, 2.481638252735138, 2.5070784091949463, 2.5308035612106323, 2.504103183746338, 2.4500951170921326, 2.5156142711639404, 2.584258735179901, 2.5548524260520935, 2.5033448934555054, 2.5070708990097046, 2.4769527316093445, 2.5543757677078247, 2.501251459121704, 2.510680139064789, 2.4791221618652344, 2.4722334146499634, 2.493813395500183, 2.5242191553115845, 2.492117702960968, 2.492656707763672, 2.52252733707428, 2.5392226576805115]\n"
          ]
        }
      ]
    },
    {
      "cell_type": "code",
      "source": [
        "len(all_history_mae[0])"
      ],
      "metadata": {
        "colab": {
          "base_uri": "https://localhost:8080/"
        },
        "id": "o7MZsmT1HcTz",
        "outputId": "60535b81-f1ad-45c3-f11c-7b62866eae67"
      },
      "execution_count": 45,
      "outputs": [
        {
          "output_type": "execute_result",
          "data": {
            "text/plain": [
              "500"
            ]
          },
          "metadata": {},
          "execution_count": 45
        }
      ]
    },
    {
      "cell_type": "code",
      "source": [
        "len(all_history_mae[1])"
      ],
      "metadata": {
        "colab": {
          "base_uri": "https://localhost:8080/"
        },
        "id": "JwcZwLT7IjQf",
        "outputId": "9891f0bb-45d6-4535-d3b5-b752ebd22e57"
      },
      "execution_count": 46,
      "outputs": [
        {
          "output_type": "execute_result",
          "data": {
            "text/plain": [
              "500"
            ]
          },
          "metadata": {},
          "execution_count": 46
        }
      ]
    },
    {
      "cell_type": "code",
      "source": [
        "len(average_all_mae)"
      ],
      "metadata": {
        "colab": {
          "base_uri": "https://localhost:8080/"
        },
        "id": "op30UzeJIm5X",
        "outputId": "33b9532c-84b4-4a8a-ce09-8bd540567a93"
      },
      "execution_count": 49,
      "outputs": [
        {
          "output_type": "execute_result",
          "data": {
            "text/plain": [
              "500"
            ]
          },
          "metadata": {},
          "execution_count": 49
        }
      ]
    },
    {
      "cell_type": "code",
      "source": [
        "import matplotlib.pyplot as plt\n",
        "plt.plot(range(1, len(average_all_mae)+1), average_all_mae)\n",
        "plt.xlabel(\"Epochs\")\n",
        "plt.ylabel(\"Validation MAE\")\n",
        "plt.show()"
      ],
      "metadata": {
        "colab": {
          "base_uri": "https://localhost:8080/",
          "height": 449
        },
        "id": "_E6fKbzpJUUE",
        "outputId": "6790ea0a-a516-4c4c-fb6d-235c2753153c"
      },
      "execution_count": 52,
      "outputs": [
        {
          "output_type": "display_data",
          "data": {
            "text/plain": [
              "<Figure size 640x480 with 1 Axes>"
            ],
            "image/png": "[encoded data removed]"
          },
          "metadata": {}
        }
      ]
    },
    {
      "cell_type": "code",
      "source": [
        "all_average_mae = average_all_mae[10:]\n",
        "plt.plot(range(1, len(all_average_mae)+1), all_average_mae)\n",
        "plt.xlabel(\"epochs\")\n",
        "plt.ylabel(\"Validation MAE\")\n",
        "plt.show()"
      ],
      "metadata": {
        "colab": {
          "base_uri": "https://localhost:8080/",
          "height": 449
        },
        "id": "ljrAT-itKb6X",
        "outputId": "676a13e3-d797-468e-f22b-3454e1081ae6"
      },
      "execution_count": 53,
      "outputs": [
        {
          "output_type": "display_data",
          "data": {
            "text/plain": [
              "<Figure size 640x480 with 1 Axes>"
            ],
            "image/png": "[encoded data removed]"
          },
          "metadata": {}
        }
      ]
    },
    {
      "cell_type": "code",
      "source": [
        "model = build_model()\n",
        "model.fit(train_data, train_targets,\n",
        "          epochs=130, batch_size=16, verbose=0)\n",
        "test_mse, test_mae = model.evaluate(test_data, test_targets)\n"
      ],
      "metadata": {
        "colab": {
          "base_uri": "https://localhost:8080/"
        },
        "id": "SkhuRNHCNsUw",
        "outputId": "111268ae-1398-45be-fb28-fba630257bcf"
      },
      "execution_count": 54,
      "outputs": [
        {
          "output_type": "stream",
          "name": "stdout",
          "text": [
            "4/4 [==============================] - 0s 4ms/step - loss: 16.2594 - mae: 2.6703\n"
          ]
        }
      ]
    },
    {
      "cell_type": "code",
      "source": [
        "test_mae"
      ],
      "metadata": {
        "colab": {
          "base_uri": "https://localhost:8080/"
        },
        "id": "bGUfx31NOmUd",
        "outputId": "2bdc91cb-654e-4ff5-9fb3-79a6c4415e4d"
      },
      "execution_count": 55,
      "outputs": [
        {
          "output_type": "execute_result",
          "data": {
            "text/plain": [
              "2.670275926589966"
            ]
          },
          "metadata": {},
          "execution_count": 55
        }
      ]
    },
    {
      "cell_type": "code",
      "source": [
        "predictions = model.predict(test_data)\n",
        "predictions[0]"
      ],
      "metadata": {
        "colab": {
          "base_uri": "https://localhost:8080/"
        },
        "id": "KSJx9L5POrEC",
        "outputId": "47c49deb-e874-42e7-ca9b-3573a820eefb"
      },
      "execution_count": 56,
      "outputs": [
        {
          "output_type": "stream",
          "name": "stdout",
          "text": [
            "4/4 [==============================] - 0s 3ms/step\n"
          ]
        },
        {
          "output_type": "execute_result",
          "data": {
            "text/plain": [
              "array([9.080494], dtype=float32)"
            ]
          },
          "metadata": {},
          "execution_count": 56
        }
      ]
    },
    {
      "cell_type": "code",
      "source": [],
      "metadata": {
        "id": "m1X_SzUOOz6q"
      },
      "execution_count": null,
      "outputs": []
    }
  ]
}