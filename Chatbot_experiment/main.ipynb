{
 "cells": [
  {
   "cell_type": "code",
   "execution_count": 8,
   "metadata": {},
   "outputs": [
    {
     "name": "stdout",
     "output_type": "stream",
     "text": [
      "tensor([[10560,   632, 92323,    42, 12592,    34, 92323,    42, 12592,   632,\n",
      "           267, 44799, 10276,   861, 27414,  1152,   427,  6440,   530, 31436,\n",
      "         29866,   361,  2910,  3509,    17, 92323,    42, 12592,   632,   267,\n",
      "          9955, 44799, 10276,   861, 27414,  1152,   427,  6440,   530, 31436,\n",
      "         29866,   361,  2910,  3509,    17, 92323,    42, 12592,   632,   267,\n",
      "          9955, 44799, 10276,   861, 27414,  1152,   427,  6440,   530, 31436,\n",
      "         29866,   361,  2910,  3509,    17, 92323,    42, 12592,   632,   267,\n",
      "          9955, 44799, 10276,   861, 27414,  1152,   427,  6440,   530, 31436,\n",
      "         29866,   361,  2910,  3509,    17, 92323,    42, 12592,   632,   267,\n",
      "          9955, 44799, 10276,   861, 27414,  1152,   427,  6440,   530, 31436,\n",
      "         29866,   361,  2910,  3509,    17, 92323,    42, 12592,   632,   267,\n",
      "          9955, 44799, 10276,   861, 27414,  1152,   427,  6440,   530, 31436,\n",
      "         29866,   361,  2910,  3509,    17, 92323,    42, 12592,   632,   267,\n",
      "          9955, 44799, 10276,   861, 27414,  1152,   427,  6440,   530, 31436,\n",
      "         29866,   361,  2910,  3509,    17, 92323,    42, 12592,   632,   267,\n",
      "          9955, 44799, 10276,   861, 27414,  1152,   427,  6440,   530, 31436,\n",
      "         29866,   361,  2910,  3509,    17, 92323,    42, 12592,   632,   267,\n",
      "          9955, 44799, 10276,   861, 27414,  1152,   427,  6440,   530, 31436,\n",
      "         29866,   361,  2910,  3509,    17, 92323,    42, 12592,   632,   267,\n",
      "          9955, 44799, 10276,   861, 27414,  1152,   427,  6440,   530, 31436]])\n",
      "What is ChatGPT? ChatGPT is a chat application that allows you to send and receive messages in real time. ChatGPT is a free chat application that allows you to send and receive messages in real time. ChatGPT is a free chat application that allows you to send and receive messages in real time. ChatGPT is a free chat application that allows you to send and receive messages in real time. ChatGPT is a free chat application that allows you to send and receive messages in real time. ChatGPT is a free chat application that allows you to send and receive messages in real time. ChatGPT is a free chat application that allows you to send and receive messages in real time. ChatGPT is a free chat application that allows you to send and receive messages in real time. ChatGPT is a free chat application that allows you to send and receive messages in real time. ChatGPT is a free chat application that allows you to send and receive\n"
     ]
    }
   ],
   "source": [
    "from transformers import pipeline\n",
    "\n",
    "from transformers import BloomTokenizerFast, BloomForCausalLM\n",
    "\n",
    "# Load the model and tokenizer\n",
    "model = BloomForCausalLM.from_pretrained(\"bigscience/bloom-560m\")\n",
    "tokenizer = BloomTokenizerFast.from_pretrained(\"bigscience/bloom-560m\")\n",
    "\n",
    "# Encode the input text\n",
    "input_text = \"What is ChatGPT?\"\n",
    "input_ids = tokenizer.encode(input_text, return_tensors=\"pt\")\n",
    "\n",
    "# Generate text\n",
    "output = model.generate(input_ids, max_length=200)\n",
    "print(output)\n",
    "output_text = tokenizer.decode(output[0], skip_special_tokens=True)\n",
    "print(output_text)\n"
   ]
  },
  {
   "cell_type": "code",
   "execution_count": 13,
   "metadata": {},
   "outputs": [
    {
     "name": "stdout",
     "output_type": "stream",
     "text": [
      " * Serving Flask app '__main__'\n",
      " * Debug mode: on\n"
     ]
    },
    {
     "name": "stderr",
     "output_type": "stream",
     "text": [
      "WARNING: This is a development server. Do not use it in a production deployment. Use a production WSGI server instead.\n",
      " * Running on http://127.0.0.1:5000\n",
      "Press CTRL+C to quit\n",
      "127.0.0.1 - - [30/Aug/2024 17:33:55] \"GET / HTTP/1.1\" 200 -\n",
      "127.0.0.1 - - [30/Aug/2024 17:33:55] \"GET /favicon.ico HTTP/1.1\" 404 -\n",
      "127.0.0.1 - - [30/Aug/2024 17:34:09] \"POST /get_response HTTP/1.1\" 200 -\n",
      "127.0.0.1 - - [30/Aug/2024 17:34:58] \"POST /get_response HTTP/1.1\" 200 -\n",
      "127.0.0.1 - - [30/Aug/2024 17:35:22] \"POST /get_response HTTP/1.1\" 200 -\n",
      "127.0.0.1 - - [30/Aug/2024 17:35:47] \"POST /get_response HTTP/1.1\" 200 -\n",
      "127.0.0.1 - - [30/Aug/2024 17:36:19] \"POST /get_response HTTP/1.1\" 200 -\n",
      "127.0.0.1 - - [30/Aug/2024 17:36:40] \"POST /get_response HTTP/1.1\" 200 -\n",
      "127.0.0.1 - - [30/Aug/2024 17:37:02] \"POST /get_response HTTP/1.1\" 200 -\n"
     ]
    }
   ],
   "source": [
    "from flask import Flask, render_template, request, jsonify\n",
    "\n",
    "app = Flask(__name__)\n",
    "\n",
    "from transformers import BloomTokenizerFast, BloomForCausalLM\n",
    "\n",
    "# Load the model and tokenizer\n",
    "model = BloomForCausalLM.from_pretrained(\"bigscience/bloom-560m\")\n",
    "tokenizer = BloomTokenizerFast.from_pretrained(\"bigscience/bloom-560m\")\n",
    "@app.route(\"/\")\n",
    "def home():\n",
    "    return render_template(\"index.html\")\n",
    "\n",
    "@app.route(\"/get_response\", methods=[\"POST\"])\n",
    "def get_response():\n",
    "    user_input = request.json.get(\"message\")\n",
    "    \n",
    "    # Generate a response using GPT-2\n",
    "    input_ids = tokenizer.encode(user_input, return_tensors=\"pt\")\n",
    "    output = model.generate(input_ids, max_length=50)\n",
    "    response = tokenizer.decode(output[0], skip_special_tokens=True)\n",
    "    \n",
    "    return jsonify({\"response\": response})\n",
    "\n",
    "if __name__ == \"__main__\":\n",
    "    app.run(debug=True, use_reloader=False)\n"
   ]
  }
 ],
 "metadata": {
  "kernelspec": {
   "display_name": "Python 3",
   "language": "python",
   "name": "python3"
  },
  "language_info": {
   "codemirror_mode": {
    "name": "ipython",
    "version": 3
   },
   "file_extension": ".py",
   "mimetype": "text/x-python",
   "name": "python",
   "nbconvert_exporter": "python",
   "pygments_lexer": "ipython3",
   "version": "3.11.4"
  }
 },
 "nbformat": 4,
 "nbformat_minor": 2
}
